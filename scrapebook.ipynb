{
 "cells": [
  {
   "cell_type": "code",
   "execution_count": 1,
   "metadata": {},
   "outputs": [],
   "source": [
    "from selenium import webdriver\n",
    "from selenium.webdriver.common.by import By\n",
    "from selenium.webdriver.chrome.options import Options\n",
    "from bs4 import BeautifulSoup\n",
    "import pandas as pd\n",
    "import time\n",
    "import random\n",
    "import os\n",
    "import re\n",
    "import requests\n",
    "from tqdm import tqdm"
   ]
  },
  {
   "cell_type": "markdown",
   "metadata": {},
   "source": [
    "- Your code will go over each index html file in the BoPhapDienDienTu/demuc directory, and open and save the html documents linked from the index page, and save them to the BoPhapDienDienTu/vbpl directory in the form full_ItemID.html. \n",
    "\t- For example for the document at \"https://vbpl.vn/TW/Pages/vbpq-toanvan.aspx?ItemID=148955&Keyword=\", your code will save it as full_148955.html\n",
    "- Also save the property page for each document in the BoPhapDienDienTu/property directory in the form p_ItemID.html. \n",
    "\t- For example, for the same document above, the property page is at \"https://vbpl.vn/tw/Pages/vbpq-thuoctinh.aspx?dvid=13&ItemID=148955&Keyword=\", your code will save it as p_148955.html\n",
    "- Also save the history page for each document in BoPhapDienDienTu/history. \n",
    "\t- For example, for the same document above, the history page is at \"https://vbpl.vn/tw/Pages/vbpq-lichsu.aspx?dvid=13&ItemID=148955&Keyword=\", your code will save it as h_148955.html\n",
    "- Also save the related document page for each document in BoPhapDienDienTu/related. \n",
    "\t- For example, for the same document above, the related document page is at https://vbpl.vn/TW/Pages/vbpq-vanbanlienquan.aspx?ItemID=148955&Keyword=, your code will save it as r_148955.html\n",
    "- Also save the PDF for each document in BoPhapDienDienTu/pdf. \n",
    "\t- For example, for the same document above, the PDF file is at https://vbpl.vn/tw/Pages/vbpq-van-ban-goc.aspx?ItemID=148955, your code will save it as pdf_148955.pdf"
   ]
  },
  {
   "cell_type": "code",
   "execution_count": null,
   "metadata": {},
   "outputs": [],
   "source": [
    "file_paths = []\n",
    "folder_path = rf\"D:\\PhapDien_semantic_search\\BoPhapDienDienTu\\demuc\"\n",
    "\n",
    "for root, dirs, files in os.walk(folder_path):\n",
    "    for file_name in files:\n",
    "        # Construct full file path\n",
    "        html_file_path = os.path.join(root, file_name)\n",
    "        if html_file_path.endswith(\".html\"):\n",
    "            file_paths.append(html_file_path)\n",
    "print(len(file_paths))\n",
    "\n",
    "all_links = []            \n",
    "for html_file_path in tqdm(file_paths, desc=\"Processing HTML files\"):\n",
    "    with open(html_file_path, \"r\", encoding=\"utf-8\") as file:\n",
    "        html_content = file.read()\n",
    "\n",
    "    # Parse the HTML content with BeautifulSoup\n",
    "    soup = BeautifulSoup(html_content, 'html.parser')\n",
    "\n",
    "    # Find all <a> tags\n",
    "    anchors = soup.find_all('a')\n",
    "\n",
    "    # Extract the hyperlinks from each <a> tag\n",
    "    http_hrefs = [\n",
    "        anchor.get('href') \n",
    "        for anchor in anchors \n",
    "        if anchor.get('href') and anchor.get('href').startswith(\"http\") and (\"ItemID=\" in anchor.get('href'))\n",
    "    ]\n",
    "    \n",
    "    # Use regex to filter and deduplicate links\n",
    "    deduped_links = list(set([\n",
    "        re.sub(r\"(&.*$)|(#.*)?$\", \"\", link)\n",
    "        for link in http_hrefs\n",
    "    ]))\n",
    "    all_links.extend(deduped_links)"
   ]
  },
  {
   "cell_type": "code",
   "execution_count": null,
   "metadata": {},
   "outputs": [],
   "source": [
    "all_links = list(set(all_links))\n",
    "print(len(all_links))\n",
    "\n",
    "# Save the links to a text file\n",
    "with open(\"vbpl_links.txt\", \"w\", encoding=\"utf-8\") as file:\n",
    "\tfor link in all_links:\n",
    "\t\tfile.write(link + \"\\n\")"
   ]
  },
  {
   "cell_type": "markdown",
   "metadata": {},
   "source": [
    "### Retrieve HTML documents"
   ]
  },
  {
   "cell_type": "code",
   "execution_count": 2,
   "metadata": {},
   "outputs": [],
   "source": [
    "driver = webdriver.Chrome()\n",
    "driver.maximize_window()\n",
    "options = Options()\n",
    "options.add_argument(\"--disable-blink-features=AutomationControlled\")"
   ]
  },
  {
   "cell_type": "code",
   "execution_count": 3,
   "metadata": {},
   "outputs": [],
   "source": [
    "f_url = \"https://vbpl.vn/TW/Pages/vbpq-toanvan.aspx?\"\n",
    "property_url = \"https://vbpl.vn/tw/Pages/vbpq-thuoctinh.aspx?dvid=13&\"\n",
    "history_url = \"https://vbpl.vn/tw/Pages/vbpq-lichsu.aspx?dvid=13&\"\n",
    "related_url = \"https://vbpl.vn/TW/Pages/vbpq-vanbanlienquan.aspx?\"\n",
    "pdf_url = \"https://vbpl.vn/tw/Pages/vbpq-van-ban-goc.aspx?\""
   ]
  },
  {
   "cell_type": "code",
   "execution_count": 9,
   "metadata": {},
   "outputs": [],
   "source": [
    "# Read the links from the file and extract IDs\n",
    "with open(\"vbpl_links.txt\", \"r\", encoding=\"utf-8\") as file:\n",
    "    all_links = file.read().splitlines()\n",
    "    all_ids = [link.split(\"ItemID=\")[1] for link in all_links]"
   ]
  },
  {
   "cell_type": "code",
   "execution_count": null,
   "metadata": {},
   "outputs": [
    {
     "name": "stderr",
     "output_type": "stream",
     "text": [
      "Retrieving related HTML: 100%|██████████| 5956/5956 [5:46:54<00:00,  3.49s/it]   "
     ]
    },
    {
     "name": "stdout",
     "output_type": "stream",
     "text": [
      "0\n"
     ]
    },
    {
     "name": "stderr",
     "output_type": "stream",
     "text": [
      "\n"
     ]
    }
   ],
   "source": [
    "def retrieval_tool(url, option, id_list=all_ids, output_url=\"p\"):\n",
    "    timed_out_ids = []       # deal with network errors\n",
    "    different_url_ids = []\t # deal with redirections\n",
    "    for id in tqdm(id_list, desc=f\"Retrieving {option} HTML\"):\n",
    "        full_url = f\"{url}ItemID={id}\"\n",
    "        \n",
    "        # Check for redirection using requests\n",
    "        try:\n",
    "            response = requests.get(full_url, allow_redirects=True, timeout=10)\n",
    "        except Exception as e:\n",
    "            print(f\"Error fetching {full_url}: {e}\")\n",
    "            timed_out_ids.append(id)\n",
    "            continue\n",
    "        \n",
    "        # If the final URL after redirection is different, skip this ID\n",
    "        if response.url != full_url:\n",
    "            different_url_ids.append(id)\n",
    "            continue\n",
    "        \n",
    "        # If no redirect is detected, proceed with Selenium scraping\n",
    "        driver.get(full_url)\n",
    "        time.sleep(random.uniform(0.5, 1))\n",
    "        html_content = driver.page_source\n",
    "        \n",
    "        # Save the HTML content to a file\n",
    "        file_path = rf\"D:\\PhapDien_semantic_search\\BoPhapDienDienTu\\{option}\\{output_url}_{id}.html\"\n",
    "        with open(file_path, \"w\", encoding=\"utf-8\") as file:\n",
    "            file.write(html_content)\n",
    "            \n",
    "    return timed_out_ids, different_url_ids\n",
    "\n",
    "# p_time_out_ids = retrieval_tool(url=property_url, option=\"property\", output_url=\"p\")[0]\n",
    "# print(len(p_time_out_ids))\n",
    "# h_time_out_ids =  retrieval_tool(url=history_url, option=\"history\", output_url=\"h\")[0]\n",
    "# print(len(h_time_out_ids))\n",
    "# r_time_out_ids = retrieval_tool(url=related_url, option=\"related\", output_url=\"r\")[0]\n",
    "# print(len(r_time_out_ids))\n",
    "# # retrieval_tool(url=f_url, option=\"full\", output_url=\"full\")[0]  # already loaded"
   ]
  },
  {
   "cell_type": "markdown",
   "metadata": {},
   "source": [
    "After scraping around 700 pages, I realized that sometimes, the URLs to the full page redirects to a different page (the 'van-ban-goc' or PDF page instead). I deleted these instances, since the full page did not seem to exist. This also prompted me to add a check for hyperlink redirection."
   ]
  },
  {
   "cell_type": "code",
   "execution_count": 5,
   "metadata": {},
   "outputs": [
    {
     "name": "stderr",
     "output_type": "stream",
     "text": [
      "Retrieving HTML documents:  66%|██████▋   | 460/694 [19:32<19:10,  4.92s/it]"
     ]
    },
    {
     "name": "stdout",
     "output_type": "stream",
     "text": [
      "Error fetching https://vbpl.vn/TW/Pages/vbpq-toanvan.aspx?ItemID=106063: HTTPSConnectionPool(host='vbpl.vn', port=443): Read timed out. (read timeout=10)\n"
     ]
    },
    {
     "name": "stderr",
     "output_type": "stream",
     "text": [
      "Retrieving HTML documents:  66%|██████▋   | 461/694 [19:42<26:00,  6.70s/it]"
     ]
    },
    {
     "name": "stdout",
     "output_type": "stream",
     "text": [
      "Error fetching https://vbpl.vn/TW/Pages/vbpq-toanvan.aspx?ItemID=129642: HTTPSConnectionPool(host='vbpl.vn', port=443): Read timed out. (read timeout=10)\n"
     ]
    },
    {
     "name": "stderr",
     "output_type": "stream",
     "text": [
      "Retrieving HTML documents: 100%|██████████| 694/694 [29:20<00:00,  2.54s/it]"
     ]
    },
    {
     "name": "stdout",
     "output_type": "stream",
     "text": [
      "107\n",
      "Deleted: D:\\PhapDien_semantic_search\\BoPhapDienDienTu\\vbpl\\full_144824.html\n",
      "Deleted: D:\\PhapDien_semantic_search\\BoPhapDienDienTu\\vbpl\\full_134555.html\n",
      "Deleted: D:\\PhapDien_semantic_search\\BoPhapDienDienTu\\vbpl\\full_139899.html\n",
      "Deleted: D:\\PhapDien_semantic_search\\BoPhapDienDienTu\\vbpl\\full_119137.html\n",
      "Deleted: D:\\PhapDien_semantic_search\\BoPhapDienDienTu\\vbpl\\full_134205.html\n",
      "Deleted: D:\\PhapDien_semantic_search\\BoPhapDienDienTu\\vbpl\\full_151083.html\n",
      "Deleted: D:\\PhapDien_semantic_search\\BoPhapDienDienTu\\vbpl\\full_151826.html\n",
      "Deleted: D:\\PhapDien_semantic_search\\BoPhapDienDienTu\\vbpl\\full_136138.html\n",
      "Deleted: D:\\PhapDien_semantic_search\\BoPhapDienDienTu\\vbpl\\full_120916.html\n",
      "Deleted: D:\\PhapDien_semantic_search\\BoPhapDienDienTu\\vbpl\\full_133858.html\n",
      "Deleted: D:\\PhapDien_semantic_search\\BoPhapDienDienTu\\vbpl\\full_18142.html\n",
      "Deleted: D:\\PhapDien_semantic_search\\BoPhapDienDienTu\\vbpl\\full_110915.html\n",
      "Deleted: D:\\PhapDien_semantic_search\\BoPhapDienDienTu\\vbpl\\full_146048.html\n",
      "Deleted: D:\\PhapDien_semantic_search\\BoPhapDienDienTu\\vbpl\\full_135065.html\n",
      "Deleted: D:\\PhapDien_semantic_search\\BoPhapDienDienTu\\vbpl\\full_143473.html\n",
      "Deleted: D:\\PhapDien_semantic_search\\BoPhapDienDienTu\\vbpl\\full_146449.html\n",
      "Deleted: D:\\PhapDien_semantic_search\\BoPhapDienDienTu\\vbpl\\full_150818.html\n",
      "Deleted: D:\\PhapDien_semantic_search\\BoPhapDienDienTu\\vbpl\\full_107454.html\n",
      "Deleted: D:\\PhapDien_semantic_search\\BoPhapDienDienTu\\vbpl\\full_119170.html\n",
      "Deleted: D:\\PhapDien_semantic_search\\BoPhapDienDienTu\\vbpl\\full_151004.html\n",
      "Deleted: D:\\PhapDien_semantic_search\\BoPhapDienDienTu\\vbpl\\full_166771.html\n",
      "Deleted: D:\\PhapDien_semantic_search\\BoPhapDienDienTu\\vbpl\\full_119171.html\n",
      "Deleted: D:\\PhapDien_semantic_search\\BoPhapDienDienTu\\vbpl\\full_118387.html\n",
      "Deleted: D:\\PhapDien_semantic_search\\BoPhapDienDienTu\\vbpl\\full_118267.html\n",
      "Deleted: D:\\PhapDien_semantic_search\\BoPhapDienDienTu\\vbpl\\full_122774.html\n",
      "Deleted: D:\\PhapDien_semantic_search\\BoPhapDienDienTu\\vbpl\\full_129333.html\n",
      "Deleted: D:\\PhapDien_semantic_search\\BoPhapDienDienTu\\vbpl\\full_151153.html\n",
      "Deleted: D:\\PhapDien_semantic_search\\BoPhapDienDienTu\\vbpl\\full_154327.html\n",
      "Deleted: D:\\PhapDien_semantic_search\\BoPhapDienDienTu\\vbpl\\full_118313.html\n",
      "Deleted: D:\\PhapDien_semantic_search\\BoPhapDienDienTu\\vbpl\\full_141951.html\n",
      "Deleted: D:\\PhapDien_semantic_search\\BoPhapDienDienTu\\vbpl\\full_138059.html\n",
      "Deleted: D:\\PhapDien_semantic_search\\BoPhapDienDienTu\\vbpl\\full_135886.html\n",
      "Deleted: D:\\PhapDien_semantic_search\\BoPhapDienDienTu\\vbpl\\full_156249.html\n",
      "Deleted: D:\\PhapDien_semantic_search\\BoPhapDienDienTu\\vbpl\\full_97369.html\n",
      "Deleted: D:\\PhapDien_semantic_search\\BoPhapDienDienTu\\vbpl\\full_108015.html\n",
      "Deleted: D:\\PhapDien_semantic_search\\BoPhapDienDienTu\\vbpl\\full_119206.html\n",
      "Deleted: D:\\PhapDien_semantic_search\\BoPhapDienDienTu\\vbpl\\full_153310.html\n",
      "Deleted: D:\\PhapDien_semantic_search\\BoPhapDienDienTu\\vbpl\\full_119211.html\n",
      "Deleted: D:\\PhapDien_semantic_search\\BoPhapDienDienTu\\vbpl\\full_118660.html\n",
      "Deleted: D:\\PhapDien_semantic_search\\BoPhapDienDienTu\\vbpl\\full_110871.html\n",
      "Deleted: D:\\PhapDien_semantic_search\\BoPhapDienDienTu\\vbpl\\full_161751.html\n",
      "Deleted: D:\\PhapDien_semantic_search\\BoPhapDienDienTu\\vbpl\\full_140231.html\n",
      "Deleted: D:\\PhapDien_semantic_search\\BoPhapDienDienTu\\vbpl\\full_119209.html\n",
      "Deleted: D:\\PhapDien_semantic_search\\BoPhapDienDienTu\\vbpl\\full_135657.html\n",
      "Deleted: D:\\PhapDien_semantic_search\\BoPhapDienDienTu\\vbpl\\full_131474.html\n",
      "Deleted: D:\\PhapDien_semantic_search\\BoPhapDienDienTu\\vbpl\\full_142537.html\n",
      "Deleted: D:\\PhapDien_semantic_search\\BoPhapDienDienTu\\vbpl\\full_143474.html\n",
      "Deleted: D:\\PhapDien_semantic_search\\BoPhapDienDienTu\\vbpl\\full_119165.html\n",
      "Deleted: D:\\PhapDien_semantic_search\\BoPhapDienDienTu\\vbpl\\full_129245.html\n",
      "Deleted: D:\\PhapDien_semantic_search\\BoPhapDienDienTu\\vbpl\\full_136070.html\n",
      "Deleted: D:\\PhapDien_semantic_search\\BoPhapDienDienTu\\vbpl\\full_137418.html\n",
      "Deleted: D:\\PhapDien_semantic_search\\BoPhapDienDienTu\\vbpl\\full_136021.html\n",
      "Deleted: D:\\PhapDien_semantic_search\\BoPhapDienDienTu\\vbpl\\full_138472.html\n",
      "Deleted: D:\\PhapDien_semantic_search\\BoPhapDienDienTu\\vbpl\\full_134654.html\n",
      "Deleted: D:\\PhapDien_semantic_search\\BoPhapDienDienTu\\vbpl\\full_132712.html\n",
      "Deleted: D:\\PhapDien_semantic_search\\BoPhapDienDienTu\\vbpl\\full_127642.html\n",
      "Deleted: D:\\PhapDien_semantic_search\\BoPhapDienDienTu\\vbpl\\full_110950.html\n",
      "Deleted: D:\\PhapDien_semantic_search\\BoPhapDienDienTu\\vbpl\\full_119132.html\n",
      "Deleted: D:\\PhapDien_semantic_search\\BoPhapDienDienTu\\vbpl\\full_140549.html\n",
      "Deleted: D:\\PhapDien_semantic_search\\BoPhapDienDienTu\\vbpl\\full_140997.html\n",
      "Deleted: D:\\PhapDien_semantic_search\\BoPhapDienDienTu\\vbpl\\full_140622.html\n",
      "Deleted: D:\\PhapDien_semantic_search\\BoPhapDienDienTu\\vbpl\\full_146468.html\n",
      "Deleted: D:\\PhapDien_semantic_search\\BoPhapDienDienTu\\vbpl\\full_143913.html\n",
      "Deleted: D:\\PhapDien_semantic_search\\BoPhapDienDienTu\\vbpl\\full_163733.html\n",
      "Deleted: D:\\PhapDien_semantic_search\\BoPhapDienDienTu\\vbpl\\full_123552.html\n",
      "Deleted: D:\\PhapDien_semantic_search\\BoPhapDienDienTu\\vbpl\\full_124983.html\n",
      "Deleted: D:\\PhapDien_semantic_search\\BoPhapDienDienTu\\vbpl\\full_119167.html\n",
      "Deleted: D:\\PhapDien_semantic_search\\BoPhapDienDienTu\\vbpl\\full_163728.html\n",
      "Deleted: D:\\PhapDien_semantic_search\\BoPhapDienDienTu\\vbpl\\full_110960.html\n",
      "Deleted: D:\\PhapDien_semantic_search\\BoPhapDienDienTu\\vbpl\\full_146017.html\n",
      "Deleted: D:\\PhapDien_semantic_search\\BoPhapDienDienTu\\vbpl\\full_110799.html\n",
      "Deleted: D:\\PhapDien_semantic_search\\BoPhapDienDienTu\\vbpl\\full_133260.html\n",
      "Deleted: D:\\PhapDien_semantic_search\\BoPhapDienDienTu\\vbpl\\full_119157.html\n",
      "Deleted: D:\\PhapDien_semantic_search\\BoPhapDienDienTu\\vbpl\\full_128211.html\n",
      "Deleted: D:\\PhapDien_semantic_search\\BoPhapDienDienTu\\vbpl\\full_146174.html\n",
      "Deleted: D:\\PhapDien_semantic_search\\BoPhapDienDienTu\\vbpl\\full_149701.html\n",
      "Deleted: D:\\PhapDien_semantic_search\\BoPhapDienDienTu\\vbpl\\full_138906.html\n",
      "Deleted: D:\\PhapDien_semantic_search\\BoPhapDienDienTu\\vbpl\\full_110897.html\n",
      "Deleted: D:\\PhapDien_semantic_search\\BoPhapDienDienTu\\vbpl\\full_119148.html\n",
      "Deleted: D:\\PhapDien_semantic_search\\BoPhapDienDienTu\\vbpl\\full_148492.html\n",
      "Deleted: D:\\PhapDien_semantic_search\\BoPhapDienDienTu\\vbpl\\full_129890.html\n",
      "Deleted: D:\\PhapDien_semantic_search\\BoPhapDienDienTu\\vbpl\\full_119181.html\n",
      "Deleted: D:\\PhapDien_semantic_search\\BoPhapDienDienTu\\vbpl\\full_150986.html\n",
      "Deleted: D:\\PhapDien_semantic_search\\BoPhapDienDienTu\\vbpl\\full_166066.html\n",
      "Deleted: D:\\PhapDien_semantic_search\\BoPhapDienDienTu\\vbpl\\full_155897.html\n",
      "Deleted: D:\\PhapDien_semantic_search\\BoPhapDienDienTu\\vbpl\\full_132859.html\n",
      "Deleted: D:\\PhapDien_semantic_search\\BoPhapDienDienTu\\vbpl\\full_118972.html\n",
      "Deleted: D:\\PhapDien_semantic_search\\BoPhapDienDienTu\\vbpl\\full_159708.html\n",
      "Deleted: D:\\PhapDien_semantic_search\\BoPhapDienDienTu\\vbpl\\full_119141.html\n",
      "Deleted: D:\\PhapDien_semantic_search\\BoPhapDienDienTu\\vbpl\\full_118870.html\n",
      "Deleted: D:\\PhapDien_semantic_search\\BoPhapDienDienTu\\vbpl\\full_118730.html\n",
      "Deleted: D:\\PhapDien_semantic_search\\BoPhapDienDienTu\\vbpl\\full_112894.html\n",
      "Deleted: D:\\PhapDien_semantic_search\\BoPhapDienDienTu\\vbpl\\full_163752.html\n",
      "Deleted: D:\\PhapDien_semantic_search\\BoPhapDienDienTu\\vbpl\\full_125057.html\n",
      "Deleted: D:\\PhapDien_semantic_search\\BoPhapDienDienTu\\vbpl\\full_152502.html\n",
      "Deleted: D:\\PhapDien_semantic_search\\BoPhapDienDienTu\\vbpl\\full_166099.html\n",
      "Deleted: D:\\PhapDien_semantic_search\\BoPhapDienDienTu\\vbpl\\full_101418.html\n",
      "Deleted: D:\\PhapDien_semantic_search\\BoPhapDienDienTu\\vbpl\\full_110946.html\n",
      "Deleted: D:\\PhapDien_semantic_search\\BoPhapDienDienTu\\vbpl\\full_137699.html\n",
      "Deleted: D:\\PhapDien_semantic_search\\BoPhapDienDienTu\\vbpl\\full_118311.html\n",
      "Deleted: D:\\PhapDien_semantic_search\\BoPhapDienDienTu\\vbpl\\full_147146.html\n",
      "Deleted: D:\\PhapDien_semantic_search\\BoPhapDienDienTu\\vbpl\\full_118967.html\n",
      "Deleted: D:\\PhapDien_semantic_search\\BoPhapDienDienTu\\vbpl\\full_142822.html\n",
      "Deleted: D:\\PhapDien_semantic_search\\BoPhapDienDienTu\\vbpl\\full_160621.html\n",
      "Deleted: D:\\PhapDien_semantic_search\\BoPhapDienDienTu\\vbpl\\full_134610.html\n",
      "Deleted: D:\\PhapDien_semantic_search\\BoPhapDienDienTu\\vbpl\\full_135363.html\n",
      "Deleted: D:\\PhapDien_semantic_search\\BoPhapDienDienTu\\vbpl\\full_158021.html\n"
     ]
    },
    {
     "name": "stderr",
     "output_type": "stream",
     "text": [
      "\n"
     ]
    }
   ],
   "source": [
    "wrong = []\n",
    "with open(\"vbpl_links.txt\", \"r\", encoding=\"utf-8\") as file:\n",
    "    all_links = file.read().splitlines()\n",
    "    all_ids = [link.split(\"ItemID=\")[1] for link in all_links]\n",
    "\n",
    "# Loop through the IDs and process each\n",
    "for id in tqdm(all_ids[:694], desc=\"Retrieving HTML documents\"):\n",
    "    full_url = f\"{f_url}ItemID={id}\"\n",
    "    \n",
    "    # Check for redirection using requests\n",
    "    try:\n",
    "        response = requests.get(full_url, allow_redirects=True, timeout=10)\n",
    "    except Exception as e:\n",
    "        print(f\"Error fetching {full_url}: {e}\")\n",
    "        continue\n",
    "    \n",
    "    if response.url != full_url:\n",
    "        wrong.append(rf\"D:\\PhapDien_semantic_search\\BoPhapDienDienTu\\vbpl\\full_{id}.html\")\n",
    "\n",
    "print(len(wrong))\n",
    "    \n",
    "for file_path in wrong:\n",
    "    try:\n",
    "        if os.path.exists(file_path):\n",
    "            os.remove(file_path)\n",
    "            print(f\"Deleted: {file_path}\")\n",
    "        else:\n",
    "            print(f\"File not found: {file_path}\")\n",
    "    except Exception as e:\n",
    "        print(f\"Error deleting {file_path}: {e}\")\n"
   ]
  },
  {
   "cell_type": "code",
   "execution_count": null,
   "metadata": {},
   "outputs": [],
   "source": [
    "# pdf downloader\n",
    "def pdf_retrieval(url, option, id_list=all_ids, output_url=\"pdf\"):\n",
    "    timed_out_ids = []       # deal with network errors\n",
    "    different_url_ids = []\t # deal with redirections\n",
    "    for id in tqdm(id_list, desc=f\"Retrieving {option} HTML\"):\n",
    "        full_url = f\"{url}ItemID={id}\"\n",
    "        \n",
    "        # Check for redirection using requests\n",
    "        try:\n",
    "            response = requests.get(full_url, allow_redirects=True, timeout=10)\n",
    "        except Exception as e:\n",
    "            print(f\"Error fetching {full_url}: {e}\")\n",
    "            timed_out_ids.append(id)\n",
    "            continue\n",
    "        \n",
    "        # If the final URL after redirection is different, skip this ID\n",
    "        if response.url != full_url:\n",
    "            different_url_ids.append(id)\n",
    "            continue\n",
    "        \n",
    "        # If no redirect is detected, proceed with Selenium scraping\n",
    "        driver.get(full_url)\n",
    "        time.sleep(random.uniform(0.5, 1))\n",
    "        html_content = driver.page_source\n",
    "        \n",
    "        # Save the HTML content to a file\n",
    "        file_path = rf\"D:\\PhapDien_semantic_search\\BoPhapDienDienTu\\{option}\\{output_url}_{id}.html\"\n",
    "        with open(file_path, \"w\", encoding=\"utf-8\") as file:\n",
    "            file.write(html_content)\n",
    "            \n",
    "    return timed_out_ids, different_url_ids"
   ]
  }
 ],
 "metadata": {
  "kernelspec": {
   "display_name": "phapdienvv",
   "language": "python",
   "name": "python3"
  },
  "language_info": {
   "codemirror_mode": {
    "name": "ipython",
    "version": 3
   },
   "file_extension": ".py",
   "mimetype": "text/x-python",
   "name": "python",
   "nbconvert_exporter": "python",
   "pygments_lexer": "ipython3",
   "version": "3.11.4"
  }
 },
 "nbformat": 4,
 "nbformat_minor": 2
}
