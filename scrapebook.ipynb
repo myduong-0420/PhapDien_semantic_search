{
 "cells": [
  {
   "cell_type": "code",
   "execution_count": 1,
   "metadata": {},
   "outputs": [],
   "source": [
    "from selenium import webdriver\n",
    "from selenium.webdriver.common.by import By\n",
    "from selenium.webdriver.chrome.options import Options\n",
    "from bs4 import BeautifulSoup\n",
    "import pandas as pd\n",
    "import time\n",
    "import random\n",
    "import os\n",
    "import re\n",
    "import requests\n",
    "from tqdm import tqdm"
   ]
  },
  {
   "cell_type": "markdown",
   "metadata": {},
   "source": [
    "- Your code will go over each index html file in the BoPhapDienDienTu/demuc directory, and open and save the html documents linked from the index page, and save them to the BoPhapDienDienTu/vbpl directory in the form full_ItemID.html. \n",
    "\t- For example for the document at \"https://vbpl.vn/TW/Pages/vbpq-toanvan.aspx?ItemID=148955&Keyword=\", your code will save it as full_148955.html\n",
    "- Also save the property page for each document in the BoPhapDienDienTu/property directory in the form p_ItemID.html. \n",
    "\t- For example, for the same document above, the property page is at \"https://vbpl.vn/tw/Pages/vbpq-thuoctinh.aspx?dvid=13&ItemID=148955&Keyword=\", your code will save it as p_148955.html\n",
    "- Also save the history page for each document in BoPhapDienDienTu/history. \n",
    "\t- For example, for the same document above, the history page is at \"https://vbpl.vn/tw/Pages/vbpq-lichsu.aspx?dvid=13&ItemID=148955&Keyword=\", your code will save it as h_148955.html\n",
    "- Also save the related document page for each document in BoPhapDienDienTu/related. \n",
    "\t- For example, for the same document above, the related document page is at https://vbpl.vn/TW/Pages/vbpq-vanbanlienquan.aspx?ItemID=148955&Keyword=, your code will save it as r_148955.html\n",
    "- Also save the PDF for each document in BoPhapDienDienTu/pdf. \n",
    "\t- For example, for the same document above, the PDF file is at https://vbpl.vn/tw/Pages/vbpq-van-ban-goc.aspx?ItemID=148955, your code will save it as pdf_148955.pdf"
   ]
  },
  {
   "cell_type": "code",
   "execution_count": null,
   "metadata": {},
   "outputs": [],
   "source": [
    "file_paths = []\n",
    "folder_path = rf\"D:\\PhapDien_semantic_search\\BoPhapDienDienTu\\demuc\"\n",
    "\n",
    "for root, dirs, files in os.walk(folder_path):\n",
    "    for file_name in files:\n",
    "        # Construct full file path\n",
    "        html_file_path = os.path.join(root, file_name)\n",
    "        if html_file_path.endswith(\".html\"):\n",
    "            file_paths.append(html_file_path)\n",
    "print(len(file_paths))\n",
    "\n",
    "all_links = []            \n",
    "for html_file_path in tqdm(file_paths, desc=\"Processing HTML files\"):\n",
    "    with open(html_file_path, \"r\", encoding=\"utf-8\") as file:\n",
    "        html_content = file.read()\n",
    "\n",
    "    # Parse the HTML content with BeautifulSoup\n",
    "    soup = BeautifulSoup(html_content, 'html.parser')\n",
    "\n",
    "    # Find all <a> tags\n",
    "    anchors = soup.find_all('a')\n",
    "\n",
    "    # Extract the hyperlinks from each <a> tag\n",
    "    http_hrefs = [\n",
    "        anchor.get('href') \n",
    "        for anchor in anchors \n",
    "        if anchor.get('href') and anchor.get('href').startswith(\"http\") and (\"ItemID=\" in anchor.get('href'))\n",
    "    ]\n",
    "    \n",
    "    # Use regex to filter and deduplicate links\n",
    "    deduped_links = list(set([\n",
    "        re.sub(r\"(&.*$)|(#.*)?$\", \"\", link)\n",
    "        for link in http_hrefs\n",
    "    ]))\n",
    "    all_links.extend(deduped_links)"
   ]
  },
  {
   "cell_type": "code",
   "execution_count": null,
   "metadata": {},
   "outputs": [
    {
     "name": "stdout",
     "output_type": "stream",
     "text": [
      "5956\n"
     ]
    }
   ],
   "source": [
    "all_links = list(set(all_links))\n",
    "print(len(all_links))\n",
    "\n",
    "# Save the links to a text file\n",
    "with open(\"vbpl_links.txt\", \"w\", encoding=\"utf-8\") as file:\n",
    "\tfor link in all_links:\n",
    "\t\tfile.write(link + \"\\n\")"
   ]
  },
  {
   "cell_type": "markdown",
   "metadata": {},
   "source": [
    "### Retrieve HTML documents"
   ]
  },
  {
   "cell_type": "code",
   "execution_count": 2,
   "metadata": {},
   "outputs": [],
   "source": [
    "driver = webdriver.Chrome()\n",
    "driver.maximize_window()\n",
    "options = Options()\n",
    "options.add_argument(\"--disable-blink-features=AutomationControlled\")"
   ]
  },
  {
   "cell_type": "code",
   "execution_count": 3,
   "metadata": {},
   "outputs": [],
   "source": [
    "f_url = \"https://vbpl.vn/TW/Pages/vbpq-toanvan.aspx?\"\n",
    "property_url = \"https://vbpl.vn/tw/Pages/vbpq-thuoctinh.aspx?dvid=13&\"\n",
    "history_url = \"https://vbpl.vn/tw/Pages/vbpq-lichsu.aspx?dvid=13&\"\n",
    "related_url = \"https://vbpl.vn/TW/Pages/vbpq-vanbanlienquan.aspx?\"\n",
    "pdf_url = \"https://vbpl.vn/tw/Pages/vbpq-van-ban-goc.aspx?\""
   ]
  },
  {
   "cell_type": "code",
   "execution_count": null,
   "metadata": {},
   "outputs": [
    {
     "name": "stderr",
     "output_type": "stream",
     "text": [
      "Retrieving property HTML:   4%|▍         | 145/3280 [08:49<3:10:58,  3.66s/it]\n"
     ]
    },
    {
     "ename": "KeyboardInterrupt",
     "evalue": "",
     "output_type": "error",
     "traceback": [
      "\u001b[1;31m---------------------------------------------------------------------------\u001b[0m",
      "\u001b[1;31mKeyboardInterrupt\u001b[0m                         Traceback (most recent call last)",
      "Cell \u001b[1;32mIn[4], line 37\u001b[0m\n\u001b[0;32m     33\u001b[0m             file\u001b[38;5;241m.\u001b[39mwrite(html_content)\n\u001b[0;32m     35\u001b[0m     \u001b[38;5;28;01mreturn\u001b[39;00m timed_out_ids, different_url_ids\n\u001b[1;32m---> 37\u001b[0m p_time_out_ids \u001b[38;5;241m=\u001b[39m \u001b[43mretrieval_tool\u001b[49m\u001b[43m(\u001b[49m\u001b[43murl\u001b[49m\u001b[38;5;241;43m=\u001b[39;49m\u001b[43mproperty_url\u001b[49m\u001b[43m,\u001b[49m\u001b[43m \u001b[49m\u001b[43moption\u001b[49m\u001b[38;5;241;43m=\u001b[39;49m\u001b[38;5;124;43m\"\u001b[39;49m\u001b[38;5;124;43mproperty\u001b[39;49m\u001b[38;5;124;43m\"\u001b[39;49m\u001b[43m,\u001b[49m\u001b[43m \u001b[49m\u001b[43moutput_url\u001b[49m\u001b[38;5;241;43m=\u001b[39;49m\u001b[38;5;124;43m\"\u001b[39;49m\u001b[38;5;124;43mp\u001b[39;49m\u001b[38;5;124;43m\"\u001b[39;49m\u001b[43m)\u001b[49m[\u001b[38;5;241m0\u001b[39m]\n\u001b[0;32m     38\u001b[0m \u001b[38;5;28mprint\u001b[39m(\u001b[38;5;28mlen\u001b[39m(p_time_out_ids))\n\u001b[0;32m     39\u001b[0m \u001b[38;5;66;03m# retrieval_tool(history_url, \"history\", \"h\")[0]\u001b[39;00m\n\u001b[0;32m     40\u001b[0m \u001b[38;5;66;03m# retrieval_tool(related_url, \"related\", \"r\")[0]\u001b[39;00m\n\u001b[0;32m     41\u001b[0m \u001b[38;5;66;03m# retrieval_tool(pdf_url, \"PDF\",\"pdf\")[0]\u001b[39;00m\n",
      "Cell \u001b[1;32mIn[4], line 26\u001b[0m, in \u001b[0;36mretrieval_tool\u001b[1;34m(url, option, id_list, output_url)\u001b[0m\n\u001b[0;32m     23\u001b[0m     \u001b[38;5;28;01mcontinue\u001b[39;00m\n\u001b[0;32m     25\u001b[0m \u001b[38;5;66;03m# If no redirect is detected, proceed with Selenium scraping\u001b[39;00m\n\u001b[1;32m---> 26\u001b[0m \u001b[43mdriver\u001b[49m\u001b[38;5;241;43m.\u001b[39;49m\u001b[43mget\u001b[49m\u001b[43m(\u001b[49m\u001b[43mfull_url\u001b[49m\u001b[43m)\u001b[49m\n\u001b[0;32m     27\u001b[0m time\u001b[38;5;241m.\u001b[39msleep(random\u001b[38;5;241m.\u001b[39muniform(\u001b[38;5;241m0.5\u001b[39m, \u001b[38;5;241m1\u001b[39m))\n\u001b[0;32m     28\u001b[0m html_content \u001b[38;5;241m=\u001b[39m driver\u001b[38;5;241m.\u001b[39mpage_source\n",
      "File \u001b[1;32md:\\PhapDien_semantic_search\\phapdienvv\\Lib\\site-packages\\selenium\\webdriver\\remote\\webdriver.py:454\u001b[0m, in \u001b[0;36mWebDriver.get\u001b[1;34m(self, url)\u001b[0m\n\u001b[0;32m    436\u001b[0m \u001b[38;5;28;01mdef\u001b[39;00m\u001b[38;5;250m \u001b[39m\u001b[38;5;21mget\u001b[39m(\u001b[38;5;28mself\u001b[39m, url: \u001b[38;5;28mstr\u001b[39m) \u001b[38;5;241m-\u001b[39m\u001b[38;5;241m>\u001b[39m \u001b[38;5;28;01mNone\u001b[39;00m:\n\u001b[0;32m    437\u001b[0m \u001b[38;5;250m    \u001b[39m\u001b[38;5;124;03m\"\"\"Navigate the browser to the specified URL in the current window or\u001b[39;00m\n\u001b[0;32m    438\u001b[0m \u001b[38;5;124;03m    tab.\u001b[39;00m\n\u001b[0;32m    439\u001b[0m \n\u001b[1;32m   (...)\u001b[0m\n\u001b[0;32m    452\u001b[0m \u001b[38;5;124;03m    >>> driver.get(\"https://example.com\")\u001b[39;00m\n\u001b[0;32m    453\u001b[0m \u001b[38;5;124;03m    \"\"\"\u001b[39;00m\n\u001b[1;32m--> 454\u001b[0m     \u001b[38;5;28;43mself\u001b[39;49m\u001b[38;5;241;43m.\u001b[39;49m\u001b[43mexecute\u001b[49m\u001b[43m(\u001b[49m\u001b[43mCommand\u001b[49m\u001b[38;5;241;43m.\u001b[39;49m\u001b[43mGET\u001b[49m\u001b[43m,\u001b[49m\u001b[43m \u001b[49m\u001b[43m{\u001b[49m\u001b[38;5;124;43m\"\u001b[39;49m\u001b[38;5;124;43murl\u001b[39;49m\u001b[38;5;124;43m\"\u001b[39;49m\u001b[43m:\u001b[49m\u001b[43m \u001b[49m\u001b[43murl\u001b[49m\u001b[43m}\u001b[49m\u001b[43m)\u001b[49m\n",
      "File \u001b[1;32md:\\PhapDien_semantic_search\\phapdienvv\\Lib\\site-packages\\selenium\\webdriver\\remote\\webdriver.py:427\u001b[0m, in \u001b[0;36mWebDriver.execute\u001b[1;34m(self, driver_command, params)\u001b[0m\n\u001b[0;32m    424\u001b[0m     \u001b[38;5;28;01melif\u001b[39;00m \u001b[38;5;124m\"\u001b[39m\u001b[38;5;124msessionId\u001b[39m\u001b[38;5;124m\"\u001b[39m \u001b[38;5;129;01mnot\u001b[39;00m \u001b[38;5;129;01min\u001b[39;00m params:\n\u001b[0;32m    425\u001b[0m         params[\u001b[38;5;124m\"\u001b[39m\u001b[38;5;124msessionId\u001b[39m\u001b[38;5;124m\"\u001b[39m] \u001b[38;5;241m=\u001b[39m \u001b[38;5;28mself\u001b[39m\u001b[38;5;241m.\u001b[39msession_id\n\u001b[1;32m--> 427\u001b[0m response \u001b[38;5;241m=\u001b[39m \u001b[38;5;28;43mself\u001b[39;49m\u001b[38;5;241;43m.\u001b[39;49m\u001b[43mcommand_executor\u001b[49m\u001b[38;5;241;43m.\u001b[39;49m\u001b[43mexecute\u001b[49m\u001b[43m(\u001b[49m\u001b[43mdriver_command\u001b[49m\u001b[43m,\u001b[49m\u001b[43m \u001b[49m\u001b[43mparams\u001b[49m\u001b[43m)\u001b[49m\n\u001b[0;32m    428\u001b[0m \u001b[38;5;28;01mif\u001b[39;00m response:\n\u001b[0;32m    429\u001b[0m     \u001b[38;5;28mself\u001b[39m\u001b[38;5;241m.\u001b[39merror_handler\u001b[38;5;241m.\u001b[39mcheck_response(response)\n",
      "File \u001b[1;32md:\\PhapDien_semantic_search\\phapdienvv\\Lib\\site-packages\\selenium\\webdriver\\remote\\remote_connection.py:404\u001b[0m, in \u001b[0;36mRemoteConnection.execute\u001b[1;34m(self, command, params)\u001b[0m\n\u001b[0;32m    402\u001b[0m trimmed \u001b[38;5;241m=\u001b[39m \u001b[38;5;28mself\u001b[39m\u001b[38;5;241m.\u001b[39m_trim_large_entries(params)\n\u001b[0;32m    403\u001b[0m LOGGER\u001b[38;5;241m.\u001b[39mdebug(\u001b[38;5;124m\"\u001b[39m\u001b[38;5;132;01m%s\u001b[39;00m\u001b[38;5;124m \u001b[39m\u001b[38;5;132;01m%s\u001b[39;00m\u001b[38;5;124m \u001b[39m\u001b[38;5;132;01m%s\u001b[39;00m\u001b[38;5;124m\"\u001b[39m, command_info[\u001b[38;5;241m0\u001b[39m], url, \u001b[38;5;28mstr\u001b[39m(trimmed))\n\u001b[1;32m--> 404\u001b[0m \u001b[38;5;28;01mreturn\u001b[39;00m \u001b[38;5;28;43mself\u001b[39;49m\u001b[38;5;241;43m.\u001b[39;49m\u001b[43m_request\u001b[49m\u001b[43m(\u001b[49m\u001b[43mcommand_info\u001b[49m\u001b[43m[\u001b[49m\u001b[38;5;241;43m0\u001b[39;49m\u001b[43m]\u001b[49m\u001b[43m,\u001b[49m\u001b[43m \u001b[49m\u001b[43murl\u001b[49m\u001b[43m,\u001b[49m\u001b[43m \u001b[49m\u001b[43mbody\u001b[49m\u001b[38;5;241;43m=\u001b[39;49m\u001b[43mdata\u001b[49m\u001b[43m)\u001b[49m\n",
      "File \u001b[1;32md:\\PhapDien_semantic_search\\phapdienvv\\Lib\\site-packages\\selenium\\webdriver\\remote\\remote_connection.py:428\u001b[0m, in \u001b[0;36mRemoteConnection._request\u001b[1;34m(self, method, url, body)\u001b[0m\n\u001b[0;32m    425\u001b[0m     body \u001b[38;5;241m=\u001b[39m \u001b[38;5;28;01mNone\u001b[39;00m\n\u001b[0;32m    427\u001b[0m \u001b[38;5;28;01mif\u001b[39;00m \u001b[38;5;28mself\u001b[39m\u001b[38;5;241m.\u001b[39m_client_config\u001b[38;5;241m.\u001b[39mkeep_alive:\n\u001b[1;32m--> 428\u001b[0m     response \u001b[38;5;241m=\u001b[39m \u001b[38;5;28;43mself\u001b[39;49m\u001b[38;5;241;43m.\u001b[39;49m\u001b[43m_conn\u001b[49m\u001b[38;5;241;43m.\u001b[39;49m\u001b[43mrequest\u001b[49m\u001b[43m(\u001b[49m\u001b[43mmethod\u001b[49m\u001b[43m,\u001b[49m\u001b[43m \u001b[49m\u001b[43murl\u001b[49m\u001b[43m,\u001b[49m\u001b[43m \u001b[49m\u001b[43mbody\u001b[49m\u001b[38;5;241;43m=\u001b[39;49m\u001b[43mbody\u001b[49m\u001b[43m,\u001b[49m\u001b[43m \u001b[49m\u001b[43mheaders\u001b[49m\u001b[38;5;241;43m=\u001b[39;49m\u001b[43mheaders\u001b[49m\u001b[43m,\u001b[49m\u001b[43m \u001b[49m\u001b[43mtimeout\u001b[49m\u001b[38;5;241;43m=\u001b[39;49m\u001b[38;5;28;43mself\u001b[39;49m\u001b[38;5;241;43m.\u001b[39;49m\u001b[43m_client_config\u001b[49m\u001b[38;5;241;43m.\u001b[39;49m\u001b[43mtimeout\u001b[49m\u001b[43m)\u001b[49m\n\u001b[0;32m    429\u001b[0m     statuscode \u001b[38;5;241m=\u001b[39m response\u001b[38;5;241m.\u001b[39mstatus\n\u001b[0;32m    430\u001b[0m \u001b[38;5;28;01melse\u001b[39;00m:\n",
      "File \u001b[1;32md:\\PhapDien_semantic_search\\phapdienvv\\Lib\\site-packages\\urllib3\\_request_methods.py:143\u001b[0m, in \u001b[0;36mRequestMethods.request\u001b[1;34m(self, method, url, body, fields, headers, json, **urlopen_kw)\u001b[0m\n\u001b[0;32m    135\u001b[0m     \u001b[38;5;28;01mreturn\u001b[39;00m \u001b[38;5;28mself\u001b[39m\u001b[38;5;241m.\u001b[39mrequest_encode_url(\n\u001b[0;32m    136\u001b[0m         method,\n\u001b[0;32m    137\u001b[0m         url,\n\u001b[1;32m   (...)\u001b[0m\n\u001b[0;32m    140\u001b[0m         \u001b[38;5;241m*\u001b[39m\u001b[38;5;241m*\u001b[39murlopen_kw,\n\u001b[0;32m    141\u001b[0m     )\n\u001b[0;32m    142\u001b[0m \u001b[38;5;28;01melse\u001b[39;00m:\n\u001b[1;32m--> 143\u001b[0m     \u001b[38;5;28;01mreturn\u001b[39;00m \u001b[38;5;28;43mself\u001b[39;49m\u001b[38;5;241;43m.\u001b[39;49m\u001b[43mrequest_encode_body\u001b[49m\u001b[43m(\u001b[49m\n\u001b[0;32m    144\u001b[0m \u001b[43m        \u001b[49m\u001b[43mmethod\u001b[49m\u001b[43m,\u001b[49m\u001b[43m \u001b[49m\u001b[43murl\u001b[49m\u001b[43m,\u001b[49m\u001b[43m \u001b[49m\u001b[43mfields\u001b[49m\u001b[38;5;241;43m=\u001b[39;49m\u001b[43mfields\u001b[49m\u001b[43m,\u001b[49m\u001b[43m \u001b[49m\u001b[43mheaders\u001b[49m\u001b[38;5;241;43m=\u001b[39;49m\u001b[43mheaders\u001b[49m\u001b[43m,\u001b[49m\u001b[43m \u001b[49m\u001b[38;5;241;43m*\u001b[39;49m\u001b[38;5;241;43m*\u001b[39;49m\u001b[43murlopen_kw\u001b[49m\n\u001b[0;32m    145\u001b[0m \u001b[43m    \u001b[49m\u001b[43m)\u001b[49m\n",
      "File \u001b[1;32md:\\PhapDien_semantic_search\\phapdienvv\\Lib\\site-packages\\urllib3\\_request_methods.py:278\u001b[0m, in \u001b[0;36mRequestMethods.request_encode_body\u001b[1;34m(self, method, url, fields, headers, encode_multipart, multipart_boundary, **urlopen_kw)\u001b[0m\n\u001b[0;32m    274\u001b[0m     extra_kw[\u001b[38;5;124m\"\u001b[39m\u001b[38;5;124mheaders\u001b[39m\u001b[38;5;124m\"\u001b[39m]\u001b[38;5;241m.\u001b[39msetdefault(\u001b[38;5;124m\"\u001b[39m\u001b[38;5;124mContent-Type\u001b[39m\u001b[38;5;124m\"\u001b[39m, content_type)\n\u001b[0;32m    276\u001b[0m extra_kw\u001b[38;5;241m.\u001b[39mupdate(urlopen_kw)\n\u001b[1;32m--> 278\u001b[0m \u001b[38;5;28;01mreturn\u001b[39;00m \u001b[38;5;28;43mself\u001b[39;49m\u001b[38;5;241;43m.\u001b[39;49m\u001b[43murlopen\u001b[49m\u001b[43m(\u001b[49m\u001b[43mmethod\u001b[49m\u001b[43m,\u001b[49m\u001b[43m \u001b[49m\u001b[43murl\u001b[49m\u001b[43m,\u001b[49m\u001b[43m \u001b[49m\u001b[38;5;241;43m*\u001b[39;49m\u001b[38;5;241;43m*\u001b[39;49m\u001b[43mextra_kw\u001b[49m\u001b[43m)\u001b[49m\n",
      "File \u001b[1;32md:\\PhapDien_semantic_search\\phapdienvv\\Lib\\site-packages\\urllib3\\poolmanager.py:443\u001b[0m, in \u001b[0;36mPoolManager.urlopen\u001b[1;34m(self, method, url, redirect, **kw)\u001b[0m\n\u001b[0;32m    441\u001b[0m     response \u001b[38;5;241m=\u001b[39m conn\u001b[38;5;241m.\u001b[39murlopen(method, url, \u001b[38;5;241m*\u001b[39m\u001b[38;5;241m*\u001b[39mkw)\n\u001b[0;32m    442\u001b[0m \u001b[38;5;28;01melse\u001b[39;00m:\n\u001b[1;32m--> 443\u001b[0m     response \u001b[38;5;241m=\u001b[39m \u001b[43mconn\u001b[49m\u001b[38;5;241;43m.\u001b[39;49m\u001b[43murlopen\u001b[49m\u001b[43m(\u001b[49m\u001b[43mmethod\u001b[49m\u001b[43m,\u001b[49m\u001b[43m \u001b[49m\u001b[43mu\u001b[49m\u001b[38;5;241;43m.\u001b[39;49m\u001b[43mrequest_uri\u001b[49m\u001b[43m,\u001b[49m\u001b[43m \u001b[49m\u001b[38;5;241;43m*\u001b[39;49m\u001b[38;5;241;43m*\u001b[39;49m\u001b[43mkw\u001b[49m\u001b[43m)\u001b[49m\n\u001b[0;32m    445\u001b[0m redirect_location \u001b[38;5;241m=\u001b[39m redirect \u001b[38;5;129;01mand\u001b[39;00m response\u001b[38;5;241m.\u001b[39mget_redirect_location()\n\u001b[0;32m    446\u001b[0m \u001b[38;5;28;01mif\u001b[39;00m \u001b[38;5;129;01mnot\u001b[39;00m redirect_location:\n",
      "File \u001b[1;32md:\\PhapDien_semantic_search\\phapdienvv\\Lib\\site-packages\\urllib3\\connectionpool.py:787\u001b[0m, in \u001b[0;36mHTTPConnectionPool.urlopen\u001b[1;34m(self, method, url, body, headers, retries, redirect, assert_same_host, timeout, pool_timeout, release_conn, chunked, body_pos, preload_content, decode_content, **response_kw)\u001b[0m\n\u001b[0;32m    784\u001b[0m response_conn \u001b[38;5;241m=\u001b[39m conn \u001b[38;5;28;01mif\u001b[39;00m \u001b[38;5;129;01mnot\u001b[39;00m release_conn \u001b[38;5;28;01melse\u001b[39;00m \u001b[38;5;28;01mNone\u001b[39;00m\n\u001b[0;32m    786\u001b[0m \u001b[38;5;66;03m# Make the request on the HTTPConnection object\u001b[39;00m\n\u001b[1;32m--> 787\u001b[0m response \u001b[38;5;241m=\u001b[39m \u001b[38;5;28;43mself\u001b[39;49m\u001b[38;5;241;43m.\u001b[39;49m\u001b[43m_make_request\u001b[49m\u001b[43m(\u001b[49m\n\u001b[0;32m    788\u001b[0m \u001b[43m    \u001b[49m\u001b[43mconn\u001b[49m\u001b[43m,\u001b[49m\n\u001b[0;32m    789\u001b[0m \u001b[43m    \u001b[49m\u001b[43mmethod\u001b[49m\u001b[43m,\u001b[49m\n\u001b[0;32m    790\u001b[0m \u001b[43m    \u001b[49m\u001b[43murl\u001b[49m\u001b[43m,\u001b[49m\n\u001b[0;32m    791\u001b[0m \u001b[43m    \u001b[49m\u001b[43mtimeout\u001b[49m\u001b[38;5;241;43m=\u001b[39;49m\u001b[43mtimeout_obj\u001b[49m\u001b[43m,\u001b[49m\n\u001b[0;32m    792\u001b[0m \u001b[43m    \u001b[49m\u001b[43mbody\u001b[49m\u001b[38;5;241;43m=\u001b[39;49m\u001b[43mbody\u001b[49m\u001b[43m,\u001b[49m\n\u001b[0;32m    793\u001b[0m \u001b[43m    \u001b[49m\u001b[43mheaders\u001b[49m\u001b[38;5;241;43m=\u001b[39;49m\u001b[43mheaders\u001b[49m\u001b[43m,\u001b[49m\n\u001b[0;32m    794\u001b[0m \u001b[43m    \u001b[49m\u001b[43mchunked\u001b[49m\u001b[38;5;241;43m=\u001b[39;49m\u001b[43mchunked\u001b[49m\u001b[43m,\u001b[49m\n\u001b[0;32m    795\u001b[0m \u001b[43m    \u001b[49m\u001b[43mretries\u001b[49m\u001b[38;5;241;43m=\u001b[39;49m\u001b[43mretries\u001b[49m\u001b[43m,\u001b[49m\n\u001b[0;32m    796\u001b[0m \u001b[43m    \u001b[49m\u001b[43mresponse_conn\u001b[49m\u001b[38;5;241;43m=\u001b[39;49m\u001b[43mresponse_conn\u001b[49m\u001b[43m,\u001b[49m\n\u001b[0;32m    797\u001b[0m \u001b[43m    \u001b[49m\u001b[43mpreload_content\u001b[49m\u001b[38;5;241;43m=\u001b[39;49m\u001b[43mpreload_content\u001b[49m\u001b[43m,\u001b[49m\n\u001b[0;32m    798\u001b[0m \u001b[43m    \u001b[49m\u001b[43mdecode_content\u001b[49m\u001b[38;5;241;43m=\u001b[39;49m\u001b[43mdecode_content\u001b[49m\u001b[43m,\u001b[49m\n\u001b[0;32m    799\u001b[0m \u001b[43m    \u001b[49m\u001b[38;5;241;43m*\u001b[39;49m\u001b[38;5;241;43m*\u001b[39;49m\u001b[43mresponse_kw\u001b[49m\u001b[43m,\u001b[49m\n\u001b[0;32m    800\u001b[0m \u001b[43m\u001b[49m\u001b[43m)\u001b[49m\n\u001b[0;32m    802\u001b[0m \u001b[38;5;66;03m# Everything went great!\u001b[39;00m\n\u001b[0;32m    803\u001b[0m clean_exit \u001b[38;5;241m=\u001b[39m \u001b[38;5;28;01mTrue\u001b[39;00m\n",
      "File \u001b[1;32md:\\PhapDien_semantic_search\\phapdienvv\\Lib\\site-packages\\urllib3\\connectionpool.py:534\u001b[0m, in \u001b[0;36mHTTPConnectionPool._make_request\u001b[1;34m(self, conn, method, url, body, headers, retries, timeout, chunked, response_conn, preload_content, decode_content, enforce_content_length)\u001b[0m\n\u001b[0;32m    532\u001b[0m \u001b[38;5;66;03m# Receive the response from the server\u001b[39;00m\n\u001b[0;32m    533\u001b[0m \u001b[38;5;28;01mtry\u001b[39;00m:\n\u001b[1;32m--> 534\u001b[0m     response \u001b[38;5;241m=\u001b[39m \u001b[43mconn\u001b[49m\u001b[38;5;241;43m.\u001b[39;49m\u001b[43mgetresponse\u001b[49m\u001b[43m(\u001b[49m\u001b[43m)\u001b[49m\n\u001b[0;32m    535\u001b[0m \u001b[38;5;28;01mexcept\u001b[39;00m (BaseSSLError, \u001b[38;5;167;01mOSError\u001b[39;00m) \u001b[38;5;28;01mas\u001b[39;00m e:\n\u001b[0;32m    536\u001b[0m     \u001b[38;5;28mself\u001b[39m\u001b[38;5;241m.\u001b[39m_raise_timeout(err\u001b[38;5;241m=\u001b[39me, url\u001b[38;5;241m=\u001b[39murl, timeout_value\u001b[38;5;241m=\u001b[39mread_timeout)\n",
      "File \u001b[1;32md:\\PhapDien_semantic_search\\phapdienvv\\Lib\\site-packages\\urllib3\\connection.py:516\u001b[0m, in \u001b[0;36mHTTPConnection.getresponse\u001b[1;34m(self)\u001b[0m\n\u001b[0;32m    513\u001b[0m _shutdown \u001b[38;5;241m=\u001b[39m \u001b[38;5;28mgetattr\u001b[39m(\u001b[38;5;28mself\u001b[39m\u001b[38;5;241m.\u001b[39msock, \u001b[38;5;124m\"\u001b[39m\u001b[38;5;124mshutdown\u001b[39m\u001b[38;5;124m\"\u001b[39m, \u001b[38;5;28;01mNone\u001b[39;00m)\n\u001b[0;32m    515\u001b[0m \u001b[38;5;66;03m# Get the response from http.client.HTTPConnection\u001b[39;00m\n\u001b[1;32m--> 516\u001b[0m httplib_response \u001b[38;5;241m=\u001b[39m \u001b[38;5;28;43msuper\u001b[39;49m\u001b[43m(\u001b[49m\u001b[43m)\u001b[49m\u001b[38;5;241;43m.\u001b[39;49m\u001b[43mgetresponse\u001b[49m\u001b[43m(\u001b[49m\u001b[43m)\u001b[49m\n\u001b[0;32m    518\u001b[0m \u001b[38;5;28;01mtry\u001b[39;00m:\n\u001b[0;32m    519\u001b[0m     assert_header_parsing(httplib_response\u001b[38;5;241m.\u001b[39mmsg)\n",
      "File \u001b[1;32m~\\AppData\\Local\\Programs\\Python\\Python311\\Lib\\http\\client.py:1378\u001b[0m, in \u001b[0;36mHTTPConnection.getresponse\u001b[1;34m(self)\u001b[0m\n\u001b[0;32m   1376\u001b[0m \u001b[38;5;28;01mtry\u001b[39;00m:\n\u001b[0;32m   1377\u001b[0m     \u001b[38;5;28;01mtry\u001b[39;00m:\n\u001b[1;32m-> 1378\u001b[0m         \u001b[43mresponse\u001b[49m\u001b[38;5;241;43m.\u001b[39;49m\u001b[43mbegin\u001b[49m\u001b[43m(\u001b[49m\u001b[43m)\u001b[49m\n\u001b[0;32m   1379\u001b[0m     \u001b[38;5;28;01mexcept\u001b[39;00m \u001b[38;5;167;01mConnectionError\u001b[39;00m:\n\u001b[0;32m   1380\u001b[0m         \u001b[38;5;28mself\u001b[39m\u001b[38;5;241m.\u001b[39mclose()\n",
      "File \u001b[1;32m~\\AppData\\Local\\Programs\\Python\\Python311\\Lib\\http\\client.py:318\u001b[0m, in \u001b[0;36mHTTPResponse.begin\u001b[1;34m(self)\u001b[0m\n\u001b[0;32m    316\u001b[0m \u001b[38;5;66;03m# read until we get a non-100 response\u001b[39;00m\n\u001b[0;32m    317\u001b[0m \u001b[38;5;28;01mwhile\u001b[39;00m \u001b[38;5;28;01mTrue\u001b[39;00m:\n\u001b[1;32m--> 318\u001b[0m     version, status, reason \u001b[38;5;241m=\u001b[39m \u001b[38;5;28;43mself\u001b[39;49m\u001b[38;5;241;43m.\u001b[39;49m\u001b[43m_read_status\u001b[49m\u001b[43m(\u001b[49m\u001b[43m)\u001b[49m\n\u001b[0;32m    319\u001b[0m     \u001b[38;5;28;01mif\u001b[39;00m status \u001b[38;5;241m!=\u001b[39m CONTINUE:\n\u001b[0;32m    320\u001b[0m         \u001b[38;5;28;01mbreak\u001b[39;00m\n",
      "File \u001b[1;32m~\\AppData\\Local\\Programs\\Python\\Python311\\Lib\\http\\client.py:279\u001b[0m, in \u001b[0;36mHTTPResponse._read_status\u001b[1;34m(self)\u001b[0m\n\u001b[0;32m    278\u001b[0m \u001b[38;5;28;01mdef\u001b[39;00m\u001b[38;5;250m \u001b[39m\u001b[38;5;21m_read_status\u001b[39m(\u001b[38;5;28mself\u001b[39m):\n\u001b[1;32m--> 279\u001b[0m     line \u001b[38;5;241m=\u001b[39m \u001b[38;5;28mstr\u001b[39m(\u001b[38;5;28mself\u001b[39m\u001b[38;5;241m.\u001b[39mfp\u001b[38;5;241m.\u001b[39mreadline(_MAXLINE \u001b[38;5;241m+\u001b[39m \u001b[38;5;241m1\u001b[39m), \u001b[38;5;124m\"\u001b[39m\u001b[38;5;124miso-8859-1\u001b[39m\u001b[38;5;124m\"\u001b[39m)\n\u001b[0;32m    280\u001b[0m     \u001b[38;5;28;01mif\u001b[39;00m \u001b[38;5;28mlen\u001b[39m(line) \u001b[38;5;241m>\u001b[39m _MAXLINE:\n\u001b[0;32m    281\u001b[0m         \u001b[38;5;28;01mraise\u001b[39;00m LineTooLong(\u001b[38;5;124m\"\u001b[39m\u001b[38;5;124mstatus line\u001b[39m\u001b[38;5;124m\"\u001b[39m)\n",
      "File \u001b[1;32m~\\AppData\\Local\\Programs\\Python\\Python311\\Lib\\socket.py:706\u001b[0m, in \u001b[0;36mSocketIO.readinto\u001b[1;34m(self, b)\u001b[0m\n\u001b[0;32m    704\u001b[0m \u001b[38;5;28;01mwhile\u001b[39;00m \u001b[38;5;28;01mTrue\u001b[39;00m:\n\u001b[0;32m    705\u001b[0m     \u001b[38;5;28;01mtry\u001b[39;00m:\n\u001b[1;32m--> 706\u001b[0m         \u001b[38;5;28;01mreturn\u001b[39;00m \u001b[38;5;28;43mself\u001b[39;49m\u001b[38;5;241;43m.\u001b[39;49m\u001b[43m_sock\u001b[49m\u001b[38;5;241;43m.\u001b[39;49m\u001b[43mrecv_into\u001b[49m\u001b[43m(\u001b[49m\u001b[43mb\u001b[49m\u001b[43m)\u001b[49m\n\u001b[0;32m    707\u001b[0m     \u001b[38;5;28;01mexcept\u001b[39;00m timeout:\n\u001b[0;32m    708\u001b[0m         \u001b[38;5;28mself\u001b[39m\u001b[38;5;241m.\u001b[39m_timeout_occurred \u001b[38;5;241m=\u001b[39m \u001b[38;5;28;01mTrue\u001b[39;00m\n",
      "\u001b[1;31mKeyboardInterrupt\u001b[0m: "
     ]
    }
   ],
   "source": [
    "# Read the links from the file and extract IDs\n",
    "with open(\"vbpl_links.txt\", \"r\", encoding=\"utf-8\") as file:\n",
    "    all_links = file.read().splitlines()\n",
    "    all_ids = [link.split(\"ItemID=\")[1] for link in all_links]\n",
    "\n",
    "def retrieval_tool(url, option, id_list=all_ids, output_url=\"p\"):\n",
    "    timed_out_ids = []       # deal with network errors\n",
    "    different_url_ids = []\t # deal with redirections\n",
    "    for id in tqdm(id_list[2676+145:], desc=f\"Retrieving {option} HTML\"):\n",
    "        full_url = f\"{url}ItemID={id}\"\n",
    "        \n",
    "        # Check for redirection using requests\n",
    "        try:\n",
    "            response = requests.get(full_url, allow_redirects=True, timeout=10)\n",
    "        except Exception as e:\n",
    "            print(f\"Error fetching {full_url}: {e}\")\n",
    "            timed_out_ids.append(id)\n",
    "            continue\n",
    "        \n",
    "        # If the final URL after redirection is different, skip this ID\n",
    "        if response.url != full_url:\n",
    "            different_url_ids.append(id)\n",
    "            continue\n",
    "        \n",
    "        # If no redirect is detected, proceed with Selenium scraping\n",
    "        driver.get(full_url)\n",
    "        time.sleep(random.uniform(0.5, 1))\n",
    "        html_content = driver.page_source\n",
    "        \n",
    "        # Save the HTML content to a file\n",
    "        file_path = rf\"D:\\PhapDien_semantic_search\\BoPhapDienDienTu\\{option}\\{output_url}_{id}.html\"\n",
    "        with open(file_path, \"w\", encoding=\"utf-8\") as file:\n",
    "            file.write(html_content)\n",
    "            \n",
    "    return timed_out_ids, different_url_ids\n",
    "\n",
    "p_time_out_ids = retrieval_tool(url=property_url, option=\"property\", output_url=\"p\")[0]\n",
    "print(len(p_time_out_ids))\n",
    "# retrieval_tool(history_url, \"history\", \"h\")[0]\n",
    "# retrieval_tool(related_url, \"related\", \"r\")[0]\n",
    "# retrieval_tool(pdf_url, \"PDF\",\"pdf\")[0]"
   ]
  },
  {
   "cell_type": "markdown",
   "metadata": {},
   "source": [
    "After scraping around 700 pages, I realized that sometimes, the URLs to the full page redirects to a different page (the 'van-ban-goc' or PDF page instead). I deleted these instances, since the full page did not seem to exist."
   ]
  },
  {
   "cell_type": "code",
   "execution_count": 5,
   "metadata": {},
   "outputs": [
    {
     "name": "stderr",
     "output_type": "stream",
     "text": [
      "Retrieving HTML documents:  66%|██████▋   | 460/694 [19:32<19:10,  4.92s/it]"
     ]
    },
    {
     "name": "stdout",
     "output_type": "stream",
     "text": [
      "Error fetching https://vbpl.vn/TW/Pages/vbpq-toanvan.aspx?ItemID=106063: HTTPSConnectionPool(host='vbpl.vn', port=443): Read timed out. (read timeout=10)\n"
     ]
    },
    {
     "name": "stderr",
     "output_type": "stream",
     "text": [
      "Retrieving HTML documents:  66%|██████▋   | 461/694 [19:42<26:00,  6.70s/it]"
     ]
    },
    {
     "name": "stdout",
     "output_type": "stream",
     "text": [
      "Error fetching https://vbpl.vn/TW/Pages/vbpq-toanvan.aspx?ItemID=129642: HTTPSConnectionPool(host='vbpl.vn', port=443): Read timed out. (read timeout=10)\n"
     ]
    },
    {
     "name": "stderr",
     "output_type": "stream",
     "text": [
      "Retrieving HTML documents: 100%|██████████| 694/694 [29:20<00:00,  2.54s/it]"
     ]
    },
    {
     "name": "stdout",
     "output_type": "stream",
     "text": [
      "107\n",
      "Deleted: D:\\PhapDien_semantic_search\\BoPhapDienDienTu\\vbpl\\full_144824.html\n",
      "Deleted: D:\\PhapDien_semantic_search\\BoPhapDienDienTu\\vbpl\\full_134555.html\n",
      "Deleted: D:\\PhapDien_semantic_search\\BoPhapDienDienTu\\vbpl\\full_139899.html\n",
      "Deleted: D:\\PhapDien_semantic_search\\BoPhapDienDienTu\\vbpl\\full_119137.html\n",
      "Deleted: D:\\PhapDien_semantic_search\\BoPhapDienDienTu\\vbpl\\full_134205.html\n",
      "Deleted: D:\\PhapDien_semantic_search\\BoPhapDienDienTu\\vbpl\\full_151083.html\n",
      "Deleted: D:\\PhapDien_semantic_search\\BoPhapDienDienTu\\vbpl\\full_151826.html\n",
      "Deleted: D:\\PhapDien_semantic_search\\BoPhapDienDienTu\\vbpl\\full_136138.html\n",
      "Deleted: D:\\PhapDien_semantic_search\\BoPhapDienDienTu\\vbpl\\full_120916.html\n",
      "Deleted: D:\\PhapDien_semantic_search\\BoPhapDienDienTu\\vbpl\\full_133858.html\n",
      "Deleted: D:\\PhapDien_semantic_search\\BoPhapDienDienTu\\vbpl\\full_18142.html\n",
      "Deleted: D:\\PhapDien_semantic_search\\BoPhapDienDienTu\\vbpl\\full_110915.html\n",
      "Deleted: D:\\PhapDien_semantic_search\\BoPhapDienDienTu\\vbpl\\full_146048.html\n",
      "Deleted: D:\\PhapDien_semantic_search\\BoPhapDienDienTu\\vbpl\\full_135065.html\n",
      "Deleted: D:\\PhapDien_semantic_search\\BoPhapDienDienTu\\vbpl\\full_143473.html\n",
      "Deleted: D:\\PhapDien_semantic_search\\BoPhapDienDienTu\\vbpl\\full_146449.html\n",
      "Deleted: D:\\PhapDien_semantic_search\\BoPhapDienDienTu\\vbpl\\full_150818.html\n",
      "Deleted: D:\\PhapDien_semantic_search\\BoPhapDienDienTu\\vbpl\\full_107454.html\n",
      "Deleted: D:\\PhapDien_semantic_search\\BoPhapDienDienTu\\vbpl\\full_119170.html\n",
      "Deleted: D:\\PhapDien_semantic_search\\BoPhapDienDienTu\\vbpl\\full_151004.html\n",
      "Deleted: D:\\PhapDien_semantic_search\\BoPhapDienDienTu\\vbpl\\full_166771.html\n",
      "Deleted: D:\\PhapDien_semantic_search\\BoPhapDienDienTu\\vbpl\\full_119171.html\n",
      "Deleted: D:\\PhapDien_semantic_search\\BoPhapDienDienTu\\vbpl\\full_118387.html\n",
      "Deleted: D:\\PhapDien_semantic_search\\BoPhapDienDienTu\\vbpl\\full_118267.html\n",
      "Deleted: D:\\PhapDien_semantic_search\\BoPhapDienDienTu\\vbpl\\full_122774.html\n",
      "Deleted: D:\\PhapDien_semantic_search\\BoPhapDienDienTu\\vbpl\\full_129333.html\n",
      "Deleted: D:\\PhapDien_semantic_search\\BoPhapDienDienTu\\vbpl\\full_151153.html\n",
      "Deleted: D:\\PhapDien_semantic_search\\BoPhapDienDienTu\\vbpl\\full_154327.html\n",
      "Deleted: D:\\PhapDien_semantic_search\\BoPhapDienDienTu\\vbpl\\full_118313.html\n",
      "Deleted: D:\\PhapDien_semantic_search\\BoPhapDienDienTu\\vbpl\\full_141951.html\n",
      "Deleted: D:\\PhapDien_semantic_search\\BoPhapDienDienTu\\vbpl\\full_138059.html\n",
      "Deleted: D:\\PhapDien_semantic_search\\BoPhapDienDienTu\\vbpl\\full_135886.html\n",
      "Deleted: D:\\PhapDien_semantic_search\\BoPhapDienDienTu\\vbpl\\full_156249.html\n",
      "Deleted: D:\\PhapDien_semantic_search\\BoPhapDienDienTu\\vbpl\\full_97369.html\n",
      "Deleted: D:\\PhapDien_semantic_search\\BoPhapDienDienTu\\vbpl\\full_108015.html\n",
      "Deleted: D:\\PhapDien_semantic_search\\BoPhapDienDienTu\\vbpl\\full_119206.html\n",
      "Deleted: D:\\PhapDien_semantic_search\\BoPhapDienDienTu\\vbpl\\full_153310.html\n",
      "Deleted: D:\\PhapDien_semantic_search\\BoPhapDienDienTu\\vbpl\\full_119211.html\n",
      "Deleted: D:\\PhapDien_semantic_search\\BoPhapDienDienTu\\vbpl\\full_118660.html\n",
      "Deleted: D:\\PhapDien_semantic_search\\BoPhapDienDienTu\\vbpl\\full_110871.html\n",
      "Deleted: D:\\PhapDien_semantic_search\\BoPhapDienDienTu\\vbpl\\full_161751.html\n",
      "Deleted: D:\\PhapDien_semantic_search\\BoPhapDienDienTu\\vbpl\\full_140231.html\n",
      "Deleted: D:\\PhapDien_semantic_search\\BoPhapDienDienTu\\vbpl\\full_119209.html\n",
      "Deleted: D:\\PhapDien_semantic_search\\BoPhapDienDienTu\\vbpl\\full_135657.html\n",
      "Deleted: D:\\PhapDien_semantic_search\\BoPhapDienDienTu\\vbpl\\full_131474.html\n",
      "Deleted: D:\\PhapDien_semantic_search\\BoPhapDienDienTu\\vbpl\\full_142537.html\n",
      "Deleted: D:\\PhapDien_semantic_search\\BoPhapDienDienTu\\vbpl\\full_143474.html\n",
      "Deleted: D:\\PhapDien_semantic_search\\BoPhapDienDienTu\\vbpl\\full_119165.html\n",
      "Deleted: D:\\PhapDien_semantic_search\\BoPhapDienDienTu\\vbpl\\full_129245.html\n",
      "Deleted: D:\\PhapDien_semantic_search\\BoPhapDienDienTu\\vbpl\\full_136070.html\n",
      "Deleted: D:\\PhapDien_semantic_search\\BoPhapDienDienTu\\vbpl\\full_137418.html\n",
      "Deleted: D:\\PhapDien_semantic_search\\BoPhapDienDienTu\\vbpl\\full_136021.html\n",
      "Deleted: D:\\PhapDien_semantic_search\\BoPhapDienDienTu\\vbpl\\full_138472.html\n",
      "Deleted: D:\\PhapDien_semantic_search\\BoPhapDienDienTu\\vbpl\\full_134654.html\n",
      "Deleted: D:\\PhapDien_semantic_search\\BoPhapDienDienTu\\vbpl\\full_132712.html\n",
      "Deleted: D:\\PhapDien_semantic_search\\BoPhapDienDienTu\\vbpl\\full_127642.html\n",
      "Deleted: D:\\PhapDien_semantic_search\\BoPhapDienDienTu\\vbpl\\full_110950.html\n",
      "Deleted: D:\\PhapDien_semantic_search\\BoPhapDienDienTu\\vbpl\\full_119132.html\n",
      "Deleted: D:\\PhapDien_semantic_search\\BoPhapDienDienTu\\vbpl\\full_140549.html\n",
      "Deleted: D:\\PhapDien_semantic_search\\BoPhapDienDienTu\\vbpl\\full_140997.html\n",
      "Deleted: D:\\PhapDien_semantic_search\\BoPhapDienDienTu\\vbpl\\full_140622.html\n",
      "Deleted: D:\\PhapDien_semantic_search\\BoPhapDienDienTu\\vbpl\\full_146468.html\n",
      "Deleted: D:\\PhapDien_semantic_search\\BoPhapDienDienTu\\vbpl\\full_143913.html\n",
      "Deleted: D:\\PhapDien_semantic_search\\BoPhapDienDienTu\\vbpl\\full_163733.html\n",
      "Deleted: D:\\PhapDien_semantic_search\\BoPhapDienDienTu\\vbpl\\full_123552.html\n",
      "Deleted: D:\\PhapDien_semantic_search\\BoPhapDienDienTu\\vbpl\\full_124983.html\n",
      "Deleted: D:\\PhapDien_semantic_search\\BoPhapDienDienTu\\vbpl\\full_119167.html\n",
      "Deleted: D:\\PhapDien_semantic_search\\BoPhapDienDienTu\\vbpl\\full_163728.html\n",
      "Deleted: D:\\PhapDien_semantic_search\\BoPhapDienDienTu\\vbpl\\full_110960.html\n",
      "Deleted: D:\\PhapDien_semantic_search\\BoPhapDienDienTu\\vbpl\\full_146017.html\n",
      "Deleted: D:\\PhapDien_semantic_search\\BoPhapDienDienTu\\vbpl\\full_110799.html\n",
      "Deleted: D:\\PhapDien_semantic_search\\BoPhapDienDienTu\\vbpl\\full_133260.html\n",
      "Deleted: D:\\PhapDien_semantic_search\\BoPhapDienDienTu\\vbpl\\full_119157.html\n",
      "Deleted: D:\\PhapDien_semantic_search\\BoPhapDienDienTu\\vbpl\\full_128211.html\n",
      "Deleted: D:\\PhapDien_semantic_search\\BoPhapDienDienTu\\vbpl\\full_146174.html\n",
      "Deleted: D:\\PhapDien_semantic_search\\BoPhapDienDienTu\\vbpl\\full_149701.html\n",
      "Deleted: D:\\PhapDien_semantic_search\\BoPhapDienDienTu\\vbpl\\full_138906.html\n",
      "Deleted: D:\\PhapDien_semantic_search\\BoPhapDienDienTu\\vbpl\\full_110897.html\n",
      "Deleted: D:\\PhapDien_semantic_search\\BoPhapDienDienTu\\vbpl\\full_119148.html\n",
      "Deleted: D:\\PhapDien_semantic_search\\BoPhapDienDienTu\\vbpl\\full_148492.html\n",
      "Deleted: D:\\PhapDien_semantic_search\\BoPhapDienDienTu\\vbpl\\full_129890.html\n",
      "Deleted: D:\\PhapDien_semantic_search\\BoPhapDienDienTu\\vbpl\\full_119181.html\n",
      "Deleted: D:\\PhapDien_semantic_search\\BoPhapDienDienTu\\vbpl\\full_150986.html\n",
      "Deleted: D:\\PhapDien_semantic_search\\BoPhapDienDienTu\\vbpl\\full_166066.html\n",
      "Deleted: D:\\PhapDien_semantic_search\\BoPhapDienDienTu\\vbpl\\full_155897.html\n",
      "Deleted: D:\\PhapDien_semantic_search\\BoPhapDienDienTu\\vbpl\\full_132859.html\n",
      "Deleted: D:\\PhapDien_semantic_search\\BoPhapDienDienTu\\vbpl\\full_118972.html\n",
      "Deleted: D:\\PhapDien_semantic_search\\BoPhapDienDienTu\\vbpl\\full_159708.html\n",
      "Deleted: D:\\PhapDien_semantic_search\\BoPhapDienDienTu\\vbpl\\full_119141.html\n",
      "Deleted: D:\\PhapDien_semantic_search\\BoPhapDienDienTu\\vbpl\\full_118870.html\n",
      "Deleted: D:\\PhapDien_semantic_search\\BoPhapDienDienTu\\vbpl\\full_118730.html\n",
      "Deleted: D:\\PhapDien_semantic_search\\BoPhapDienDienTu\\vbpl\\full_112894.html\n",
      "Deleted: D:\\PhapDien_semantic_search\\BoPhapDienDienTu\\vbpl\\full_163752.html\n",
      "Deleted: D:\\PhapDien_semantic_search\\BoPhapDienDienTu\\vbpl\\full_125057.html\n",
      "Deleted: D:\\PhapDien_semantic_search\\BoPhapDienDienTu\\vbpl\\full_152502.html\n",
      "Deleted: D:\\PhapDien_semantic_search\\BoPhapDienDienTu\\vbpl\\full_166099.html\n",
      "Deleted: D:\\PhapDien_semantic_search\\BoPhapDienDienTu\\vbpl\\full_101418.html\n",
      "Deleted: D:\\PhapDien_semantic_search\\BoPhapDienDienTu\\vbpl\\full_110946.html\n",
      "Deleted: D:\\PhapDien_semantic_search\\BoPhapDienDienTu\\vbpl\\full_137699.html\n",
      "Deleted: D:\\PhapDien_semantic_search\\BoPhapDienDienTu\\vbpl\\full_118311.html\n",
      "Deleted: D:\\PhapDien_semantic_search\\BoPhapDienDienTu\\vbpl\\full_147146.html\n",
      "Deleted: D:\\PhapDien_semantic_search\\BoPhapDienDienTu\\vbpl\\full_118967.html\n",
      "Deleted: D:\\PhapDien_semantic_search\\BoPhapDienDienTu\\vbpl\\full_142822.html\n",
      "Deleted: D:\\PhapDien_semantic_search\\BoPhapDienDienTu\\vbpl\\full_160621.html\n",
      "Deleted: D:\\PhapDien_semantic_search\\BoPhapDienDienTu\\vbpl\\full_134610.html\n",
      "Deleted: D:\\PhapDien_semantic_search\\BoPhapDienDienTu\\vbpl\\full_135363.html\n",
      "Deleted: D:\\PhapDien_semantic_search\\BoPhapDienDienTu\\vbpl\\full_158021.html\n"
     ]
    },
    {
     "name": "stderr",
     "output_type": "stream",
     "text": [
      "\n"
     ]
    }
   ],
   "source": [
    "wrong = []\n",
    "with open(\"vbpl_links.txt\", \"r\", encoding=\"utf-8\") as file:\n",
    "    all_links = file.read().splitlines()\n",
    "    all_ids = [link.split(\"ItemID=\")[1] for link in all_links]\n",
    "\n",
    "# Loop through the IDs and process each\n",
    "for id in tqdm(all_ids[:694], desc=\"Retrieving HTML documents\"):\n",
    "    full_url = f\"{f_url}ItemID={id}\"\n",
    "    \n",
    "    # Check for redirection using requests\n",
    "    try:\n",
    "        response = requests.get(full_url, allow_redirects=True, timeout=10)\n",
    "    except Exception as e:\n",
    "        print(f\"Error fetching {full_url}: {e}\")\n",
    "        continue\n",
    "    \n",
    "    if response.url != full_url:\n",
    "        wrong.append(rf\"D:\\PhapDien_semantic_search\\BoPhapDienDienTu\\vbpl\\full_{id}.html\")\n",
    "\n",
    "print(len(wrong))\n",
    "    \n",
    "for file_path in wrong:\n",
    "    try:\n",
    "        if os.path.exists(file_path):\n",
    "            os.remove(file_path)\n",
    "            print(f\"Deleted: {file_path}\")\n",
    "        else:\n",
    "            print(f\"File not found: {file_path}\")\n",
    "    except Exception as e:\n",
    "        print(f\"Error deleting {file_path}: {e}\")\n"
   ]
  },
  {
   "cell_type": "code",
   "execution_count": null,
   "metadata": {},
   "outputs": [],
   "source": [
    "with open(\"vbpl_links.txt\", \"r\", encoding=\"utf-8\") as file:\n",
    "    all_links = file.read().splitlines()\n",
    "    all_ids = [link.split(\"ItemID=\")[1] for link in all_links]\n",
    "\n",
    "# Loop through the IDs and process each\n",
    "time_out_ids = []\n",
    "for id in tqdm(all_ids[2474:], desc=\"Retrieving HTML documents\"):\n",
    "    full_url = f\"{f_url}ItemID={id}\"\n",
    "    \n",
    "    # Check for redirection using requests\n",
    "    try:\n",
    "        response = requests.get(full_url, allow_redirects=True, timeout=10)\n",
    "    except Exception as e:\n",
    "        print(f\"Error fetching {full_url}: {e}\")\n",
    "        time_out_ids.append(id)\n",
    "        continue\n",
    "    \n",
    "    # If the final URL after redirection is different, skip this ID\n",
    "    if response.url != full_url:\n",
    "        print(f\"Skipped: {full_url} redirected to {response.url}\")\n",
    "        continue\n",
    "    \n",
    "    # If no redirect is detected, proceed with Selenium scraping\n",
    "    driver.get(full_url)\n",
    "    time.sleep(random.uniform(0.5, 1))\n",
    "    html_content = driver.page_source\n",
    "    \n",
    "    # Save the HTML content to a file\n",
    "    file_path = rf\"D:\\PhapDien_semantic_search\\BoPhapDienDienTu\\vbpl\\full_{id}.html\"\n",
    "    with open(file_path, \"w\", encoding=\"utf-8\") as file:\n",
    "        file.write(html_content)"
   ]
  }
 ],
 "metadata": {
  "kernelspec": {
   "display_name": "phapdienvv",
   "language": "python",
   "name": "python3"
  },
  "language_info": {
   "codemirror_mode": {
    "name": "ipython",
    "version": 3
   },
   "file_extension": ".py",
   "mimetype": "text/x-python",
   "name": "python",
   "nbconvert_exporter": "python",
   "pygments_lexer": "ipython3",
   "version": "3.11.4"
  }
 },
 "nbformat": 4,
 "nbformat_minor": 2
}
