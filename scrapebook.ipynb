{
 "cells": [
  {
   "cell_type": "code",
   "execution_count": 1,
   "metadata": {},
   "outputs": [],
   "source": [
    "from selenium import webdriver\n",
    "from selenium.webdriver.common.by import By\n",
    "from selenium.webdriver.chrome.service import Service\n",
    "from webdriver_manager.chrome import ChromeDriverManager\n",
    "from selenium.webdriver.chrome.options import Options\n",
    "from urllib.parse import urljoin\n",
    "from bs4 import BeautifulSoup\n",
    "import pandas as pd\n",
    "import time\n",
    "import random\n",
    "import os\n",
    "import re\n",
    "import requests\n",
    "from tqdm import tqdm"
   ]
  },
  {
   "cell_type": "markdown",
   "metadata": {},
   "source": [
    "- Your code will go over each index html file in the BoPhapDienDienTu/demuc directory, and open and save the html documents linked from the index page, and save them to the BoPhapDienDienTu/vbpl directory in the form full_ItemID.html. \n",
    "\t- For example for the document at \"https://vbpl.vn/TW/Pages/vbpq-toanvan.aspx?ItemID=148955&Keyword=\", your code will save it as full_148955.html\n",
    "- Also save the property page for each document in the BoPhapDienDienTu/property directory in the form p_ItemID.html. \n",
    "\t- For example, for the same document above, the property page is at \"https://vbpl.vn/tw/Pages/vbpq-thuoctinh.aspx?dvid=13&ItemID=148955&Keyword=\", your code will save it as p_148955.html\n",
    "- Also save the history page for each document in BoPhapDienDienTu/history. \n",
    "\t- For example, for the same document above, the history page is at \"https://vbpl.vn/tw/Pages/vbpq-lichsu.aspx?dvid=13&ItemID=148955&Keyword=\", your code will save it as h_148955.html\n",
    "- Also save the related document page for each document in BoPhapDienDienTu/related. \n",
    "\t- For example, for the same document above, the related document page is at https://vbpl.vn/TW/Pages/vbpq-vanbanlienquan.aspx?ItemID=148955&Keyword=, your code will save it as r_148955.html\n",
    "- Also save the PDF for each document in BoPhapDienDienTu/pdf. \n",
    "\t- For example, for the same document above, the PDF file is at https://vbpl.vn/tw/Pages/vbpq-van-ban-goc.aspx?ItemID=148955, your code will save it as pdf_148955.pdf"
   ]
  },
  {
   "cell_type": "code",
   "execution_count": null,
   "metadata": {},
   "outputs": [],
   "source": [
    "file_paths = []\n",
    "folder_path = rf\"D:\\PhapDien_semantic_search\\BoPhapDienDienTu\\demuc\"\n",
    "\n",
    "for root, dirs, files in os.walk(folder_path):\n",
    "    for file_name in files:\n",
    "        # Construct full file path\n",
    "        html_file_path = os.path.join(root, file_name)\n",
    "        if html_file_path.endswith(\".html\"):\n",
    "            file_paths.append(html_file_path)\n",
    "print(len(file_paths))\n",
    "\n",
    "all_links = []            \n",
    "for html_file_path in tqdm(file_paths, desc=\"Processing HTML files\"):\n",
    "    with open(html_file_path, \"r\", encoding=\"utf-8\") as file:\n",
    "        html_content = file.read()\n",
    "\n",
    "    # Parse the HTML content with BeautifulSoup\n",
    "    soup = BeautifulSoup(html_content, 'html.parser')\n",
    "\n",
    "    # Find all <a> tags\n",
    "    anchors = soup.find_all('a')\n",
    "\n",
    "    # Extract the hyperlinks from each <a> tag\n",
    "    http_hrefs = [\n",
    "        anchor.get('href') \n",
    "        for anchor in anchors \n",
    "        if anchor.get('href') and anchor.get('href').startswith(\"http\") and (\"ItemID=\" in anchor.get('href'))\n",
    "    ]\n",
    "    \n",
    "    # Use regex to filter and deduplicate links\n",
    "    deduped_links = list(set([\n",
    "        re.sub(r\"(&.*$)|(#.*)?$\", \"\", link)\n",
    "        for link in http_hrefs\n",
    "    ]))\n",
    "    all_links.extend(deduped_links)"
   ]
  },
  {
   "cell_type": "code",
   "execution_count": null,
   "metadata": {},
   "outputs": [],
   "source": [
    "all_links = list(set(all_links))\n",
    "print(len(all_links))\n",
    "\n",
    "# Save the links to a text file\n",
    "with open(\"vbpl_links.txt\", \"w\", encoding=\"utf-8\") as file:\n",
    "\tfor link in all_links:\n",
    "\t\tfile.write(link + \"\\n\")"
   ]
  },
  {
   "cell_type": "markdown",
   "metadata": {},
   "source": [
    "### Retrieve HTML documents"
   ]
  },
  {
   "cell_type": "code",
   "execution_count": 2,
   "metadata": {},
   "outputs": [],
   "source": [
    "driver = webdriver.Chrome()\n",
    "driver.maximize_window()\n",
    "options = Options()\n",
    "options.add_argument(\"--disable-blink-features=AutomationControlled\")\n",
    "options.add_argument(\"--headless\")\n",
    "driver = webdriver.Chrome(service=Service(ChromeDriverManager().install()), options=options)"
   ]
  },
  {
   "cell_type": "code",
   "execution_count": 3,
   "metadata": {},
   "outputs": [],
   "source": [
    "f_url = \"https://vbpl.vn/TW/Pages/vbpq-toanvan.aspx?\"\n",
    "property_url = \"https://vbpl.vn/tw/Pages/vbpq-thuoctinh.aspx?dvid=13&\"\n",
    "history_url = \"https://vbpl.vn/tw/Pages/vbpq-lichsu.aspx?dvid=13&\"\n",
    "related_url = \"https://vbpl.vn/TW/Pages/vbpq-vanbanlienquan.aspx?\"\n",
    "pdf_url = \"https://vbpl.vn/tw/Pages/vbpq-van-ban-goc.aspx?\""
   ]
  },
  {
   "cell_type": "code",
   "execution_count": 5,
   "metadata": {},
   "outputs": [],
   "source": [
    "# Read the links from the file and extract IDs\n",
    "with open(\"vbpl_links.txt\", \"r\", encoding=\"utf-8\") as file:\n",
    "    all_links = file.read().splitlines()\n",
    "    all_ids = [link.split(\"ItemID=\")[1] for link in all_links]"
   ]
  },
  {
   "cell_type": "code",
   "execution_count": null,
   "metadata": {},
   "outputs": [
    {
     "name": "stderr",
     "output_type": "stream",
     "text": [
      "Retrieving related HTML: 100%|██████████| 5956/5956 [5:46:54<00:00,  3.49s/it]   "
     ]
    },
    {
     "name": "stdout",
     "output_type": "stream",
     "text": [
      "0\n"
     ]
    },
    {
     "name": "stderr",
     "output_type": "stream",
     "text": [
      "\n"
     ]
    }
   ],
   "source": [
    "def retrieval_tool(url, option, id_list=all_ids, output_url=\"p\"):\n",
    "    timed_out_ids = []       # deal with network errors\n",
    "    different_url_ids = []\t # deal with redirections\n",
    "    for id in tqdm(id_list, desc=f\"Retrieving {option} HTML\"):\n",
    "        full_url = f\"{url}ItemID={id}\"\n",
    "        \n",
    "        # Check for redirection using requests\n",
    "        try:\n",
    "            response = requests.get(full_url, allow_redirects=True, timeout=10)\n",
    "        except Exception as e:\n",
    "            print(f\"Error fetching {full_url}: {e}\")\n",
    "            timed_out_ids.append(id)\n",
    "            continue\n",
    "        \n",
    "        # If the final URL after redirection is different, skip this ID\n",
    "        if response.url != full_url:\n",
    "            different_url_ids.append(id)\n",
    "            continue\n",
    "        \n",
    "        # If no redirect is detected, proceed with Selenium scraping\n",
    "        driver.get(full_url)\n",
    "        time.sleep(random.uniform(0.5, 1))\n",
    "        html_content = driver.page_source\n",
    "        \n",
    "        # Save the HTML content to a file\n",
    "        file_path = rf\"D:\\PhapDien_semantic_search\\BoPhapDienDienTu\\{option}\\{output_url}_{id}.html\"\n",
    "        with open(file_path, \"w\", encoding=\"utf-8\") as file:\n",
    "            file.write(html_content)\n",
    "            \n",
    "    return timed_out_ids, different_url_ids\n",
    "\n",
    "# p_time_out_ids = retrieval_tool(url=property_url, option=\"property\", output_url=\"p\")[0]\n",
    "# print(len(p_time_out_ids))\n",
    "# h_time_out_ids =  retrieval_tool(url=history_url, option=\"history\", output_url=\"h\")[0]\n",
    "# print(len(h_time_out_ids))\n",
    "# r_time_out_ids = retrieval_tool(url=related_url, option=\"related\", output_url=\"r\")[0]\n",
    "# print(len(r_time_out_ids))\n",
    "# # retrieval_tool(url=f_url, option=\"full\", output_url=\"full\")[0]  # already loaded"
   ]
  },
  {
   "cell_type": "markdown",
   "metadata": {},
   "source": [
    "After scraping around 700 pages, I realized that sometimes, the URLs to the full page redirects to a different page (the 'van-ban-goc' or PDF page instead). I deleted these instances, since the full page did not seem to exist. This also prompted me to add a check for hyperlink redirection."
   ]
  },
  {
   "cell_type": "code",
   "execution_count": 5,
   "metadata": {},
   "outputs": [
    {
     "name": "stderr",
     "output_type": "stream",
     "text": [
      "Retrieving HTML documents:  66%|██████▋   | 460/694 [19:32<19:10,  4.92s/it]"
     ]
    },
    {
     "name": "stdout",
     "output_type": "stream",
     "text": [
      "Error fetching https://vbpl.vn/TW/Pages/vbpq-toanvan.aspx?ItemID=106063: HTTPSConnectionPool(host='vbpl.vn', port=443): Read timed out. (read timeout=10)\n"
     ]
    },
    {
     "name": "stderr",
     "output_type": "stream",
     "text": [
      "Retrieving HTML documents:  66%|██████▋   | 461/694 [19:42<26:00,  6.70s/it]"
     ]
    },
    {
     "name": "stdout",
     "output_type": "stream",
     "text": [
      "Error fetching https://vbpl.vn/TW/Pages/vbpq-toanvan.aspx?ItemID=129642: HTTPSConnectionPool(host='vbpl.vn', port=443): Read timed out. (read timeout=10)\n"
     ]
    },
    {
     "name": "stderr",
     "output_type": "stream",
     "text": [
      "Retrieving HTML documents: 100%|██████████| 694/694 [29:20<00:00,  2.54s/it]"
     ]
    },
    {
     "name": "stdout",
     "output_type": "stream",
     "text": [
      "107\n",
      "Deleted: D:\\PhapDien_semantic_search\\BoPhapDienDienTu\\vbpl\\full_144824.html\n",
      "Deleted: D:\\PhapDien_semantic_search\\BoPhapDienDienTu\\vbpl\\full_134555.html\n",
      "Deleted: D:\\PhapDien_semantic_search\\BoPhapDienDienTu\\vbpl\\full_139899.html\n",
      "Deleted: D:\\PhapDien_semantic_search\\BoPhapDienDienTu\\vbpl\\full_119137.html\n",
      "Deleted: D:\\PhapDien_semantic_search\\BoPhapDienDienTu\\vbpl\\full_134205.html\n",
      "Deleted: D:\\PhapDien_semantic_search\\BoPhapDienDienTu\\vbpl\\full_151083.html\n",
      "Deleted: D:\\PhapDien_semantic_search\\BoPhapDienDienTu\\vbpl\\full_151826.html\n",
      "Deleted: D:\\PhapDien_semantic_search\\BoPhapDienDienTu\\vbpl\\full_136138.html\n",
      "Deleted: D:\\PhapDien_semantic_search\\BoPhapDienDienTu\\vbpl\\full_120916.html\n",
      "Deleted: D:\\PhapDien_semantic_search\\BoPhapDienDienTu\\vbpl\\full_133858.html\n",
      "Deleted: D:\\PhapDien_semantic_search\\BoPhapDienDienTu\\vbpl\\full_18142.html\n",
      "Deleted: D:\\PhapDien_semantic_search\\BoPhapDienDienTu\\vbpl\\full_110915.html\n",
      "Deleted: D:\\PhapDien_semantic_search\\BoPhapDienDienTu\\vbpl\\full_146048.html\n",
      "Deleted: D:\\PhapDien_semantic_search\\BoPhapDienDienTu\\vbpl\\full_135065.html\n",
      "Deleted: D:\\PhapDien_semantic_search\\BoPhapDienDienTu\\vbpl\\full_143473.html\n",
      "Deleted: D:\\PhapDien_semantic_search\\BoPhapDienDienTu\\vbpl\\full_146449.html\n",
      "Deleted: D:\\PhapDien_semantic_search\\BoPhapDienDienTu\\vbpl\\full_150818.html\n",
      "Deleted: D:\\PhapDien_semantic_search\\BoPhapDienDienTu\\vbpl\\full_107454.html\n",
      "Deleted: D:\\PhapDien_semantic_search\\BoPhapDienDienTu\\vbpl\\full_119170.html\n",
      "Deleted: D:\\PhapDien_semantic_search\\BoPhapDienDienTu\\vbpl\\full_151004.html\n",
      "Deleted: D:\\PhapDien_semantic_search\\BoPhapDienDienTu\\vbpl\\full_166771.html\n",
      "Deleted: D:\\PhapDien_semantic_search\\BoPhapDienDienTu\\vbpl\\full_119171.html\n",
      "Deleted: D:\\PhapDien_semantic_search\\BoPhapDienDienTu\\vbpl\\full_118387.html\n",
      "Deleted: D:\\PhapDien_semantic_search\\BoPhapDienDienTu\\vbpl\\full_118267.html\n",
      "Deleted: D:\\PhapDien_semantic_search\\BoPhapDienDienTu\\vbpl\\full_122774.html\n",
      "Deleted: D:\\PhapDien_semantic_search\\BoPhapDienDienTu\\vbpl\\full_129333.html\n",
      "Deleted: D:\\PhapDien_semantic_search\\BoPhapDienDienTu\\vbpl\\full_151153.html\n",
      "Deleted: D:\\PhapDien_semantic_search\\BoPhapDienDienTu\\vbpl\\full_154327.html\n",
      "Deleted: D:\\PhapDien_semantic_search\\BoPhapDienDienTu\\vbpl\\full_118313.html\n",
      "Deleted: D:\\PhapDien_semantic_search\\BoPhapDienDienTu\\vbpl\\full_141951.html\n",
      "Deleted: D:\\PhapDien_semantic_search\\BoPhapDienDienTu\\vbpl\\full_138059.html\n",
      "Deleted: D:\\PhapDien_semantic_search\\BoPhapDienDienTu\\vbpl\\full_135886.html\n",
      "Deleted: D:\\PhapDien_semantic_search\\BoPhapDienDienTu\\vbpl\\full_156249.html\n",
      "Deleted: D:\\PhapDien_semantic_search\\BoPhapDienDienTu\\vbpl\\full_97369.html\n",
      "Deleted: D:\\PhapDien_semantic_search\\BoPhapDienDienTu\\vbpl\\full_108015.html\n",
      "Deleted: D:\\PhapDien_semantic_search\\BoPhapDienDienTu\\vbpl\\full_119206.html\n",
      "Deleted: D:\\PhapDien_semantic_search\\BoPhapDienDienTu\\vbpl\\full_153310.html\n",
      "Deleted: D:\\PhapDien_semantic_search\\BoPhapDienDienTu\\vbpl\\full_119211.html\n",
      "Deleted: D:\\PhapDien_semantic_search\\BoPhapDienDienTu\\vbpl\\full_118660.html\n",
      "Deleted: D:\\PhapDien_semantic_search\\BoPhapDienDienTu\\vbpl\\full_110871.html\n",
      "Deleted: D:\\PhapDien_semantic_search\\BoPhapDienDienTu\\vbpl\\full_161751.html\n",
      "Deleted: D:\\PhapDien_semantic_search\\BoPhapDienDienTu\\vbpl\\full_140231.html\n",
      "Deleted: D:\\PhapDien_semantic_search\\BoPhapDienDienTu\\vbpl\\full_119209.html\n",
      "Deleted: D:\\PhapDien_semantic_search\\BoPhapDienDienTu\\vbpl\\full_135657.html\n",
      "Deleted: D:\\PhapDien_semantic_search\\BoPhapDienDienTu\\vbpl\\full_131474.html\n",
      "Deleted: D:\\PhapDien_semantic_search\\BoPhapDienDienTu\\vbpl\\full_142537.html\n",
      "Deleted: D:\\PhapDien_semantic_search\\BoPhapDienDienTu\\vbpl\\full_143474.html\n",
      "Deleted: D:\\PhapDien_semantic_search\\BoPhapDienDienTu\\vbpl\\full_119165.html\n",
      "Deleted: D:\\PhapDien_semantic_search\\BoPhapDienDienTu\\vbpl\\full_129245.html\n",
      "Deleted: D:\\PhapDien_semantic_search\\BoPhapDienDienTu\\vbpl\\full_136070.html\n",
      "Deleted: D:\\PhapDien_semantic_search\\BoPhapDienDienTu\\vbpl\\full_137418.html\n",
      "Deleted: D:\\PhapDien_semantic_search\\BoPhapDienDienTu\\vbpl\\full_136021.html\n",
      "Deleted: D:\\PhapDien_semantic_search\\BoPhapDienDienTu\\vbpl\\full_138472.html\n",
      "Deleted: D:\\PhapDien_semantic_search\\BoPhapDienDienTu\\vbpl\\full_134654.html\n",
      "Deleted: D:\\PhapDien_semantic_search\\BoPhapDienDienTu\\vbpl\\full_132712.html\n",
      "Deleted: D:\\PhapDien_semantic_search\\BoPhapDienDienTu\\vbpl\\full_127642.html\n",
      "Deleted: D:\\PhapDien_semantic_search\\BoPhapDienDienTu\\vbpl\\full_110950.html\n",
      "Deleted: D:\\PhapDien_semantic_search\\BoPhapDienDienTu\\vbpl\\full_119132.html\n",
      "Deleted: D:\\PhapDien_semantic_search\\BoPhapDienDienTu\\vbpl\\full_140549.html\n",
      "Deleted: D:\\PhapDien_semantic_search\\BoPhapDienDienTu\\vbpl\\full_140997.html\n",
      "Deleted: D:\\PhapDien_semantic_search\\BoPhapDienDienTu\\vbpl\\full_140622.html\n",
      "Deleted: D:\\PhapDien_semantic_search\\BoPhapDienDienTu\\vbpl\\full_146468.html\n",
      "Deleted: D:\\PhapDien_semantic_search\\BoPhapDienDienTu\\vbpl\\full_143913.html\n",
      "Deleted: D:\\PhapDien_semantic_search\\BoPhapDienDienTu\\vbpl\\full_163733.html\n",
      "Deleted: D:\\PhapDien_semantic_search\\BoPhapDienDienTu\\vbpl\\full_123552.html\n",
      "Deleted: D:\\PhapDien_semantic_search\\BoPhapDienDienTu\\vbpl\\full_124983.html\n",
      "Deleted: D:\\PhapDien_semantic_search\\BoPhapDienDienTu\\vbpl\\full_119167.html\n",
      "Deleted: D:\\PhapDien_semantic_search\\BoPhapDienDienTu\\vbpl\\full_163728.html\n",
      "Deleted: D:\\PhapDien_semantic_search\\BoPhapDienDienTu\\vbpl\\full_110960.html\n",
      "Deleted: D:\\PhapDien_semantic_search\\BoPhapDienDienTu\\vbpl\\full_146017.html\n",
      "Deleted: D:\\PhapDien_semantic_search\\BoPhapDienDienTu\\vbpl\\full_110799.html\n",
      "Deleted: D:\\PhapDien_semantic_search\\BoPhapDienDienTu\\vbpl\\full_133260.html\n",
      "Deleted: D:\\PhapDien_semantic_search\\BoPhapDienDienTu\\vbpl\\full_119157.html\n",
      "Deleted: D:\\PhapDien_semantic_search\\BoPhapDienDienTu\\vbpl\\full_128211.html\n",
      "Deleted: D:\\PhapDien_semantic_search\\BoPhapDienDienTu\\vbpl\\full_146174.html\n",
      "Deleted: D:\\PhapDien_semantic_search\\BoPhapDienDienTu\\vbpl\\full_149701.html\n",
      "Deleted: D:\\PhapDien_semantic_search\\BoPhapDienDienTu\\vbpl\\full_138906.html\n",
      "Deleted: D:\\PhapDien_semantic_search\\BoPhapDienDienTu\\vbpl\\full_110897.html\n",
      "Deleted: D:\\PhapDien_semantic_search\\BoPhapDienDienTu\\vbpl\\full_119148.html\n",
      "Deleted: D:\\PhapDien_semantic_search\\BoPhapDienDienTu\\vbpl\\full_148492.html\n",
      "Deleted: D:\\PhapDien_semantic_search\\BoPhapDienDienTu\\vbpl\\full_129890.html\n",
      "Deleted: D:\\PhapDien_semantic_search\\BoPhapDienDienTu\\vbpl\\full_119181.html\n",
      "Deleted: D:\\PhapDien_semantic_search\\BoPhapDienDienTu\\vbpl\\full_150986.html\n",
      "Deleted: D:\\PhapDien_semantic_search\\BoPhapDienDienTu\\vbpl\\full_166066.html\n",
      "Deleted: D:\\PhapDien_semantic_search\\BoPhapDienDienTu\\vbpl\\full_155897.html\n",
      "Deleted: D:\\PhapDien_semantic_search\\BoPhapDienDienTu\\vbpl\\full_132859.html\n",
      "Deleted: D:\\PhapDien_semantic_search\\BoPhapDienDienTu\\vbpl\\full_118972.html\n",
      "Deleted: D:\\PhapDien_semantic_search\\BoPhapDienDienTu\\vbpl\\full_159708.html\n",
      "Deleted: D:\\PhapDien_semantic_search\\BoPhapDienDienTu\\vbpl\\full_119141.html\n",
      "Deleted: D:\\PhapDien_semantic_search\\BoPhapDienDienTu\\vbpl\\full_118870.html\n",
      "Deleted: D:\\PhapDien_semantic_search\\BoPhapDienDienTu\\vbpl\\full_118730.html\n",
      "Deleted: D:\\PhapDien_semantic_search\\BoPhapDienDienTu\\vbpl\\full_112894.html\n",
      "Deleted: D:\\PhapDien_semantic_search\\BoPhapDienDienTu\\vbpl\\full_163752.html\n",
      "Deleted: D:\\PhapDien_semantic_search\\BoPhapDienDienTu\\vbpl\\full_125057.html\n",
      "Deleted: D:\\PhapDien_semantic_search\\BoPhapDienDienTu\\vbpl\\full_152502.html\n",
      "Deleted: D:\\PhapDien_semantic_search\\BoPhapDienDienTu\\vbpl\\full_166099.html\n",
      "Deleted: D:\\PhapDien_semantic_search\\BoPhapDienDienTu\\vbpl\\full_101418.html\n",
      "Deleted: D:\\PhapDien_semantic_search\\BoPhapDienDienTu\\vbpl\\full_110946.html\n",
      "Deleted: D:\\PhapDien_semantic_search\\BoPhapDienDienTu\\vbpl\\full_137699.html\n",
      "Deleted: D:\\PhapDien_semantic_search\\BoPhapDienDienTu\\vbpl\\full_118311.html\n",
      "Deleted: D:\\PhapDien_semantic_search\\BoPhapDienDienTu\\vbpl\\full_147146.html\n",
      "Deleted: D:\\PhapDien_semantic_search\\BoPhapDienDienTu\\vbpl\\full_118967.html\n",
      "Deleted: D:\\PhapDien_semantic_search\\BoPhapDienDienTu\\vbpl\\full_142822.html\n",
      "Deleted: D:\\PhapDien_semantic_search\\BoPhapDienDienTu\\vbpl\\full_160621.html\n",
      "Deleted: D:\\PhapDien_semantic_search\\BoPhapDienDienTu\\vbpl\\full_134610.html\n",
      "Deleted: D:\\PhapDien_semantic_search\\BoPhapDienDienTu\\vbpl\\full_135363.html\n",
      "Deleted: D:\\PhapDien_semantic_search\\BoPhapDienDienTu\\vbpl\\full_158021.html\n"
     ]
    },
    {
     "name": "stderr",
     "output_type": "stream",
     "text": [
      "\n"
     ]
    }
   ],
   "source": [
    "wrong = []\n",
    "with open(\"vbpl_links.txt\", \"r\", encoding=\"utf-8\") as file:\n",
    "    all_links = file.read().splitlines()\n",
    "    all_ids = [link.split(\"ItemID=\")[1] for link in all_links]\n",
    "\n",
    "# Loop through the IDs and process each\n",
    "for id in tqdm(all_ids[:694], desc=\"Retrieving HTML documents\"):\n",
    "    full_url = f\"{f_url}ItemID={id}\"\n",
    "    \n",
    "    # Check for redirection using requests\n",
    "    try:\n",
    "        response = requests.get(full_url, allow_redirects=True, timeout=10)\n",
    "    except Exception as e:\n",
    "        print(f\"Error fetching {full_url}: {e}\")\n",
    "        continue\n",
    "    \n",
    "    if response.url != full_url:\n",
    "        wrong.append(rf\"D:\\PhapDien_semantic_search\\BoPhapDienDienTu\\vbpl\\full_{id}.html\")\n",
    "\n",
    "print(len(wrong))\n",
    "    \n",
    "for file_path in wrong:\n",
    "    try:\n",
    "        if os.path.exists(file_path):\n",
    "            os.remove(file_path)\n",
    "            print(f\"Deleted: {file_path}\")\n",
    "        else:\n",
    "            print(f\"File not found: {file_path}\")\n",
    "    except Exception as e:\n",
    "        print(f\"Error deleting {file_path}: {e}\")\n"
   ]
  },
  {
   "cell_type": "code",
   "execution_count": 61,
   "metadata": {},
   "outputs": [
    {
     "name": "stderr",
     "output_type": "stream",
     "text": [
      "processing ids:   0%|          | 0/10 [00:00<?, ?it/s]"
     ]
    },
    {
     "name": "stdout",
     "output_type": "stream",
     "text": [
      "\n",
      "Processing ID 130588: https://vbpl.vn/tw/Pages/vbpq-van-ban-goc.aspx?ItemID=130588\n"
     ]
    },
    {
     "name": "stderr",
     "output_type": "stream",
     "text": [
      "processing ids:  10%|█         | 1/10 [00:01<00:15,  1.76s/it]"
     ]
    },
    {
     "name": "stdout",
     "output_type": "stream",
     "text": [
      "\n",
      "Processing ID 94078: https://vbpl.vn/tw/Pages/vbpq-van-ban-goc.aspx?ItemID=94078\n",
      "https://vbpl.vn/FileData/TW/Lists/vbpq/Attachments/94078/VanBanGoc_71_2015_TT-BGTVT.pdf\n"
     ]
    },
    {
     "name": "stderr",
     "output_type": "stream",
     "text": [
      "processing ids:  20%|██        | 2/10 [00:04<00:19,  2.38s/it]"
     ]
    },
    {
     "name": "stdout",
     "output_type": "stream",
     "text": [
      "Failed to download PDF for ID 94078: status code 404\n",
      "\n",
      "Processing ID 37479: https://vbpl.vn/tw/Pages/vbpq-van-ban-goc.aspx?ItemID=37479\n",
      "https://vbpl.vn/FileData/TW/Lists/vbpq/Attachments/37479/VanBanGoc_11_2014_TT-BTTTT.pdf\n"
     ]
    },
    {
     "name": "stderr",
     "output_type": "stream",
     "text": [
      "processing ids:  30%|███       | 3/10 [00:09<00:24,  3.50s/it]"
     ]
    },
    {
     "name": "stdout",
     "output_type": "stream",
     "text": [
      "Downloaded PDF for ID 37479 to D:\\PhapDien_semantic_search\\BoPhapDienDienTu\\pdf\\VanBanGoc_11_2014_TT-BTTTT.pdf\n",
      "\n",
      "Processing ID 43494: https://vbpl.vn/tw/Pages/vbpq-van-ban-goc.aspx?ItemID=43494\n",
      "https://vbpl.vn/FileData/TW/Lists/vbpq/Attachments/43494/VanBanGoc_12_2013_TT-BTNMT.pdf\n"
     ]
    },
    {
     "name": "stderr",
     "output_type": "stream",
     "text": [
      "processing ids:  40%|████      | 4/10 [00:12<00:19,  3.19s/it]"
     ]
    },
    {
     "name": "stdout",
     "output_type": "stream",
     "text": [
      "Failed to download PDF for ID 43494: status code 404\n",
      "\n",
      "Processing ID 30363: https://vbpl.vn/tw/Pages/vbpq-van-ban-goc.aspx?ItemID=30363\n",
      "https://vbpl.vn/FileData/TW/Lists/vbpq/Attachments/30363/VanBanGoc_86_2012_N%C4%90-CP.pdf\n"
     ]
    },
    {
     "name": "stderr",
     "output_type": "stream",
     "text": [
      "processing ids:  50%|█████     | 5/10 [00:17<00:19,  3.96s/it]"
     ]
    },
    {
     "name": "stdout",
     "output_type": "stream",
     "text": [
      "Downloaded PDF for ID 30363 to D:\\PhapDien_semantic_search\\BoPhapDienDienTu\\pdf\\VanBanGoc_86_2012_N%C4%90-CP.pdf\n",
      "\n",
      "Processing ID 15967: https://vbpl.vn/tw/Pages/vbpq-van-ban-goc.aspx?ItemID=15967\n",
      "https://vbpl.vn/FileData/TW/Lists/vbpq/Attachments/15967/VanBanGoc_20_2005_QĐ-BGTVT.pdf\n"
     ]
    },
    {
     "name": "stderr",
     "output_type": "stream",
     "text": [
      "processing ids:  60%|██████    | 6/10 [00:20<00:14,  3.55s/it]"
     ]
    },
    {
     "name": "stdout",
     "output_type": "stream",
     "text": [
      "Failed to download PDF for ID 15967: status code 404\n",
      "\n",
      "Processing ID 144824: https://vbpl.vn/tw/Pages/vbpq-van-ban-goc.aspx?ItemID=144824\n"
     ]
    },
    {
     "name": "stderr",
     "output_type": "stream",
     "text": [
      "processing ids:  70%|███████   | 7/10 [00:21<00:08,  2.91s/it]"
     ]
    },
    {
     "name": "stdout",
     "output_type": "stream",
     "text": [
      "\n",
      "Processing ID 134555: https://vbpl.vn/tw/Pages/vbpq-van-ban-goc.aspx?ItemID=134555\n",
      "https://vbpl.vn/FileData/TW/Lists/vbpq/Attachments/134555/VanBanGoc_27_2019_N%C4%90-CP.pdf\n"
     ]
    },
    {
     "name": "stderr",
     "output_type": "stream",
     "text": [
      "processing ids:  80%|████████  | 8/10 [00:24<00:05,  2.85s/it]"
     ]
    },
    {
     "name": "stdout",
     "output_type": "stream",
     "text": [
      "Failed to download PDF for ID 134555: status code 404\n",
      "\n",
      "Processing ID 40233: https://vbpl.vn/tw/Pages/vbpq-van-ban-goc.aspx?ItemID=40233\n",
      "https://vbpl.vn/FileData/TW/Lists/vbpq/Attachments/40233/VanBanGoc_44_2012_TT-BGTVT.pdf\n"
     ]
    },
    {
     "name": "stderr",
     "output_type": "stream",
     "text": [
      "processing ids:  90%|█████████ | 9/10 [00:27<00:02,  2.83s/it]"
     ]
    },
    {
     "name": "stdout",
     "output_type": "stream",
     "text": [
      "Failed to download PDF for ID 40233: status code 404\n",
      "\n",
      "Processing ID 14568: https://vbpl.vn/tw/Pages/vbpq-van-ban-goc.aspx?ItemID=14568\n",
      "https://vbpl.vn/FileData/TW/Lists/vbpq/Attachments/14568/VanBanGoc_21_2006_QĐ-BTNMT.pdf\n"
     ]
    },
    {
     "name": "stderr",
     "output_type": "stream",
     "text": [
      "processing ids: 100%|██████████| 10/10 [00:30<00:00,  3.00s/it]"
     ]
    },
    {
     "name": "stdout",
     "output_type": "stream",
     "text": [
      "Failed to download PDF for ID 14568: status code 404\n",
      "\n",
      "Summary:\n",
      "IDs with no PDF found: 2\n",
      "Timed out IDs: 0\n",
      "Download failures: 6\n"
     ]
    },
    {
     "name": "stderr",
     "output_type": "stream",
     "text": [
      "\n"
     ]
    }
   ],
   "source": [
    "import os\n",
    "import requests\n",
    "from bs4 import BeautifulSoup\n",
    "from urllib.parse import urljoin\n",
    "from tqdm import tqdm\n",
    "\n",
    "# Define the output directory and ensure it exists.\n",
    "output_dir = rf\"D:\\PhapDien_semantic_search\\BoPhapDienDienTu\\pdf\"\n",
    "os.makedirs(output_dir, exist_ok=True)\n",
    "\n",
    "def extract_pdf_link(page_url, _id, timeout=20):\n",
    "    \"\"\"\n",
    "    Fetches the HTML page at page_url, then searches for an embedded PDF link.\n",
    "    Checks for attributes: \"original-url\", \"original_url\", \"src\", or \"href\".\n",
    "    Returns the first found PDF URL or None if not found.\n",
    "    \"\"\"\n",
    "    try:\n",
    "        response = requests.get(page_url, timeout=timeout)\n",
    "    except Exception as e:\n",
    "        print(f\"Error fetching {page_url}: {e}\")\n",
    "        return None\n",
    "\n",
    "    if response.status_code != 200:\n",
    "        print(f\"Non-200 response from {page_url}: {response.status_code}\")\n",
    "        return None\n",
    "\n",
    "    soup = BeautifulSoup(response.content, \"html.parser\")\n",
    "    check = soup.find(\"li\", {\"class\": \"red\"}).text\n",
    "    if \"Hết hiệu lực toàn bộ\" in check:\n",
    "        return None\n",
    "\n",
    "    url_tail = str(soup.find(\"li\", {\"class\": \"green\"}).text.strip().split(\" \")[-1]).replace(\"/\", \"_\")\n",
    "    if \"NĐ-CP\" in url_tail:\n",
    "        url_tail = url_tail.replace(\"NĐ-CP\", \"N%C4%90-CP\")  # if possible, change to the URL-encoded form\n",
    "    print(f\"https://vbpl.vn/FileData/TW/Lists/vbpq/Attachments/{_id}/VanBanGoc_{url_tail}.pdf\")\n",
    "    return f\"https://vbpl.vn/FileData/TW/Lists/vbpq/Attachments/{_id}/VanBanGoc_{url_tail}.pdf\"\n",
    "\n",
    "def download_pdf_by_id_list(_id, base_url, option=\"pdf\", timeout=20):\n",
    "    \"\"\"\n",
    "    For each ID, constructs a page URL using base_url and the ID,\n",
    "    scrapes the page for the embedded PDF link, then downloads the PDF.\n",
    "    \n",
    "    Returns a tuple:\n",
    "      (timed_out_ids, not_found_ids, fail_downloads)\n",
    "    \"\"\"\n",
    "    page_url = f\"{base_url}ItemID={_id}\"\n",
    "    print(f\"\\nProcessing ID {_id}: {page_url}\")\n",
    "    \n",
    "    # Scrape the page to extract the PDF link.\n",
    "    pdf_link = extract_pdf_link(page_url, _id, timeout=timeout)\n",
    "    if not pdf_link:\n",
    "        not_found_ids.append(_id)\n",
    "        return\n",
    "    \n",
    "    # Attempt to download the PDF.\n",
    "    try:\n",
    "        pdf_response = requests.get(pdf_link, allow_redirects=True, timeout=timeout)\n",
    "    except Exception as e:\n",
    "        print(f\"Error downloading PDF from {pdf_link} for ID {_id}: {e}\")\n",
    "        timed_out_ids.append(_id)\n",
    "        return\n",
    "\n",
    "    if pdf_response.status_code == 200:\n",
    "        # Derive a filename from the PDF link.\n",
    "        filename = os.path.basename(pdf_link)\n",
    "        if not filename.lower().endswith(\".pdf\"):\n",
    "            filename = f\"{option}_{_id}.pdf\"\n",
    "        filepath = os.path.join(output_dir, filename)\n",
    "        try:\n",
    "            with open(filepath, \"wb\") as f:\n",
    "                f.write(pdf_response.content)\n",
    "            print(f\"Downloaded PDF for ID {_id} to {filepath}\")\n",
    "        except Exception as e:\n",
    "            print(f\"Error saving PDF for ID {_id} to {filepath}: {e}\")\n",
    "            fail_downloads.append(_id)\n",
    "    else:\n",
    "        print(f\"Failed to download PDF for ID {_id}: status code {pdf_response.status_code}\")\n",
    "        fail_downloads.append(_id)\n",
    "\n",
    "timed_out_ids = []  # IDs that timed out or had network errors.\n",
    "not_found_ids = []  # IDs for which no PDF link was found.\n",
    "fail_downloads = [] # IDs for which the PDF download failed.\n",
    "\n",
    "# Example all_ids and pdf_url should be defined before this block.\n",
    "for id in tqdm(all_ids[:10], desc=\"processing ids\"):\n",
    "    download_pdf_by_id_list(id, pdf_url, option=\"pdf\")\n",
    "\n",
    "print(\"\\nSummary:\")\n",
    "print(f\"IDs with no PDF found: {len(not_found_ids)}\")\n",
    "print(f\"Timed out IDs: {len(timed_out_ids)}\")\n",
    "print(f\"Download failures: {len(fail_downloads)}\")\n"
   ]
  },
  {
   "cell_type": "code",
   "execution_count": null,
   "metadata": {},
   "outputs": [
    {
     "name": "stderr",
     "output_type": "stream",
     "text": [
      "Downloading PDFs:   0%|          | 0/5871 [00:00<?, ?it/s]"
     ]
    },
    {
     "name": "stderr",
     "output_type": "stream",
     "text": [
      "Downloading PDFs:   6%|▌         | 363/5871 [37:24<5:31:03,  3.61s/it] "
     ]
    },
    {
     "name": "stdout",
     "output_type": "stream",
     "text": [
      "Error downloading PDF. Code: 404\n"
     ]
    },
    {
     "name": "stderr",
     "output_type": "stream",
     "text": [
      "Downloading PDFs:   8%|▊         | 465/5871 [46:16<6:57:50,  4.64s/it] "
     ]
    }
   ],
   "source": [
    "for id in tqdm(all_ids[85:], desc=\"Downloading PDFs\"):\n",
    "    full_url = f\"{f_url}ItemID={id}\"\n",
    "    # Download the HTML of the page\n",
    "    response = requests.get(full_url)\n",
    "    if full_url != response.url: # no pdf -> skip\n",
    "        continue\n",
    "    html = response.text\n",
    "\n",
    "    # Parse the HTML\n",
    "    soup = BeautifulSoup(html, 'html.parser')\n",
    "\n",
    "    # Find all links that use \"downloadfile\"\n",
    "    links = soup.find_all('a', href=re.compile(\"downloadfile\\\\(\"))\n",
    "    pdf_link = None\n",
    "\n",
    "    # Iterate to find the link whose first parameter ends with .pdf\n",
    "    for a in links:\n",
    "        js_href = a['href']\n",
    "        match = re.search(r\"downloadfile\\('([^']+)','([^']+)'\\)\", js_href)\n",
    "        if match:\n",
    "            filename = match.group(1)  # file name\n",
    "            if filename.lower().endswith('.pdf'):\n",
    "                pdf_link = match\n",
    "                break\n",
    "            \n",
    "    if pdf_link:\n",
    "        pdf_filename = rf\"D:\\PhapDien_semantic_search\\BoPhapDienDienTu\\pdf\\pdf_{id}.pdf\"\n",
    "        pdf_path = pdf_link.group(2)\n",
    "        pdf_web_url = urljoin(full_url, pdf_path)\n",
    "        # Download the PDF\n",
    "        pdf_response = requests.get(pdf_web_url)\n",
    "        if pdf_response.status_code == 200:\n",
    "            with open(pdf_filename, \"wb\") as f:\n",
    "                f.write(pdf_response.content)\n",
    "        else:\n",
    "            print(\"Error downloading PDF. Code:\", pdf_response.status_code)\n",
    "    else:\n",
    "        continue  # no pdf -> skip\n"
   ]
  }
 ],
 "metadata": {
  "kernelspec": {
   "display_name": "phapdienvv",
   "language": "python",
   "name": "python3"
  },
  "language_info": {
   "codemirror_mode": {
    "name": "ipython",
    "version": 3
   },
   "file_extension": ".py",
   "mimetype": "text/x-python",
   "name": "python",
   "nbconvert_exporter": "python",
   "pygments_lexer": "ipython3",
   "version": "3.11.4"
  }
 },
 "nbformat": 4,
 "nbformat_minor": 2
}
