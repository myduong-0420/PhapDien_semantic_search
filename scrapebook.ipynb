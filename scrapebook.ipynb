{
 "cells": [
  {
   "cell_type": "code",
   "execution_count": 1,
   "metadata": {},
   "outputs": [],
   "source": [
    "from selenium import webdriver\n",
    "from selenium.webdriver.common.by import By\n",
    "from selenium.webdriver.chrome.options import Options\n",
    "from bs4 import BeautifulSoup\n",
    "import pandas as pd\n",
    "import time\n",
    "import random\n",
    "import os\n",
    "import re\n",
    "import requests\n",
    "from tqdm import tqdm"
   ]
  },
  {
   "cell_type": "markdown",
   "metadata": {},
   "source": [
    "- Your code will go over each index html file in the BoPhapDienDienTu/demuc directory, and open and save the html documents linked from the index page, and save them to the BoPhapDienDienTu/vbpl directory in the form full_ItemID.html. \n",
    "\t- For example for the document at \"https://vbpl.vn/TW/Pages/vbpq-toanvan.aspx?ItemID=148955&Keyword=\", your code will save it as full_148955.html\n",
    "- Also save the property page for each document in the BoPhapDienDienTu/property directory in the form p_ItemID.html. \n",
    "\t- For example, for the same document above, the property page is at \"https://vbpl.vn/tw/Pages/vbpq-thuoctinh.aspx?dvid=13&ItemID=148955&Keyword=\", your code will save it as p_148955.html\n",
    "- Also save the history page for each document in BoPhapDienDienTu/history. \n",
    "\t- For example, for the same document above, the history page is at \"https://vbpl.vn/tw/Pages/vbpq-lichsu.aspx?dvid=13&ItemID=148955&Keyword=\", your code will save it as h_148955.html\n",
    "- Also save the related document page for each document in BoPhapDienDienTu/related. \n",
    "\t- For example, for the same document above, the related document page is at https://vbpl.vn/TW/Pages/vbpq-vanbanlienquan.aspx?ItemID=148955&Keyword=, your code will save it as r_148955.html\n",
    "- Also save the PDF for each document in BoPhapDienDienTu/pdf. \n",
    "\t- For example, for the same document above, the PDF file is at https://vbpl.vn/tw/Pages/vbpq-van-ban-goc.aspx?ItemID=148955, your code will save it as pdf_148955.pdf"
   ]
  },
  {
   "cell_type": "code",
   "execution_count": null,
   "metadata": {},
   "outputs": [],
   "source": [
    "file_paths = []\n",
    "folder_path = rf\"D:\\PhapDien_semantic_search\\BoPhapDienDienTu\\demuc\"\n",
    "\n",
    "for root, dirs, files in os.walk(folder_path):\n",
    "    for file_name in files:\n",
    "        # Construct full file path\n",
    "        html_file_path = os.path.join(root, file_name)\n",
    "        if html_file_path.endswith(\".html\"):\n",
    "            file_paths.append(html_file_path)\n",
    "print(len(file_paths))\n",
    "\n",
    "all_links = []            \n",
    "for html_file_path in tqdm(file_paths, desc=\"Processing HTML files\"):\n",
    "    with open(html_file_path, \"r\", encoding=\"utf-8\") as file:\n",
    "        html_content = file.read()\n",
    "\n",
    "    # Parse the HTML content with BeautifulSoup\n",
    "    soup = BeautifulSoup(html_content, 'html.parser')\n",
    "\n",
    "    # Find all <a> tags\n",
    "    anchors = soup.find_all('a')\n",
    "\n",
    "    # Extract the hyperlinks from each <a> tag\n",
    "    http_hrefs = [\n",
    "        anchor.get('href') \n",
    "        for anchor in anchors \n",
    "        if anchor.get('href') and anchor.get('href').startswith(\"http\") and (\"ItemID=\" in anchor.get('href'))\n",
    "    ]\n",
    "    \n",
    "    # Use regex to filter and deduplicate links\n",
    "    deduped_links = list(set([\n",
    "        re.sub(r\"(&.*$)|(#.*)?$\", \"\", link)\n",
    "        for link in http_hrefs\n",
    "    ]))\n",
    "    all_links.extend(deduped_links)"
   ]
  },
  {
   "cell_type": "code",
   "execution_count": null,
   "metadata": {},
   "outputs": [
    {
     "name": "stdout",
     "output_type": "stream",
     "text": [
      "5956\n"
     ]
    }
   ],
   "source": [
    "all_links = list(set(all_links))\n",
    "print(len(all_links))\n",
    "\n",
    "# Save the links to a text file\n",
    "with open(\"vbpl_links.txt\", \"w\", encoding=\"utf-8\") as file:\n",
    "\tfor link in all_links:\n",
    "\t\tfile.write(link + \"\\n\")"
   ]
  },
  {
   "cell_type": "markdown",
   "metadata": {},
   "source": [
    "### Retrieve HTML documents"
   ]
  },
  {
   "cell_type": "code",
   "execution_count": 3,
   "metadata": {},
   "outputs": [],
   "source": [
    "driver = webdriver.Chrome()\n",
    "driver.maximize_window()\n",
    "options = Options()\n",
    "options.add_argument(\"--disable-blink-features=AutomationControlled\")"
   ]
  },
  {
   "cell_type": "code",
   "execution_count": 4,
   "metadata": {},
   "outputs": [],
   "source": [
    "f_url = \"https://vbpl.vn/TW/Pages/vbpq-toanvan.aspx?\"\n",
    "property_url = \"https://vbpl.vn/tw/Pages/vbpq-thuoctinh.aspx?dvid=13&\"\n",
    "history_url = \"https://vbpl.vn/tw/Pages/vbpq-lichsu.aspx?dvid=13&\"\n",
    "related_url = \"https://vbpl.vn/TW/Pages/vbpq-vanbanlienquan.aspx?\"\n",
    "pdf_url = \"https://vbpl.vn/tw/Pages/vbpq-van-ban-goc.aspx?\""
   ]
  },
  {
   "cell_type": "code",
   "execution_count": null,
   "metadata": {},
   "outputs": [],
   "source": [
    "# Read the links from the file and extract IDs\n",
    "with open(\"vbpl_links.txt\", \"r\", encoding=\"utf-8\") as file:\n",
    "    all_links = file.read().splitlines()\n",
    "    all_ids = [link.split(\"ItemID=\")[1] for link in all_links]\n",
    "\n",
    "def retrieval_tool(url, option, output_url=\"p\"):\n",
    "    for id in tqdm(all_ids, desc=f\"Retrieving {option} HTML\"):\n",
    "        full_url = f\"{url}ItemID={id}\"\n",
    "        \n",
    "        # Check for redirection using requests\n",
    "        try:\n",
    "            response = requests.get(full_url, allow_redirects=True, timeout=10)\n",
    "        except Exception as e:\n",
    "            print(f\"Error fetching {full_url}: {e}\")\n",
    "            continue\n",
    "        \n",
    "        # If the final URL after redirection is different, skip this ID\n",
    "        if response.url != full_url:\n",
    "            print(f\"Skipped: {full_url} redirected to {response.url}\")\n",
    "            continue\n",
    "        \n",
    "        # If no redirect is detected, proceed with Selenium scraping\n",
    "        driver.get(full_url)\n",
    "        time.sleep(random.uniform(0.5, 1))\n",
    "        html_content = driver.page_source\n",
    "        \n",
    "        # Save the HTML content to a file\n",
    "        file_path = rf\"D:\\PhapDien_semantic_search\\BoPhapDienDienTu\\vbpl\\{output_url}_{id}.html\"\n",
    "        with open(file_path, \"w\", encoding=\"utf-8\") as file:\n",
    "            file.write(html_content)\n",
    "\n",
    "retrieval_tool(property_url, \"property\", \"p\")\n",
    "retrieval_tool(history_url, \"history\",\"h\")\n",
    "retrieval_tool(related_url, \"related\",\"r\")\n",
    "retrieval_tool(pdf_url, \"PDF\",\"pdf\")"
   ]
  },
  {
   "cell_type": "code",
   "execution_count": 5,
   "metadata": {},
   "outputs": [
    {
     "name": "stderr",
     "output_type": "stream",
     "text": [
      "Retrieving HTML documents:  66%|██████▋   | 460/694 [19:32<19:10,  4.92s/it]"
     ]
    },
    {
     "name": "stdout",
     "output_type": "stream",
     "text": [
      "Error fetching https://vbpl.vn/TW/Pages/vbpq-toanvan.aspx?ItemID=106063: HTTPSConnectionPool(host='vbpl.vn', port=443): Read timed out. (read timeout=10)\n"
     ]
    },
    {
     "name": "stderr",
     "output_type": "stream",
     "text": [
      "Retrieving HTML documents:  66%|██████▋   | 461/694 [19:42<26:00,  6.70s/it]"
     ]
    },
    {
     "name": "stdout",
     "output_type": "stream",
     "text": [
      "Error fetching https://vbpl.vn/TW/Pages/vbpq-toanvan.aspx?ItemID=129642: HTTPSConnectionPool(host='vbpl.vn', port=443): Read timed out. (read timeout=10)\n"
     ]
    },
    {
     "name": "stderr",
     "output_type": "stream",
     "text": [
      "Retrieving HTML documents: 100%|██████████| 694/694 [29:20<00:00,  2.54s/it]"
     ]
    },
    {
     "name": "stdout",
     "output_type": "stream",
     "text": [
      "107\n",
      "Deleted: D:\\PhapDien_semantic_search\\BoPhapDienDienTu\\vbpl\\full_144824.html\n",
      "Deleted: D:\\PhapDien_semantic_search\\BoPhapDienDienTu\\vbpl\\full_134555.html\n",
      "Deleted: D:\\PhapDien_semantic_search\\BoPhapDienDienTu\\vbpl\\full_139899.html\n",
      "Deleted: D:\\PhapDien_semantic_search\\BoPhapDienDienTu\\vbpl\\full_119137.html\n",
      "Deleted: D:\\PhapDien_semantic_search\\BoPhapDienDienTu\\vbpl\\full_134205.html\n",
      "Deleted: D:\\PhapDien_semantic_search\\BoPhapDienDienTu\\vbpl\\full_151083.html\n",
      "Deleted: D:\\PhapDien_semantic_search\\BoPhapDienDienTu\\vbpl\\full_151826.html\n",
      "Deleted: D:\\PhapDien_semantic_search\\BoPhapDienDienTu\\vbpl\\full_136138.html\n",
      "Deleted: D:\\PhapDien_semantic_search\\BoPhapDienDienTu\\vbpl\\full_120916.html\n",
      "Deleted: D:\\PhapDien_semantic_search\\BoPhapDienDienTu\\vbpl\\full_133858.html\n",
      "Deleted: D:\\PhapDien_semantic_search\\BoPhapDienDienTu\\vbpl\\full_18142.html\n",
      "Deleted: D:\\PhapDien_semantic_search\\BoPhapDienDienTu\\vbpl\\full_110915.html\n",
      "Deleted: D:\\PhapDien_semantic_search\\BoPhapDienDienTu\\vbpl\\full_146048.html\n",
      "Deleted: D:\\PhapDien_semantic_search\\BoPhapDienDienTu\\vbpl\\full_135065.html\n",
      "Deleted: D:\\PhapDien_semantic_search\\BoPhapDienDienTu\\vbpl\\full_143473.html\n",
      "Deleted: D:\\PhapDien_semantic_search\\BoPhapDienDienTu\\vbpl\\full_146449.html\n",
      "Deleted: D:\\PhapDien_semantic_search\\BoPhapDienDienTu\\vbpl\\full_150818.html\n",
      "Deleted: D:\\PhapDien_semantic_search\\BoPhapDienDienTu\\vbpl\\full_107454.html\n",
      "Deleted: D:\\PhapDien_semantic_search\\BoPhapDienDienTu\\vbpl\\full_119170.html\n",
      "Deleted: D:\\PhapDien_semantic_search\\BoPhapDienDienTu\\vbpl\\full_151004.html\n",
      "Deleted: D:\\PhapDien_semantic_search\\BoPhapDienDienTu\\vbpl\\full_166771.html\n",
      "Deleted: D:\\PhapDien_semantic_search\\BoPhapDienDienTu\\vbpl\\full_119171.html\n",
      "Deleted: D:\\PhapDien_semantic_search\\BoPhapDienDienTu\\vbpl\\full_118387.html\n",
      "Deleted: D:\\PhapDien_semantic_search\\BoPhapDienDienTu\\vbpl\\full_118267.html\n",
      "Deleted: D:\\PhapDien_semantic_search\\BoPhapDienDienTu\\vbpl\\full_122774.html\n",
      "Deleted: D:\\PhapDien_semantic_search\\BoPhapDienDienTu\\vbpl\\full_129333.html\n",
      "Deleted: D:\\PhapDien_semantic_search\\BoPhapDienDienTu\\vbpl\\full_151153.html\n",
      "Deleted: D:\\PhapDien_semantic_search\\BoPhapDienDienTu\\vbpl\\full_154327.html\n",
      "Deleted: D:\\PhapDien_semantic_search\\BoPhapDienDienTu\\vbpl\\full_118313.html\n",
      "Deleted: D:\\PhapDien_semantic_search\\BoPhapDienDienTu\\vbpl\\full_141951.html\n",
      "Deleted: D:\\PhapDien_semantic_search\\BoPhapDienDienTu\\vbpl\\full_138059.html\n",
      "Deleted: D:\\PhapDien_semantic_search\\BoPhapDienDienTu\\vbpl\\full_135886.html\n",
      "Deleted: D:\\PhapDien_semantic_search\\BoPhapDienDienTu\\vbpl\\full_156249.html\n",
      "Deleted: D:\\PhapDien_semantic_search\\BoPhapDienDienTu\\vbpl\\full_97369.html\n",
      "Deleted: D:\\PhapDien_semantic_search\\BoPhapDienDienTu\\vbpl\\full_108015.html\n",
      "Deleted: D:\\PhapDien_semantic_search\\BoPhapDienDienTu\\vbpl\\full_119206.html\n",
      "Deleted: D:\\PhapDien_semantic_search\\BoPhapDienDienTu\\vbpl\\full_153310.html\n",
      "Deleted: D:\\PhapDien_semantic_search\\BoPhapDienDienTu\\vbpl\\full_119211.html\n",
      "Deleted: D:\\PhapDien_semantic_search\\BoPhapDienDienTu\\vbpl\\full_118660.html\n",
      "Deleted: D:\\PhapDien_semantic_search\\BoPhapDienDienTu\\vbpl\\full_110871.html\n",
      "Deleted: D:\\PhapDien_semantic_search\\BoPhapDienDienTu\\vbpl\\full_161751.html\n",
      "Deleted: D:\\PhapDien_semantic_search\\BoPhapDienDienTu\\vbpl\\full_140231.html\n",
      "Deleted: D:\\PhapDien_semantic_search\\BoPhapDienDienTu\\vbpl\\full_119209.html\n",
      "Deleted: D:\\PhapDien_semantic_search\\BoPhapDienDienTu\\vbpl\\full_135657.html\n",
      "Deleted: D:\\PhapDien_semantic_search\\BoPhapDienDienTu\\vbpl\\full_131474.html\n",
      "Deleted: D:\\PhapDien_semantic_search\\BoPhapDienDienTu\\vbpl\\full_142537.html\n",
      "Deleted: D:\\PhapDien_semantic_search\\BoPhapDienDienTu\\vbpl\\full_143474.html\n",
      "Deleted: D:\\PhapDien_semantic_search\\BoPhapDienDienTu\\vbpl\\full_119165.html\n",
      "Deleted: D:\\PhapDien_semantic_search\\BoPhapDienDienTu\\vbpl\\full_129245.html\n",
      "Deleted: D:\\PhapDien_semantic_search\\BoPhapDienDienTu\\vbpl\\full_136070.html\n",
      "Deleted: D:\\PhapDien_semantic_search\\BoPhapDienDienTu\\vbpl\\full_137418.html\n",
      "Deleted: D:\\PhapDien_semantic_search\\BoPhapDienDienTu\\vbpl\\full_136021.html\n",
      "Deleted: D:\\PhapDien_semantic_search\\BoPhapDienDienTu\\vbpl\\full_138472.html\n",
      "Deleted: D:\\PhapDien_semantic_search\\BoPhapDienDienTu\\vbpl\\full_134654.html\n",
      "Deleted: D:\\PhapDien_semantic_search\\BoPhapDienDienTu\\vbpl\\full_132712.html\n",
      "Deleted: D:\\PhapDien_semantic_search\\BoPhapDienDienTu\\vbpl\\full_127642.html\n",
      "Deleted: D:\\PhapDien_semantic_search\\BoPhapDienDienTu\\vbpl\\full_110950.html\n",
      "Deleted: D:\\PhapDien_semantic_search\\BoPhapDienDienTu\\vbpl\\full_119132.html\n",
      "Deleted: D:\\PhapDien_semantic_search\\BoPhapDienDienTu\\vbpl\\full_140549.html\n",
      "Deleted: D:\\PhapDien_semantic_search\\BoPhapDienDienTu\\vbpl\\full_140997.html\n",
      "Deleted: D:\\PhapDien_semantic_search\\BoPhapDienDienTu\\vbpl\\full_140622.html\n",
      "Deleted: D:\\PhapDien_semantic_search\\BoPhapDienDienTu\\vbpl\\full_146468.html\n",
      "Deleted: D:\\PhapDien_semantic_search\\BoPhapDienDienTu\\vbpl\\full_143913.html\n",
      "Deleted: D:\\PhapDien_semantic_search\\BoPhapDienDienTu\\vbpl\\full_163733.html\n",
      "Deleted: D:\\PhapDien_semantic_search\\BoPhapDienDienTu\\vbpl\\full_123552.html\n",
      "Deleted: D:\\PhapDien_semantic_search\\BoPhapDienDienTu\\vbpl\\full_124983.html\n",
      "Deleted: D:\\PhapDien_semantic_search\\BoPhapDienDienTu\\vbpl\\full_119167.html\n",
      "Deleted: D:\\PhapDien_semantic_search\\BoPhapDienDienTu\\vbpl\\full_163728.html\n",
      "Deleted: D:\\PhapDien_semantic_search\\BoPhapDienDienTu\\vbpl\\full_110960.html\n",
      "Deleted: D:\\PhapDien_semantic_search\\BoPhapDienDienTu\\vbpl\\full_146017.html\n",
      "Deleted: D:\\PhapDien_semantic_search\\BoPhapDienDienTu\\vbpl\\full_110799.html\n",
      "Deleted: D:\\PhapDien_semantic_search\\BoPhapDienDienTu\\vbpl\\full_133260.html\n",
      "Deleted: D:\\PhapDien_semantic_search\\BoPhapDienDienTu\\vbpl\\full_119157.html\n",
      "Deleted: D:\\PhapDien_semantic_search\\BoPhapDienDienTu\\vbpl\\full_128211.html\n",
      "Deleted: D:\\PhapDien_semantic_search\\BoPhapDienDienTu\\vbpl\\full_146174.html\n",
      "Deleted: D:\\PhapDien_semantic_search\\BoPhapDienDienTu\\vbpl\\full_149701.html\n",
      "Deleted: D:\\PhapDien_semantic_search\\BoPhapDienDienTu\\vbpl\\full_138906.html\n",
      "Deleted: D:\\PhapDien_semantic_search\\BoPhapDienDienTu\\vbpl\\full_110897.html\n",
      "Deleted: D:\\PhapDien_semantic_search\\BoPhapDienDienTu\\vbpl\\full_119148.html\n",
      "Deleted: D:\\PhapDien_semantic_search\\BoPhapDienDienTu\\vbpl\\full_148492.html\n",
      "Deleted: D:\\PhapDien_semantic_search\\BoPhapDienDienTu\\vbpl\\full_129890.html\n",
      "Deleted: D:\\PhapDien_semantic_search\\BoPhapDienDienTu\\vbpl\\full_119181.html\n",
      "Deleted: D:\\PhapDien_semantic_search\\BoPhapDienDienTu\\vbpl\\full_150986.html\n",
      "Deleted: D:\\PhapDien_semantic_search\\BoPhapDienDienTu\\vbpl\\full_166066.html\n",
      "Deleted: D:\\PhapDien_semantic_search\\BoPhapDienDienTu\\vbpl\\full_155897.html\n",
      "Deleted: D:\\PhapDien_semantic_search\\BoPhapDienDienTu\\vbpl\\full_132859.html\n",
      "Deleted: D:\\PhapDien_semantic_search\\BoPhapDienDienTu\\vbpl\\full_118972.html\n",
      "Deleted: D:\\PhapDien_semantic_search\\BoPhapDienDienTu\\vbpl\\full_159708.html\n",
      "Deleted: D:\\PhapDien_semantic_search\\BoPhapDienDienTu\\vbpl\\full_119141.html\n",
      "Deleted: D:\\PhapDien_semantic_search\\BoPhapDienDienTu\\vbpl\\full_118870.html\n",
      "Deleted: D:\\PhapDien_semantic_search\\BoPhapDienDienTu\\vbpl\\full_118730.html\n",
      "Deleted: D:\\PhapDien_semantic_search\\BoPhapDienDienTu\\vbpl\\full_112894.html\n",
      "Deleted: D:\\PhapDien_semantic_search\\BoPhapDienDienTu\\vbpl\\full_163752.html\n",
      "Deleted: D:\\PhapDien_semantic_search\\BoPhapDienDienTu\\vbpl\\full_125057.html\n",
      "Deleted: D:\\PhapDien_semantic_search\\BoPhapDienDienTu\\vbpl\\full_152502.html\n",
      "Deleted: D:\\PhapDien_semantic_search\\BoPhapDienDienTu\\vbpl\\full_166099.html\n",
      "Deleted: D:\\PhapDien_semantic_search\\BoPhapDienDienTu\\vbpl\\full_101418.html\n",
      "Deleted: D:\\PhapDien_semantic_search\\BoPhapDienDienTu\\vbpl\\full_110946.html\n",
      "Deleted: D:\\PhapDien_semantic_search\\BoPhapDienDienTu\\vbpl\\full_137699.html\n",
      "Deleted: D:\\PhapDien_semantic_search\\BoPhapDienDienTu\\vbpl\\full_118311.html\n",
      "Deleted: D:\\PhapDien_semantic_search\\BoPhapDienDienTu\\vbpl\\full_147146.html\n",
      "Deleted: D:\\PhapDien_semantic_search\\BoPhapDienDienTu\\vbpl\\full_118967.html\n",
      "Deleted: D:\\PhapDien_semantic_search\\BoPhapDienDienTu\\vbpl\\full_142822.html\n",
      "Deleted: D:\\PhapDien_semantic_search\\BoPhapDienDienTu\\vbpl\\full_160621.html\n",
      "Deleted: D:\\PhapDien_semantic_search\\BoPhapDienDienTu\\vbpl\\full_134610.html\n",
      "Deleted: D:\\PhapDien_semantic_search\\BoPhapDienDienTu\\vbpl\\full_135363.html\n",
      "Deleted: D:\\PhapDien_semantic_search\\BoPhapDienDienTu\\vbpl\\full_158021.html\n"
     ]
    },
    {
     "name": "stderr",
     "output_type": "stream",
     "text": [
      "\n"
     ]
    }
   ],
   "source": [
    "wrong = []\n",
    "with open(\"vbpl_links.txt\", \"r\", encoding=\"utf-8\") as file:\n",
    "    all_links = file.read().splitlines()\n",
    "    all_ids = [link.split(\"ItemID=\")[1] for link in all_links]\n",
    "\n",
    "# Loop through the IDs and process each\n",
    "for id in tqdm(all_ids[:694], desc=\"Retrieving HTML documents\"):\n",
    "    full_url = f\"{f_url}ItemID={id}\"\n",
    "    \n",
    "    # Check for redirection using requests\n",
    "    try:\n",
    "        response = requests.get(full_url, allow_redirects=True, timeout=10)\n",
    "    except Exception as e:\n",
    "        print(f\"Error fetching {full_url}: {e}\")\n",
    "        continue\n",
    "    \n",
    "    if response.url != full_url:\n",
    "        wrong.append(rf\"D:\\PhapDien_semantic_search\\BoPhapDienDienTu\\vbpl\\full_{id}.html\")\n",
    "\n",
    "print(len(wrong))\n",
    "    \n",
    "for file_path in wrong:\n",
    "    try:\n",
    "        if os.path.exists(file_path):\n",
    "            os.remove(file_path)\n",
    "            print(f\"Deleted: {file_path}\")\n",
    "        else:\n",
    "            print(f\"File not found: {file_path}\")\n",
    "    except Exception as e:\n",
    "        print(f\"Error deleting {file_path}: {e}\")\n"
   ]
  },
  {
   "cell_type": "code",
   "execution_count": null,
   "metadata": {},
   "outputs": [],
   "source": [
    "with open(\"vbpl_links.txt\", \"r\", encoding=\"utf-8\") as file:\n",
    "    all_links = file.read().splitlines()\n",
    "    all_ids = [link.split(\"ItemID=\")[1] for link in all_links]\n",
    "\n",
    "# Loop through the IDs and process each\n",
    "time_out_ids = []\n",
    "for id in tqdm(all_ids[2474:], desc=\"Retrieving HTML documents\"):\n",
    "    full_url = f\"{f_url}ItemID={id}\"\n",
    "    \n",
    "    # Check for redirection using requests\n",
    "    try:\n",
    "        response = requests.get(full_url, allow_redirects=True, timeout=10)\n",
    "    except Exception as e:\n",
    "        print(f\"Error fetching {full_url}: {e}\")\n",
    "        time_out_ids.append(id)\n",
    "        continue\n",
    "    \n",
    "    # If the final URL after redirection is different, skip this ID\n",
    "    if response.url != full_url:\n",
    "        print(f\"Skipped: {full_url} redirected to {response.url}\")\n",
    "        continue\n",
    "    \n",
    "    # If no redirect is detected, proceed with Selenium scraping\n",
    "    driver.get(full_url)\n",
    "    time.sleep(random.uniform(0.5, 1))\n",
    "    html_content = driver.page_source\n",
    "    \n",
    "    # Save the HTML content to a file\n",
    "    file_path = rf\"D:\\PhapDien_semantic_search\\BoPhapDienDienTu\\vbpl\\full_{id}.html\"\n",
    "    with open(file_path, \"w\", encoding=\"utf-8\") as file:\n",
    "        file.write(html_content)"
   ]
  },
  {
   "cell_type": "code",
   "execution_count": null,
   "metadata": {},
   "outputs": [
    {
     "name": "stderr",
     "output_type": "stream",
     "text": [
      "Retrieving HTML documents:   0%|          | 0/3036 [00:00<?, ?it/s]"
     ]
    },
    {
     "name": "stderr",
     "output_type": "stream",
     "text": [
      "Retrieving HTML documents:   0%|          | 3/3036 [00:14<3:41:40,  4.39s/it]"
     ]
    },
    {
     "name": "stdout",
     "output_type": "stream",
     "text": [
      "Skipped: https://vbpl.vn/TW/Pages/vbpq-toanvan.aspx?ItemID=123055 redirected to https://vbpl.vn/tw/Pages/vbpq-van-ban-goc.aspx?dvid=13&ItemID=123055\n"
     ]
    },
    {
     "name": "stderr",
     "output_type": "stream",
     "text": [
      "Retrieving HTML documents:   0%|          | 5/3036 [00:21<3:08:52,  3.74s/it]"
     ]
    },
    {
     "name": "stdout",
     "output_type": "stream",
     "text": [
      "Skipped: https://vbpl.vn/TW/Pages/vbpq-toanvan.aspx?ItemID=127587 redirected to https://vbpl.vn/tw/Pages/vbpq-van-ban-goc.aspx?dvid=13&ItemID=127587\n"
     ]
    },
    {
     "name": "stderr",
     "output_type": "stream",
     "text": [
      "Retrieving HTML documents:   0%|          | 11/3036 [00:49<3:35:31,  4.27s/it]"
     ]
    },
    {
     "name": "stdout",
     "output_type": "stream",
     "text": [
      "Skipped: https://vbpl.vn/TW/Pages/vbpq-toanvan.aspx?ItemID=138979 redirected to https://vbpl.vn/tw/Pages/vbpq-van-ban-goc.aspx?dvid=13&ItemID=138979\n"
     ]
    },
    {
     "name": "stderr",
     "output_type": "stream",
     "text": [
      "Retrieving HTML documents:   1%|          | 16/3036 [01:12<3:37:46,  4.33s/it]"
     ]
    },
    {
     "name": "stdout",
     "output_type": "stream",
     "text": [
      "Skipped: https://vbpl.vn/TW/Pages/vbpq-toanvan.aspx?ItemID=121979 redirected to https://vbpl.vn/tw/Pages/vbpq-van-ban-goc.aspx?dvid=13&ItemID=121979\n"
     ]
    },
    {
     "name": "stderr",
     "output_type": "stream",
     "text": [
      "Retrieving HTML documents:   1%|          | 31/3036 [02:16<3:09:17,  3.78s/it]"
     ]
    },
    {
     "name": "stdout",
     "output_type": "stream",
     "text": [
      "Skipped: https://vbpl.vn/TW/Pages/vbpq-toanvan.aspx?ItemID=160191 redirected to https://vbpl.vn/tw/Pages/vbpq-van-ban-goc.aspx?dvid=13&ItemID=160191\n"
     ]
    },
    {
     "name": "stderr",
     "output_type": "stream",
     "text": [
      "Retrieving HTML documents:   1%|          | 34/3036 [02:27<3:00:39,  3.61s/it]"
     ]
    },
    {
     "name": "stdout",
     "output_type": "stream",
     "text": [
      "Skipped: https://vbpl.vn/TW/Pages/vbpq-toanvan.aspx?ItemID=141734 redirected to https://vbpl.vn/tw/Pages/vbpq-van-ban-goc.aspx?dvid=13&ItemID=141734\n"
     ]
    },
    {
     "name": "stderr",
     "output_type": "stream",
     "text": [
      "Retrieving HTML documents:   1%|▏         | 38/3036 [02:44<3:07:31,  3.75s/it]"
     ]
    },
    {
     "name": "stdout",
     "output_type": "stream",
     "text": [
      "Skipped: https://vbpl.vn/TW/Pages/vbpq-toanvan.aspx?ItemID=120353 redirected to https://vbpl.vn/tw/Pages/vbpq-van-ban-goc.aspx?dvid=13&ItemID=120353\n"
     ]
    },
    {
     "name": "stderr",
     "output_type": "stream",
     "text": [
      "Retrieving HTML documents:   1%|▏         | 39/3036 [02:46<2:53:00,  3.46s/it]"
     ]
    },
    {
     "name": "stdout",
     "output_type": "stream",
     "text": [
      "Skipped: https://vbpl.vn/TW/Pages/vbpq-toanvan.aspx?ItemID=122449 redirected to https://vbpl.vn/tw/Pages/vbpq-van-ban-goc.aspx?dvid=13&ItemID=122449\n"
     ]
    },
    {
     "name": "stderr",
     "output_type": "stream",
     "text": [
      "Retrieving HTML documents:   3%|▎         | 80/3036 [06:09<3:28:56,  4.24s/it]"
     ]
    },
    {
     "name": "stdout",
     "output_type": "stream",
     "text": [
      "Skipped: https://vbpl.vn/TW/Pages/vbpq-toanvan.aspx?ItemID=150679 redirected to https://vbpl.vn/tw/Pages/vbpq-van-ban-goc.aspx?dvid=13&ItemID=150679\n"
     ]
    },
    {
     "name": "stderr",
     "output_type": "stream",
     "text": [
      "Retrieving HTML documents:   3%|▎         | 93/3036 [07:07<3:19:06,  4.06s/it]"
     ]
    },
    {
     "name": "stdout",
     "output_type": "stream",
     "text": [
      "Skipped: https://vbpl.vn/TW/Pages/vbpq-toanvan.aspx?ItemID=144137 redirected to https://vbpl.vn/tw/Pages/vbpq-van-ban-goc.aspx?dvid=13&ItemID=144137\n"
     ]
    },
    {
     "name": "stderr",
     "output_type": "stream",
     "text": [
      "Retrieving HTML documents:   3%|▎         | 102/3036 [07:51<3:47:01,  4.64s/it]"
     ]
    },
    {
     "name": "stdout",
     "output_type": "stream",
     "text": [
      "Skipped: https://vbpl.vn/TW/Pages/vbpq-toanvan.aspx?ItemID=119163 redirected to https://vbpl.vn/tw/Pages/vbpq-van-ban-goc.aspx?dvid=13&ItemID=119163\n"
     ]
    },
    {
     "name": "stderr",
     "output_type": "stream",
     "text": [
      "Retrieving HTML documents:   3%|▎         | 106/3036 [08:10<3:33:48,  4.38s/it]"
     ]
    },
    {
     "name": "stdout",
     "output_type": "stream",
     "text": [
      "Skipped: https://vbpl.vn/TW/Pages/vbpq-toanvan.aspx?ItemID=133132 redirected to https://vbpl.vn/tw/Pages/vbpq-van-ban-goc.aspx?dvid=13&ItemID=133132\n"
     ]
    },
    {
     "name": "stderr",
     "output_type": "stream",
     "text": [
      "Retrieving HTML documents:   4%|▎         | 109/3036 [08:20<2:59:19,  3.68s/it]"
     ]
    },
    {
     "name": "stdout",
     "output_type": "stream",
     "text": [
      "Skipped: https://vbpl.vn/TW/Pages/vbpq-toanvan.aspx?ItemID=118605 redirected to https://vbpl.vn/tw/Pages/vbpq-van-ban-goc.aspx?dvid=13&ItemID=118605\n"
     ]
    },
    {
     "name": "stderr",
     "output_type": "stream",
     "text": [
      "Retrieving HTML documents:   4%|▍         | 120/3036 [09:17<3:44:18,  4.62s/it]"
     ]
    },
    {
     "name": "stdout",
     "output_type": "stream",
     "text": [
      "Skipped: https://vbpl.vn/TW/Pages/vbpq-toanvan.aspx?ItemID=157589 redirected to https://vbpl.vn/tw/Pages/vbpq-van-ban-goc.aspx?dvid=13&ItemID=157589\n"
     ]
    },
    {
     "name": "stderr",
     "output_type": "stream",
     "text": [
      "Retrieving HTML documents:   4%|▍         | 129/3036 [09:57<3:15:35,  4.04s/it]"
     ]
    },
    {
     "name": "stdout",
     "output_type": "stream",
     "text": [
      "Skipped: https://vbpl.vn/TW/Pages/vbpq-toanvan.aspx?ItemID=118561 redirected to https://vbpl.vn/tw/Pages/vbpq-van-ban-goc.aspx?dvid=13&ItemID=118561\n"
     ]
    },
    {
     "name": "stderr",
     "output_type": "stream",
     "text": [
      "Retrieving HTML documents:   4%|▍         | 133/3036 [10:14<3:16:24,  4.06s/it]"
     ]
    },
    {
     "name": "stdout",
     "output_type": "stream",
     "text": [
      "Skipped: https://vbpl.vn/TW/Pages/vbpq-toanvan.aspx?ItemID=152678 redirected to https://vbpl.vn/tw/Pages/vbpq-van-ban-goc.aspx?dvid=13&ItemID=152678\n"
     ]
    },
    {
     "name": "stderr",
     "output_type": "stream",
     "text": [
      "Retrieving HTML documents:   5%|▌         | 163/3036 [12:30<3:04:44,  3.86s/it]"
     ]
    },
    {
     "name": "stdout",
     "output_type": "stream",
     "text": [
      "Skipped: https://vbpl.vn/TW/Pages/vbpq-toanvan.aspx?ItemID=160698 redirected to https://vbpl.vn/tw/Pages/vbpq-van-ban-goc.aspx?dvid=13&ItemID=160698\n"
     ]
    },
    {
     "name": "stderr",
     "output_type": "stream",
     "text": [
      "Retrieving HTML documents:   6%|▌         | 183/3036 [14:02<3:23:50,  4.29s/it]"
     ]
    },
    {
     "name": "stdout",
     "output_type": "stream",
     "text": [
      "Skipped: https://vbpl.vn/TW/Pages/vbpq-toanvan.aspx?ItemID=135471 redirected to https://vbpl.vn/tw/Pages/vbpq-van-ban-goc.aspx?dvid=13&ItemID=135471\n"
     ]
    },
    {
     "name": "stderr",
     "output_type": "stream",
     "text": [
      "Retrieving HTML documents:   6%|▌         | 184/3036 [14:04<2:59:23,  3.77s/it]"
     ]
    },
    {
     "name": "stdout",
     "output_type": "stream",
     "text": [
      "Skipped: https://vbpl.vn/TW/Pages/vbpq-toanvan.aspx?ItemID=128775 redirected to https://vbpl.vn/tw/Pages/vbpq-van-ban-goc.aspx?dvid=13&ItemID=128775\n"
     ]
    },
    {
     "name": "stderr",
     "output_type": "stream",
     "text": [
      "Retrieving HTML documents:   6%|▌         | 186/3036 [14:12<2:55:04,  3.69s/it]"
     ]
    },
    {
     "name": "stdout",
     "output_type": "stream",
     "text": [
      "Skipped: https://vbpl.vn/TW/Pages/vbpq-toanvan.aspx?ItemID=140561 redirected to https://vbpl.vn/tw/Pages/vbpq-van-ban-goc.aspx?dvid=13&ItemID=140561\n"
     ]
    },
    {
     "name": "stderr",
     "output_type": "stream",
     "text": [
      "Retrieving HTML documents:   7%|▋         | 205/3036 [15:40<3:13:24,  4.10s/it]"
     ]
    },
    {
     "name": "stdout",
     "output_type": "stream",
     "text": [
      "Skipped: https://vbpl.vn/TW/Pages/vbpq-toanvan.aspx?ItemID=144822 redirected to https://vbpl.vn/tw/Pages/vbpq-van-ban-goc.aspx?dvid=13&ItemID=144822\n"
     ]
    },
    {
     "name": "stderr",
     "output_type": "stream",
     "text": [
      "Retrieving HTML documents:   7%|▋         | 211/3036 [16:07<3:10:44,  4.05s/it]"
     ]
    },
    {
     "name": "stdout",
     "output_type": "stream",
     "text": [
      "Skipped: https://vbpl.vn/TW/Pages/vbpq-toanvan.aspx?ItemID=148281 redirected to https://vbpl.vn/tw/Pages/vbpq-van-ban-goc.aspx?dvid=13&ItemID=148281\n"
     ]
    },
    {
     "name": "stderr",
     "output_type": "stream",
     "text": [
      "Retrieving HTML documents:   8%|▊         | 232/3036 [17:47<3:29:28,  4.48s/it]"
     ]
    },
    {
     "name": "stdout",
     "output_type": "stream",
     "text": [
      "Skipped: https://vbpl.vn/TW/Pages/vbpq-toanvan.aspx?ItemID=151041 redirected to https://vbpl.vn/tw/Pages/vbpq-van-ban-goc.aspx?dvid=13&ItemID=151041\n"
     ]
    },
    {
     "name": "stderr",
     "output_type": "stream",
     "text": [
      "Retrieving HTML documents:   8%|▊         | 235/3036 [18:00<3:12:35,  4.13s/it]"
     ]
    },
    {
     "name": "stdout",
     "output_type": "stream",
     "text": [
      "Skipped: https://vbpl.vn/TW/Pages/vbpq-toanvan.aspx?ItemID=152529 redirected to https://vbpl.vn/tw/Pages/vbpq-van-ban-goc.aspx?dvid=13&ItemID=152529\n"
     ]
    },
    {
     "name": "stderr",
     "output_type": "stream",
     "text": [
      "Retrieving HTML documents:   8%|▊         | 236/3036 [18:03<2:52:31,  3.70s/it]"
     ]
    },
    {
     "name": "stdout",
     "output_type": "stream",
     "text": [
      "Skipped: https://vbpl.vn/TW/Pages/vbpq-toanvan.aspx?ItemID=163745 redirected to https://vbpl.vn/tw/Pages/vbpq-van-ban-goc.aspx?dvid=13&ItemID=163745\n"
     ]
    },
    {
     "name": "stderr",
     "output_type": "stream",
     "text": [
      "Retrieving HTML documents:   8%|▊         | 237/3036 [18:06<2:39:45,  3.42s/it]"
     ]
    },
    {
     "name": "stdout",
     "output_type": "stream",
     "text": [
      "Skipped: https://vbpl.vn/TW/Pages/vbpq-toanvan.aspx?ItemID=136166 redirected to https://vbpl.vn/tw/Pages/vbpq-van-ban-goc.aspx?dvid=13&ItemID=136166\n"
     ]
    },
    {
     "name": "stderr",
     "output_type": "stream",
     "text": [
      "Retrieving HTML documents:   8%|▊         | 245/3036 [18:40<3:04:25,  3.96s/it]"
     ]
    },
    {
     "name": "stdout",
     "output_type": "stream",
     "text": [
      "Skipped: https://vbpl.vn/TW/Pages/vbpq-toanvan.aspx?ItemID=118312 redirected to https://vbpl.vn/tw/Pages/vbpq-van-ban-goc.aspx?dvid=13&ItemID=118312\n"
     ]
    },
    {
     "name": "stderr",
     "output_type": "stream",
     "text": [
      "Retrieving HTML documents:   8%|▊         | 247/3036 [18:47<2:50:04,  3.66s/it]"
     ]
    },
    {
     "name": "stdout",
     "output_type": "stream",
     "text": [
      "Skipped: https://vbpl.vn/TW/Pages/vbpq-toanvan.aspx?ItemID=135623 redirected to https://vbpl.vn/tw/Pages/vbpq-van-ban-goc.aspx?dvid=13&ItemID=135623\n"
     ]
    },
    {
     "name": "stderr",
     "output_type": "stream",
     "text": [
      "Retrieving HTML documents:   8%|▊         | 255/3036 [19:23<3:13:19,  4.17s/it]"
     ]
    },
    {
     "name": "stdout",
     "output_type": "stream",
     "text": [
      "Skipped: https://vbpl.vn/TW/Pages/vbpq-toanvan.aspx?ItemID=119204 redirected to https://vbpl.vn/tw/Pages/vbpq-van-ban-goc.aspx?dvid=13&ItemID=119204\n"
     ]
    },
    {
     "name": "stderr",
     "output_type": "stream",
     "text": [
      "Retrieving HTML documents:   9%|▊         | 259/3036 [19:41<3:05:40,  4.01s/it]"
     ]
    },
    {
     "name": "stdout",
     "output_type": "stream",
     "text": [
      "Skipped: https://vbpl.vn/TW/Pages/vbpq-toanvan.aspx?ItemID=142826 redirected to https://vbpl.vn/tw/Pages/vbpq-van-ban-goc.aspx?dvid=13&ItemID=142826\n"
     ]
    },
    {
     "name": "stderr",
     "output_type": "stream",
     "text": [
      "Retrieving HTML documents:   9%|▊         | 260/3036 [19:43<2:47:08,  3.61s/it]"
     ]
    },
    {
     "name": "stdout",
     "output_type": "stream",
     "text": [
      "Skipped: https://vbpl.vn/TW/Pages/vbpq-toanvan.aspx?ItemID=118913 redirected to https://vbpl.vn/tw/Pages/vbpq-van-ban-goc.aspx?dvid=13&ItemID=118913\n"
     ]
    },
    {
     "name": "stderr",
     "output_type": "stream",
     "text": [
      "Retrieving HTML documents:   9%|▉         | 271/3036 [20:36<3:13:19,  4.20s/it]"
     ]
    },
    {
     "name": "stdout",
     "output_type": "stream",
     "text": [
      "Skipped: https://vbpl.vn/TW/Pages/vbpq-toanvan.aspx?ItemID=149051 redirected to https://vbpl.vn/tw/Pages/vbpq-van-ban-goc.aspx?dvid=13&ItemID=149051\n"
     ]
    },
    {
     "name": "stderr",
     "output_type": "stream",
     "text": [
      "Retrieving HTML documents:   9%|▉         | 280/3036 [21:14<2:57:41,  3.87s/it]"
     ]
    },
    {
     "name": "stdout",
     "output_type": "stream",
     "text": [
      "Skipped: https://vbpl.vn/TW/Pages/vbpq-toanvan.aspx?ItemID=136018 redirected to https://vbpl.vn/tw/Pages/vbpq-van-ban-goc.aspx?dvid=13&ItemID=136018\n"
     ]
    },
    {
     "name": "stderr",
     "output_type": "stream",
     "text": [
      "Retrieving HTML documents:   9%|▉         | 287/3036 [21:43<2:55:33,  3.83s/it]"
     ]
    },
    {
     "name": "stdout",
     "output_type": "stream",
     "text": [
      "Skipped: https://vbpl.vn/TW/Pages/vbpq-toanvan.aspx?ItemID=112305 redirected to https://vbpl.vn/tw/Pages/vbpq-van-ban-goc.aspx?dvid=13&ItemID=112305\n"
     ]
    },
    {
     "name": "stderr",
     "output_type": "stream",
     "text": [
      "Retrieving HTML documents:  10%|▉         | 292/3036 [22:04<3:01:43,  3.97s/it]"
     ]
    },
    {
     "name": "stdout",
     "output_type": "stream",
     "text": [
      "Skipped: https://vbpl.vn/TW/Pages/vbpq-toanvan.aspx?ItemID=154508 redirected to https://vbpl.vn/tw/Pages/vbpq-van-ban-goc.aspx?dvid=13&ItemID=154508\n"
     ]
    },
    {
     "name": "stderr",
     "output_type": "stream",
     "text": [
      "Retrieving HTML documents:  10%|▉         | 298/3036 [22:29<2:57:34,  3.89s/it]"
     ]
    },
    {
     "name": "stdout",
     "output_type": "stream",
     "text": [
      "Skipped: https://vbpl.vn/TW/Pages/vbpq-toanvan.aspx?ItemID=123638 redirected to https://vbpl.vn/tw/Pages/vbpq-van-ban-goc.aspx?dvid=13&ItemID=123638\n"
     ]
    },
    {
     "name": "stderr",
     "output_type": "stream",
     "text": [
      "Retrieving HTML documents:  10%|█         | 306/3036 [23:10<3:22:01,  4.44s/it]"
     ]
    },
    {
     "name": "stdout",
     "output_type": "stream",
     "text": [
      "Skipped: https://vbpl.vn/TW/Pages/vbpq-toanvan.aspx?ItemID=117537 redirected to https://vbpl.vn/tw/Pages/vbpq-van-ban-goc.aspx?dvid=13&ItemID=117537\n"
     ]
    },
    {
     "name": "stderr",
     "output_type": "stream",
     "text": [
      "Retrieving HTML documents:  10%|█         | 314/3036 [23:47<3:10:26,  4.20s/it]"
     ]
    },
    {
     "name": "stdout",
     "output_type": "stream",
     "text": [
      "Skipped: https://vbpl.vn/TW/Pages/vbpq-toanvan.aspx?ItemID=147147 redirected to https://vbpl.vn/tw/Pages/vbpq-van-ban-goc.aspx?dvid=13&ItemID=147147\n"
     ]
    },
    {
     "name": "stderr",
     "output_type": "stream",
     "text": [
      "Retrieving HTML documents:  11%|█         | 320/3036 [24:19<3:28:47,  4.61s/it]"
     ]
    },
    {
     "name": "stdout",
     "output_type": "stream",
     "text": [
      "Skipped: https://vbpl.vn/TW/Pages/vbpq-toanvan.aspx?ItemID=118981 redirected to https://vbpl.vn/tw/Pages/vbpq-van-ban-goc.aspx?dvid=13&ItemID=118981\n"
     ]
    },
    {
     "name": "stderr",
     "output_type": "stream",
     "text": [
      "Retrieving HTML documents:  11%|█         | 325/3036 [24:41<3:11:47,  4.24s/it]"
     ]
    },
    {
     "name": "stdout",
     "output_type": "stream",
     "text": [
      "Skipped: https://vbpl.vn/TW/Pages/vbpq-toanvan.aspx?ItemID=142259 redirected to https://vbpl.vn/tw/Pages/vbpq-van-ban-goc.aspx?dvid=13&ItemID=142259\n"
     ]
    },
    {
     "name": "stderr",
     "output_type": "stream",
     "text": [
      "Retrieving HTML documents:  11%|█         | 330/3036 [25:03<3:04:15,  4.09s/it]"
     ]
    },
    {
     "name": "stdout",
     "output_type": "stream",
     "text": [
      "Skipped: https://vbpl.vn/TW/Pages/vbpq-toanvan.aspx?ItemID=128208 redirected to https://vbpl.vn/tw/Pages/vbpq-van-ban-goc.aspx?dvid=13&ItemID=128208\n"
     ]
    },
    {
     "name": "stderr",
     "output_type": "stream",
     "text": [
      "Retrieving HTML documents:  11%|█         | 331/3036 [25:06<2:45:34,  3.67s/it]"
     ]
    },
    {
     "name": "stdout",
     "output_type": "stream",
     "text": [
      "Skipped: https://vbpl.vn/TW/Pages/vbpq-toanvan.aspx?ItemID=139168 redirected to https://vbpl.vn/tw/Pages/vbpq-van-ban-goc.aspx?dvid=13&ItemID=139168\n"
     ]
    },
    {
     "name": "stderr",
     "output_type": "stream",
     "text": [
      "Retrieving HTML documents:  11%|█         | 338/3036 [25:41<3:21:16,  4.48s/it]"
     ]
    },
    {
     "name": "stdout",
     "output_type": "stream",
     "text": [
      "Skipped: https://vbpl.vn/TW/Pages/vbpq-toanvan.aspx?ItemID=144030 redirected to https://vbpl.vn/tw/Pages/vbpq-van-ban-goc.aspx?dvid=13&ItemID=144030\n"
     ]
    },
    {
     "name": "stderr",
     "output_type": "stream",
     "text": [
      "Retrieving HTML documents:  12%|█▏        | 355/3036 [27:13<3:38:29,  4.89s/it]"
     ]
    },
    {
     "name": "stdout",
     "output_type": "stream",
     "text": [
      "Skipped: https://vbpl.vn/TW/Pages/vbpq-toanvan.aspx?ItemID=128212 redirected to https://vbpl.vn/tw/Pages/vbpq-van-ban-goc.aspx?dvid=13&ItemID=128212\n"
     ]
    },
    {
     "name": "stderr",
     "output_type": "stream",
     "text": [
      "Retrieving HTML documents:  12%|█▏        | 357/3036 [27:29<5:02:25,  6.77s/it]"
     ]
    },
    {
     "name": "stdout",
     "output_type": "stream",
     "text": [
      "Error fetching https://vbpl.vn/TW/Pages/vbpq-toanvan.aspx?ItemID=129985: HTTPSConnectionPool(host='vbpl.vn', port=443): Read timed out. (read timeout=10)\n"
     ]
    },
    {
     "name": "stderr",
     "output_type": "stream",
     "text": [
      "Retrieving HTML documents:  12%|█▏        | 362/3036 [28:03<4:38:04,  6.24s/it]"
     ]
    },
    {
     "name": "stdout",
     "output_type": "stream",
     "text": [
      "Skipped: https://vbpl.vn/TW/Pages/vbpq-toanvan.aspx?ItemID=146458 redirected to https://vbpl.vn/tw/Pages/vbpq-van-ban-goc.aspx?dvid=13&ItemID=146458\n"
     ]
    },
    {
     "name": "stderr",
     "output_type": "stream",
     "text": [
      "Retrieving HTML documents:  12%|█▏        | 366/3036 [28:34<6:15:51,  8.45s/it]"
     ]
    },
    {
     "name": "stdout",
     "output_type": "stream",
     "text": [
      "Error fetching https://vbpl.vn/TW/Pages/vbpq-toanvan.aspx?ItemID=48921: HTTPSConnectionPool(host='vbpl.vn', port=443): Read timed out.\n"
     ]
    },
    {
     "name": "stderr",
     "output_type": "stream",
     "text": [
      "Retrieving HTML documents:  12%|█▏        | 371/3036 [29:17<5:01:54,  6.80s/it]"
     ]
    },
    {
     "name": "stdout",
     "output_type": "stream",
     "text": [
      "Skipped: https://vbpl.vn/TW/Pages/vbpq-toanvan.aspx?ItemID=143883 redirected to https://vbpl.vn/tw/Pages/vbpq-van-ban-goc.aspx?dvid=13&ItemID=143883\n"
     ]
    },
    {
     "name": "stderr",
     "output_type": "stream",
     "text": [
      "Retrieving HTML documents:  12%|█▏        | 373/3036 [29:33<5:38:36,  7.63s/it]"
     ]
    },
    {
     "name": "stdout",
     "output_type": "stream",
     "text": [
      "Error fetching https://vbpl.vn/TW/Pages/vbpq-toanvan.aspx?ItemID=28077: HTTPSConnectionPool(host='vbpl.vn', port=443): Max retries exceeded with url: /TW/Pages/vbpq-toanvan.aspx?ItemID=28077 (Caused by ConnectTimeoutError(<urllib3.connection.HTTPSConnection object at 0x0000020182CAE090>, 'Connection to vbpl.vn timed out. (connect timeout=10)'))\n"
     ]
    },
    {
     "name": "stderr",
     "output_type": "stream",
     "text": [
      "Retrieving HTML documents:  12%|█▏        | 374/3036 [29:41<5:40:45,  7.68s/it]"
     ]
    },
    {
     "name": "stdout",
     "output_type": "stream",
     "text": [
      "Skipped: https://vbpl.vn/TW/Pages/vbpq-toanvan.aspx?ItemID=118393 redirected to https://vbpl.vn/tw/Pages/vbpq-van-ban-goc.aspx?dvid=13&ItemID=118393\n"
     ]
    },
    {
     "name": "stderr",
     "output_type": "stream",
     "text": [
      "Retrieving HTML documents:  12%|█▏        | 376/3036 [29:58<6:10:56,  8.37s/it]"
     ]
    },
    {
     "name": "stdout",
     "output_type": "stream",
     "text": [
      "Error fetching https://vbpl.vn/TW/Pages/vbpq-toanvan.aspx?ItemID=140152: HTTPSConnectionPool(host='vbpl.vn', port=443): Read timed out. (read timeout=10)\n"
     ]
    },
    {
     "name": "stderr",
     "output_type": "stream",
     "text": [
      "Retrieving HTML documents:  12%|█▏        | 378/3036 [30:14<6:00:58,  8.15s/it]"
     ]
    },
    {
     "name": "stdout",
     "output_type": "stream",
     "text": [
      "Skipped: https://vbpl.vn/TW/Pages/vbpq-toanvan.aspx?ItemID=118856 redirected to https://vbpl.vn/tw/Pages/vbpq-van-ban-goc.aspx?dvid=13&ItemID=118856\n"
     ]
    },
    {
     "name": "stderr",
     "output_type": "stream",
     "text": [
      "Retrieving HTML documents:  13%|█▎        | 385/3036 [30:54<3:49:29,  5.19s/it]"
     ]
    },
    {
     "name": "stdout",
     "output_type": "stream",
     "text": [
      "Skipped: https://vbpl.vn/TW/Pages/vbpq-toanvan.aspx?ItemID=140110 redirected to https://vbpl.vn/tw/Pages/vbpq-van-ban-goc.aspx?dvid=13&ItemID=140110\n"
     ]
    },
    {
     "name": "stderr",
     "output_type": "stream",
     "text": [
      "Retrieving HTML documents:  13%|█▎        | 393/3036 [31:33<3:24:21,  4.64s/it]"
     ]
    },
    {
     "name": "stdout",
     "output_type": "stream",
     "text": [
      "Skipped: https://vbpl.vn/TW/Pages/vbpq-toanvan.aspx?ItemID=166064 redirected to https://vbpl.vn/tw/Pages/vbpq-van-ban-goc.aspx?dvid=13&ItemID=166064\n"
     ]
    },
    {
     "name": "stderr",
     "output_type": "stream",
     "text": [
      "Retrieving HTML documents:  13%|█▎        | 395/3036 [31:42<3:10:26,  4.33s/it]"
     ]
    },
    {
     "name": "stdout",
     "output_type": "stream",
     "text": [
      "Skipped: https://vbpl.vn/TW/Pages/vbpq-toanvan.aspx?ItemID=160445 redirected to https://vbpl.vn/tw/Pages/vbpq-van-ban-goc.aspx?dvid=13&ItemID=160445\n"
     ]
    },
    {
     "name": "stderr",
     "output_type": "stream",
     "text": [
      "Retrieving HTML documents:  13%|█▎        | 404/3036 [32:27<3:11:06,  4.36s/it]"
     ]
    },
    {
     "name": "stdout",
     "output_type": "stream",
     "text": [
      "Skipped: https://vbpl.vn/TW/Pages/vbpq-toanvan.aspx?ItemID=119154 redirected to https://vbpl.vn/tw/Pages/vbpq-van-ban-goc.aspx?dvid=13&ItemID=119154\n"
     ]
    },
    {
     "name": "stderr",
     "output_type": "stream",
     "text": [
      "Retrieving HTML documents:  13%|█▎        | 408/3036 [32:45<3:09:09,  4.32s/it]"
     ]
    },
    {
     "name": "stdout",
     "output_type": "stream",
     "text": [
      "Skipped: https://vbpl.vn/TW/Pages/vbpq-toanvan.aspx?ItemID=146469 redirected to https://vbpl.vn/tw/Pages/vbpq-van-ban-goc.aspx?dvid=13&ItemID=146469\n"
     ]
    },
    {
     "name": "stderr",
     "output_type": "stream",
     "text": [
      "Retrieving HTML documents:  14%|█▍        | 428/3036 [34:40<3:45:24,  5.19s/it]"
     ]
    },
    {
     "name": "stdout",
     "output_type": "stream",
     "text": [
      "Skipped: https://vbpl.vn/TW/Pages/vbpq-toanvan.aspx?ItemID=128353 redirected to https://vbpl.vn/tw/Pages/vbpq-van-ban-goc.aspx?dvid=13&ItemID=128353\n"
     ]
    },
    {
     "name": "stderr",
     "output_type": "stream",
     "text": [
      "Retrieving HTML documents:  14%|█▍        | 437/3036 [35:27<3:19:20,  4.60s/it]"
     ]
    },
    {
     "name": "stdout",
     "output_type": "stream",
     "text": [
      "Skipped: https://vbpl.vn/TW/Pages/vbpq-toanvan.aspx?ItemID=163738 redirected to https://vbpl.vn/tw/Pages/vbpq-van-ban-goc.aspx?dvid=13&ItemID=163738\n"
     ]
    },
    {
     "name": "stderr",
     "output_type": "stream",
     "text": [
      "Retrieving HTML documents:  15%|█▌        | 470/3036 [38:22<3:24:08,  4.77s/it]"
     ]
    },
    {
     "name": "stdout",
     "output_type": "stream",
     "text": [
      "Skipped: https://vbpl.vn/TW/Pages/vbpq-toanvan.aspx?ItemID=138058 redirected to https://vbpl.vn/tw/Pages/vbpq-van-ban-goc.aspx?dvid=13&ItemID=138058\n"
     ]
    },
    {
     "name": "stderr",
     "output_type": "stream",
     "text": [
      "Retrieving HTML documents:  16%|█▌        | 474/3036 [38:41<3:06:04,  4.36s/it]"
     ]
    },
    {
     "name": "stdout",
     "output_type": "stream",
     "text": [
      "Skipped: https://vbpl.vn/TW/Pages/vbpq-toanvan.aspx?ItemID=127995 redirected to https://vbpl.vn/tw/Pages/vbpq-van-ban-goc.aspx?dvid=13&ItemID=127995\n"
     ]
    },
    {
     "name": "stderr",
     "output_type": "stream",
     "text": [
      "Retrieving HTML documents:  16%|█▌        | 479/3036 [39:05<3:18:20,  4.65s/it]"
     ]
    },
    {
     "name": "stdout",
     "output_type": "stream",
     "text": [
      "Skipped: https://vbpl.vn/TW/Pages/vbpq-toanvan.aspx?ItemID=108211 redirected to https://vbpl.vn/tw/Pages/vbpq-van-ban-goc.aspx?dvid=13&ItemID=108211\n"
     ]
    },
    {
     "name": "stderr",
     "output_type": "stream",
     "text": [
      "Retrieving HTML documents:  16%|█▌        | 481/3036 [39:14<3:08:33,  4.43s/it]"
     ]
    },
    {
     "name": "stdout",
     "output_type": "stream",
     "text": [
      "Skipped: https://vbpl.vn/TW/Pages/vbpq-toanvan.aspx?ItemID=131449 redirected to https://vbpl.vn/tw/Pages/vbpq-van-ban-goc.aspx?dvid=13&ItemID=131449\n"
     ]
    },
    {
     "name": "stderr",
     "output_type": "stream",
     "text": [
      "Retrieving HTML documents:  16%|█▌        | 483/3036 [39:22<3:00:56,  4.25s/it]"
     ]
    },
    {
     "name": "stdout",
     "output_type": "stream",
     "text": [
      "Skipped: https://vbpl.vn/TW/Pages/vbpq-toanvan.aspx?ItemID=157707 redirected to https://vbpl.vn/tw/Pages/vbpq-van-ban-goc.aspx?dvid=13&ItemID=157707\n"
     ]
    },
    {
     "name": "stderr",
     "output_type": "stream",
     "text": [
      "Retrieving HTML documents:  16%|█▌        | 486/3036 [39:36<3:07:42,  4.42s/it]"
     ]
    },
    {
     "name": "stdout",
     "output_type": "stream",
     "text": [
      "Skipped: https://vbpl.vn/TW/Pages/vbpq-toanvan.aspx?ItemID=134279 redirected to https://vbpl.vn/tw/Pages/vbpq-van-ban-goc.aspx?dvid=13&ItemID=134279\n"
     ]
    },
    {
     "name": "stderr",
     "output_type": "stream",
     "text": [
      "Retrieving HTML documents:  16%|█▌        | 490/3036 [39:54<3:00:10,  4.25s/it]"
     ]
    },
    {
     "name": "stdout",
     "output_type": "stream",
     "text": [
      "Skipped: https://vbpl.vn/TW/Pages/vbpq-toanvan.aspx?ItemID=141148 redirected to https://vbpl.vn/tw/Pages/vbpq-van-ban-goc.aspx?dvid=13&ItemID=141148\n"
     ]
    },
    {
     "name": "stderr",
     "output_type": "stream",
     "text": [
      "Retrieving HTML documents:  16%|█▋        | 497/3036 [40:30<3:19:06,  4.71s/it]"
     ]
    },
    {
     "name": "stdout",
     "output_type": "stream",
     "text": [
      "Skipped: https://vbpl.vn/TW/Pages/vbpq-toanvan.aspx?ItemID=140564 redirected to https://vbpl.vn/tw/Pages/vbpq-van-ban-goc.aspx?dvid=13&ItemID=140564\n"
     ]
    },
    {
     "name": "stderr",
     "output_type": "stream",
     "text": [
      "Retrieving HTML documents:  17%|█▋        | 507/3036 [41:22<3:21:13,  4.77s/it]"
     ]
    },
    {
     "name": "stdout",
     "output_type": "stream",
     "text": [
      "Skipped: https://vbpl.vn/TW/Pages/vbpq-toanvan.aspx?ItemID=137801 redirected to https://vbpl.vn/tw/Pages/vbpq-van-ban-goc.aspx?dvid=13&ItemID=137801\n"
     ]
    },
    {
     "name": "stderr",
     "output_type": "stream",
     "text": [
      "Retrieving HTML documents:  17%|█▋        | 508/3036 [41:25<3:01:07,  4.30s/it]"
     ]
    },
    {
     "name": "stdout",
     "output_type": "stream",
     "text": [
      "Skipped: https://vbpl.vn/TW/Pages/vbpq-toanvan.aspx?ItemID=136043 redirected to https://vbpl.vn/tw/Pages/vbpq-van-ban-goc.aspx?dvid=13&ItemID=136043\n"
     ]
    },
    {
     "name": "stderr",
     "output_type": "stream",
     "text": [
      "Retrieving HTML documents:  17%|█▋        | 517/3036 [42:07<3:01:06,  4.31s/it]"
     ]
    },
    {
     "name": "stdout",
     "output_type": "stream",
     "text": [
      "Skipped: https://vbpl.vn/TW/Pages/vbpq-toanvan.aspx?ItemID=122980 redirected to https://vbpl.vn/tw/Pages/vbpq-van-ban-goc.aspx?dvid=13&ItemID=122980\n"
     ]
    },
    {
     "name": "stderr",
     "output_type": "stream",
     "text": [
      "Retrieving HTML documents:  17%|█▋        | 518/3036 [42:13<3:27:57,  4.96s/it]"
     ]
    },
    {
     "name": "stdout",
     "output_type": "stream",
     "text": [
      "Skipped: https://vbpl.vn/TW/Pages/vbpq-toanvan.aspx?ItemID=142720 redirected to https://vbpl.vn/tw/Pages/vbpq-van-ban-goc.aspx?dvid=13&ItemID=142720\n"
     ]
    },
    {
     "name": "stderr",
     "output_type": "stream",
     "text": [
      "Retrieving HTML documents:  17%|█▋        | 523/3036 [42:37<3:14:48,  4.65s/it]"
     ]
    },
    {
     "name": "stdout",
     "output_type": "stream",
     "text": [
      "Skipped: https://vbpl.vn/TW/Pages/vbpq-toanvan.aspx?ItemID=101902 redirected to https://vbpl.vn/tw/Pages/vbpq-van-ban-goc.aspx?dvid=13&ItemID=101902\n"
     ]
    },
    {
     "name": "stderr",
     "output_type": "stream",
     "text": [
      "Retrieving HTML documents:  17%|█▋        | 528/3036 [42:59<2:57:50,  4.25s/it]"
     ]
    },
    {
     "name": "stdout",
     "output_type": "stream",
     "text": [
      "Skipped: https://vbpl.vn/TW/Pages/vbpq-toanvan.aspx?ItemID=110855 redirected to https://vbpl.vn/tw/Pages/vbpq-van-ban-goc.aspx?dvid=13&ItemID=110855\n"
     ]
    },
    {
     "name": "stderr",
     "output_type": "stream",
     "text": [
      "Retrieving HTML documents:  17%|█▋        | 529/3036 [43:03<2:48:55,  4.04s/it]"
     ]
    },
    {
     "name": "stdout",
     "output_type": "stream",
     "text": [
      "Skipped: https://vbpl.vn/TW/Pages/vbpq-toanvan.aspx?ItemID=110933 redirected to https://vbpl.vn/tw/Pages/vbpq-van-ban-goc.aspx?dvid=13&ItemID=110933\n"
     ]
    },
    {
     "name": "stderr",
     "output_type": "stream",
     "text": [
      "Retrieving HTML documents:  17%|█▋        | 531/3036 [43:11<2:45:34,  3.97s/it]"
     ]
    },
    {
     "name": "stdout",
     "output_type": "stream",
     "text": [
      "Skipped: https://vbpl.vn/TW/Pages/vbpq-toanvan.aspx?ItemID=112162 redirected to https://vbpl.vn/tw/Pages/vbpq-van-ban-goc.aspx?dvid=13&ItemID=112162\n"
     ]
    },
    {
     "name": "stderr",
     "output_type": "stream",
     "text": [
      "Retrieving HTML documents:  18%|█▊        | 532/3036 [43:14<2:34:52,  3.71s/it]"
     ]
    },
    {
     "name": "stdout",
     "output_type": "stream",
     "text": [
      "Skipped: https://vbpl.vn/TW/Pages/vbpq-toanvan.aspx?ItemID=119180 redirected to https://vbpl.vn/tw/Pages/vbpq-van-ban-goc.aspx?dvid=13&ItemID=119180\n"
     ]
    },
    {
     "name": "stderr",
     "output_type": "stream",
     "text": [
      "Retrieving HTML documents:  18%|█▊        | 536/3036 [43:33<2:59:10,  4.30s/it]"
     ]
    },
    {
     "name": "stdout",
     "output_type": "stream",
     "text": [
      "Skipped: https://vbpl.vn/TW/Pages/vbpq-toanvan.aspx?ItemID=143626 redirected to https://vbpl.vn/tw/Pages/vbpq-van-ban-goc.aspx?dvid=13&ItemID=143626\n"
     ]
    },
    {
     "name": "stderr",
     "output_type": "stream",
     "text": [
      "Retrieving HTML documents:  18%|█▊        | 545/3036 [44:16<3:09:56,  4.57s/it]"
     ]
    },
    {
     "name": "stdout",
     "output_type": "stream",
     "text": [
      "Skipped: https://vbpl.vn/TW/Pages/vbpq-toanvan.aspx?ItemID=150984 redirected to https://vbpl.vn/tw/Pages/vbpq-van-ban-goc.aspx?dvid=13&ItemID=150984\n"
     ]
    },
    {
     "name": "stderr",
     "output_type": "stream",
     "text": [
      "Retrieving HTML documents:  18%|█▊        | 560/3036 [45:36<3:23:29,  4.93s/it]"
     ]
    },
    {
     "name": "stdout",
     "output_type": "stream",
     "text": [
      "Skipped: https://vbpl.vn/TW/Pages/vbpq-toanvan.aspx?ItemID=112338 redirected to https://vbpl.vn/tw/Pages/vbpq-van-ban-goc.aspx?dvid=13&ItemID=112338\n"
     ]
    },
    {
     "name": "stderr",
     "output_type": "stream",
     "text": [
      "Retrieving HTML documents:  19%|█▊        | 566/3036 [46:04<2:57:44,  4.32s/it]"
     ]
    },
    {
     "name": "stdout",
     "output_type": "stream",
     "text": [
      "Skipped: https://vbpl.vn/TW/Pages/vbpq-toanvan.aspx?ItemID=140211 redirected to https://vbpl.vn/tw/Pages/vbpq-van-ban-goc.aspx?dvid=13&ItemID=140211\n"
     ]
    },
    {
     "name": "stderr",
     "output_type": "stream",
     "text": [
      "Retrieving HTML documents:  19%|█▊        | 567/3036 [46:07<2:43:23,  3.97s/it]"
     ]
    },
    {
     "name": "stdout",
     "output_type": "stream",
     "text": [
      "Skipped: https://vbpl.vn/TW/Pages/vbpq-toanvan.aspx?ItemID=135360 redirected to https://vbpl.vn/tw/Pages/vbpq-van-ban-goc.aspx?dvid=13&ItemID=135360\n"
     ]
    },
    {
     "name": "stderr",
     "output_type": "stream",
     "text": [
      "Retrieving HTML documents:  19%|█▉        | 570/3036 [46:20<2:45:43,  4.03s/it]"
     ]
    },
    {
     "name": "stdout",
     "output_type": "stream",
     "text": [
      "Skipped: https://vbpl.vn/TW/Pages/vbpq-toanvan.aspx?ItemID=110798 redirected to https://vbpl.vn/tw/Pages/vbpq-van-ban-goc.aspx?dvid=13&ItemID=110798\n"
     ]
    },
    {
     "name": "stderr",
     "output_type": "stream",
     "text": [
      "Retrieving HTML documents:  19%|█▉        | 583/3036 [47:31<2:59:09,  4.38s/it]"
     ]
    },
    {
     "name": "stdout",
     "output_type": "stream",
     "text": [
      "Skipped: https://vbpl.vn/TW/Pages/vbpq-toanvan.aspx?ItemID=151084 redirected to https://vbpl.vn/tw/Pages/vbpq-van-ban-goc.aspx?dvid=13&ItemID=151084\n"
     ]
    },
    {
     "name": "stderr",
     "output_type": "stream",
     "text": [
      "Retrieving HTML documents:  19%|█▉        | 584/3036 [47:34<2:41:27,  3.95s/it]"
     ]
    },
    {
     "name": "stdout",
     "output_type": "stream",
     "text": [
      "Skipped: https://vbpl.vn/TW/Pages/vbpq-toanvan.aspx?ItemID=137482 redirected to https://vbpl.vn/tw/Pages/vbpq-van-ban-goc.aspx?dvid=13&ItemID=137482\n"
     ]
    },
    {
     "name": "stderr",
     "output_type": "stream",
     "text": [
      "Retrieving HTML documents:  19%|█▉        | 591/3036 [48:05<2:51:11,  4.20s/it]"
     ]
    },
    {
     "name": "stdout",
     "output_type": "stream",
     "text": [
      "Skipped: https://vbpl.vn/TW/Pages/vbpq-toanvan.aspx?ItemID=146448 redirected to https://vbpl.vn/tw/Pages/vbpq-van-ban-goc.aspx?dvid=13&ItemID=146448\n"
     ]
    },
    {
     "name": "stderr",
     "output_type": "stream",
     "text": [
      "Retrieving HTML documents:  20%|██        | 619/3036 [50:34<3:29:11,  5.19s/it]"
     ]
    },
    {
     "name": "stdout",
     "output_type": "stream",
     "text": [
      "Skipped: https://vbpl.vn/TW/Pages/vbpq-toanvan.aspx?ItemID=160823 redirected to https://vbpl.vn/tw/Pages/vbpq-van-ban-goc.aspx?dvid=13&ItemID=160823\n"
     ]
    },
    {
     "name": "stderr",
     "output_type": "stream",
     "text": [
      "Retrieving HTML documents:  21%|██        | 640/3036 [52:24<2:46:40,  4.17s/it]"
     ]
    },
    {
     "name": "stdout",
     "output_type": "stream",
     "text": [
      "Skipped: https://vbpl.vn/TW/Pages/vbpq-toanvan.aspx?ItemID=135631 redirected to https://vbpl.vn/tw/Pages/vbpq-van-ban-goc.aspx?dvid=13&ItemID=135631\n"
     ]
    },
    {
     "name": "stderr",
     "output_type": "stream",
     "text": [
      "Retrieving HTML documents:  21%|██        | 642/3036 [52:33<2:46:26,  4.17s/it]"
     ]
    },
    {
     "name": "stdout",
     "output_type": "stream",
     "text": [
      "Skipped: https://vbpl.vn/TW/Pages/vbpq-toanvan.aspx?ItemID=119207 redirected to https://vbpl.vn/tw/Pages/vbpq-van-ban-goc.aspx?dvid=13&ItemID=119207\n"
     ]
    },
    {
     "name": "stderr",
     "output_type": "stream",
     "text": [
      "Retrieving HTML documents:  22%|██▏       | 653/3036 [53:27<2:51:59,  4.33s/it]"
     ]
    },
    {
     "name": "stdout",
     "output_type": "stream",
     "text": [
      "Skipped: https://vbpl.vn/TW/Pages/vbpq-toanvan.aspx?ItemID=137490 redirected to https://vbpl.vn/tw/Pages/vbpq-van-ban-goc.aspx?dvid=13&ItemID=137490\n"
     ]
    },
    {
     "name": "stderr",
     "output_type": "stream",
     "text": [
      "Retrieving HTML documents:  22%|██▏       | 655/3036 [53:35<2:40:46,  4.05s/it]"
     ]
    },
    {
     "name": "stdout",
     "output_type": "stream",
     "text": [
      "Skipped: https://vbpl.vn/TW/Pages/vbpq-toanvan.aspx?ItemID=119084 redirected to https://vbpl.vn/tw/Pages/vbpq-van-ban-goc.aspx?dvid=13&ItemID=119084\n"
     ]
    },
    {
     "name": "stderr",
     "output_type": "stream",
     "text": [
      "Retrieving HTML documents:  22%|██▏       | 661/3036 [54:09<3:14:33,  4.92s/it]"
     ]
    },
    {
     "name": "stdout",
     "output_type": "stream",
     "text": [
      "Skipped: https://vbpl.vn/TW/Pages/vbpq-toanvan.aspx?ItemID=151002 redirected to https://vbpl.vn/tw/Pages/vbpq-van-ban-goc.aspx?dvid=13&ItemID=151002\n"
     ]
    },
    {
     "name": "stderr",
     "output_type": "stream",
     "text": [
      "Retrieving HTML documents:  22%|██▏       | 667/3036 [54:35<2:42:48,  4.12s/it]"
     ]
    },
    {
     "name": "stdout",
     "output_type": "stream",
     "text": [
      "Skipped: https://vbpl.vn/TW/Pages/vbpq-toanvan.aspx?ItemID=156660 redirected to https://vbpl.vn/tw/Pages/vbpq-van-ban-goc.aspx?dvid=13&ItemID=156660\n"
     ]
    },
    {
     "name": "stderr",
     "output_type": "stream",
     "text": [
      "Retrieving HTML documents:  22%|██▏       | 677/3036 [55:23<2:47:51,  4.27s/it]"
     ]
    },
    {
     "name": "stdout",
     "output_type": "stream",
     "text": [
      "Skipped: https://vbpl.vn/TW/Pages/vbpq-toanvan.aspx?ItemID=154772 redirected to https://vbpl.vn/tw/Pages/vbpq-van-ban-goc.aspx?dvid=13&ItemID=154772\n"
     ]
    },
    {
     "name": "stderr",
     "output_type": "stream",
     "text": [
      "Retrieving HTML documents:  23%|██▎       | 690/3036 [56:30<3:04:51,  4.73s/it]"
     ]
    },
    {
     "name": "stdout",
     "output_type": "stream",
     "text": [
      "Skipped: https://vbpl.vn/TW/Pages/vbpq-toanvan.aspx?ItemID=132174 redirected to https://vbpl.vn/tw/Pages/vbpq-van-ban-goc.aspx?dvid=13&ItemID=132174\n"
     ]
    },
    {
     "name": "stderr",
     "output_type": "stream",
     "text": [
      "Retrieving HTML documents:  23%|██▎       | 693/3036 [56:43<2:51:54,  4.40s/it]"
     ]
    },
    {
     "name": "stdout",
     "output_type": "stream",
     "text": [
      "Skipped: https://vbpl.vn/TW/Pages/vbpq-toanvan.aspx?ItemID=136159 redirected to https://vbpl.vn/tw/Pages/vbpq-van-ban-goc.aspx?dvid=13&ItemID=136159\n"
     ]
    },
    {
     "name": "stderr",
     "output_type": "stream",
     "text": [
      "Retrieving HTML documents:  23%|██▎       | 700/3036 [57:17<2:55:07,  4.50s/it]"
     ]
    },
    {
     "name": "stdout",
     "output_type": "stream",
     "text": [
      "Skipped: https://vbpl.vn/TW/Pages/vbpq-toanvan.aspx?ItemID=147606 redirected to https://vbpl.vn/tw/Pages/vbpq-van-ban-goc.aspx?dvid=13&ItemID=147606\n"
     ]
    },
    {
     "name": "stderr",
     "output_type": "stream",
     "text": [
      "Retrieving HTML documents:  23%|██▎       | 705/3036 [57:43<2:56:49,  4.55s/it]"
     ]
    },
    {
     "name": "stdout",
     "output_type": "stream",
     "text": [
      "Skipped: https://vbpl.vn/TW/Pages/vbpq-toanvan.aspx?ItemID=127259 redirected to https://vbpl.vn/tw/Pages/vbpq-van-ban-goc.aspx?dvid=13&ItemID=127259\n"
     ]
    },
    {
     "name": "stderr",
     "output_type": "stream",
     "text": [
      "Retrieving HTML documents:  24%|██▎       | 717/3036 [58:47<2:58:00,  4.61s/it]"
     ]
    },
    {
     "name": "stdout",
     "output_type": "stream",
     "text": [
      "Skipped: https://vbpl.vn/TW/Pages/vbpq-toanvan.aspx?ItemID=141955 redirected to https://vbpl.vn/tw/Pages/vbpq-van-ban-goc.aspx?dvid=13&ItemID=141955\n"
     ]
    },
    {
     "name": "stderr",
     "output_type": "stream",
     "text": [
      "Retrieving HTML documents:  24%|██▍       | 729/3036 [59:40<2:33:22,  3.99s/it]"
     ]
    },
    {
     "name": "stdout",
     "output_type": "stream",
     "text": [
      "Skipped: https://vbpl.vn/TW/Pages/vbpq-toanvan.aspx?ItemID=164765 redirected to https://vbpl.vn/tw/Pages/vbpq-van-ban-goc.aspx?dvid=13&ItemID=164765\n"
     ]
    },
    {
     "name": "stderr",
     "output_type": "stream",
     "text": [
      "Retrieving HTML documents:  24%|██▍       | 742/3036 [1:00:43<2:51:07,  4.48s/it]"
     ]
    },
    {
     "name": "stdout",
     "output_type": "stream",
     "text": [
      "Skipped: https://vbpl.vn/TW/Pages/vbpq-toanvan.aspx?ItemID=138223 redirected to https://vbpl.vn/tw/Pages/vbpq-van-ban-goc.aspx?dvid=13&ItemID=138223\n"
     ]
    },
    {
     "name": "stderr",
     "output_type": "stream",
     "text": [
      "Retrieving HTML documents:  25%|██▍       | 744/3036 [1:00:52<2:43:07,  4.27s/it]"
     ]
    },
    {
     "name": "stdout",
     "output_type": "stream",
     "text": [
      "Skipped: https://vbpl.vn/TW/Pages/vbpq-toanvan.aspx?ItemID=123282 redirected to https://vbpl.vn/tw/Pages/vbpq-van-ban-goc.aspx?dvid=13&ItemID=123282\n"
     ]
    },
    {
     "name": "stderr",
     "output_type": "stream",
     "text": [
      "Retrieving HTML documents:  25%|██▍       | 748/3036 [1:01:12<2:54:02,  4.56s/it]"
     ]
    },
    {
     "name": "stdout",
     "output_type": "stream",
     "text": [
      "Skipped: https://vbpl.vn/TW/Pages/vbpq-toanvan.aspx?ItemID=117609 redirected to https://vbpl.vn/tw/Pages/vbpq-van-ban-goc.aspx?dvid=13&ItemID=117609\n"
     ]
    },
    {
     "name": "stderr",
     "output_type": "stream",
     "text": [
      "Retrieving HTML documents:  25%|██▌       | 760/3036 [1:02:07<2:38:17,  4.17s/it]"
     ]
    },
    {
     "name": "stdout",
     "output_type": "stream",
     "text": [
      "Skipped: https://vbpl.vn/TW/Pages/vbpq-toanvan.aspx?ItemID=160626 redirected to https://vbpl.vn/tw/Pages/vbpq-van-ban-goc.aspx?dvid=13&ItemID=160626\n"
     ]
    },
    {
     "name": "stderr",
     "output_type": "stream",
     "text": [
      "Retrieving HTML documents:  25%|██▌       | 765/3036 [1:02:28<2:31:36,  4.01s/it]"
     ]
    },
    {
     "name": "stdout",
     "output_type": "stream",
     "text": [
      "Skipped: https://vbpl.vn/TW/Pages/vbpq-toanvan.aspx?ItemID=151078 redirected to https://vbpl.vn/tw/Pages/vbpq-van-ban-goc.aspx?dvid=13&ItemID=151078\n"
     ]
    },
    {
     "name": "stderr",
     "output_type": "stream",
     "text": [
      "Retrieving HTML documents:  25%|██▌       | 773/3036 [1:03:05<2:46:55,  4.43s/it]"
     ]
    },
    {
     "name": "stdout",
     "output_type": "stream",
     "text": [
      "Skipped: https://vbpl.vn/TW/Pages/vbpq-toanvan.aspx?ItemID=152533 redirected to https://vbpl.vn/tw/Pages/vbpq-van-ban-goc.aspx?dvid=13&ItemID=152533\n"
     ]
    },
    {
     "name": "stderr",
     "output_type": "stream",
     "text": [
      "Retrieving HTML documents:  26%|██▌       | 775/3036 [1:03:13<2:37:43,  4.19s/it]"
     ]
    },
    {
     "name": "stdout",
     "output_type": "stream",
     "text": [
      "Skipped: https://vbpl.vn/TW/Pages/vbpq-toanvan.aspx?ItemID=113163 redirected to https://vbpl.vn/tw/Pages/vbpq-van-ban-goc.aspx?dvid=13&ItemID=113163\n"
     ]
    },
    {
     "name": "stderr",
     "output_type": "stream",
     "text": [
      "Retrieving HTML documents:  26%|██▌       | 776/3036 [1:03:16<2:22:34,  3.79s/it]"
     ]
    },
    {
     "name": "stdout",
     "output_type": "stream",
     "text": [
      "Skipped: https://vbpl.vn/TW/Pages/vbpq-toanvan.aspx?ItemID=144820 redirected to https://vbpl.vn/tw/Pages/vbpq-van-ban-goc.aspx?dvid=13&ItemID=144820\n"
     ]
    },
    {
     "name": "stderr",
     "output_type": "stream",
     "text": [
      "Retrieving HTML documents:  26%|██▌       | 780/3036 [1:03:35<2:32:58,  4.07s/it]"
     ]
    },
    {
     "name": "stdout",
     "output_type": "stream",
     "text": [
      "Skipped: https://vbpl.vn/TW/Pages/vbpq-toanvan.aspx?ItemID=166772 redirected to https://vbpl.vn/tw/Pages/vbpq-van-ban-goc.aspx?dvid=13&ItemID=166772\n"
     ]
    },
    {
     "name": "stderr",
     "output_type": "stream",
     "text": [
      "Retrieving HTML documents:  26%|██▌       | 782/3036 [1:03:42<2:20:23,  3.74s/it]"
     ]
    },
    {
     "name": "stdout",
     "output_type": "stream",
     "text": [
      "Skipped: https://vbpl.vn/TW/Pages/vbpq-toanvan.aspx?ItemID=110880 redirected to https://vbpl.vn/tw/Pages/vbpq-van-ban-goc.aspx?dvid=13&ItemID=110880\n"
     ]
    },
    {
     "name": "stderr",
     "output_type": "stream",
     "text": [
      "Retrieving HTML documents:  26%|██▌       | 787/3036 [1:04:07<2:40:00,  4.27s/it]"
     ]
    },
    {
     "name": "stdout",
     "output_type": "stream",
     "text": [
      "Skipped: https://vbpl.vn/TW/Pages/vbpq-toanvan.aspx?ItemID=154800 redirected to https://vbpl.vn/tw/Pages/vbpq-van-ban-goc.aspx?dvid=13&ItemID=154800\n"
     ]
    },
    {
     "name": "stderr",
     "output_type": "stream",
     "text": [
      "Retrieving HTML documents:  26%|██▌       | 792/3036 [1:04:32<2:47:12,  4.47s/it]"
     ]
    },
    {
     "name": "stdout",
     "output_type": "stream",
     "text": [
      "Skipped: https://vbpl.vn/TW/Pages/vbpq-toanvan.aspx?ItemID=144827 redirected to https://vbpl.vn/tw/Pages/vbpq-van-ban-goc.aspx?dvid=13&ItemID=144827\n"
     ]
    },
    {
     "name": "stderr",
     "output_type": "stream",
     "text": [
      "Retrieving HTML documents:  26%|██▋       | 799/3036 [1:05:04<2:39:11,  4.27s/it]"
     ]
    },
    {
     "name": "stdout",
     "output_type": "stream",
     "text": [
      "Skipped: https://vbpl.vn/TW/Pages/vbpq-toanvan.aspx?ItemID=134371 redirected to https://vbpl.vn/tw/Pages/vbpq-van-ban-goc.aspx?dvid=13&ItemID=134371\n"
     ]
    },
    {
     "name": "stderr",
     "output_type": "stream",
     "text": [
      "Retrieving HTML documents:  27%|██▋       | 805/3036 [1:05:35<2:43:59,  4.41s/it]"
     ]
    },
    {
     "name": "stdout",
     "output_type": "stream",
     "text": [
      "Skipped: https://vbpl.vn/TW/Pages/vbpq-toanvan.aspx?ItemID=153024 redirected to https://vbpl.vn/tw/Pages/vbpq-van-ban-goc.aspx?dvid=13&ItemID=153024\n"
     ]
    },
    {
     "name": "stderr",
     "output_type": "stream",
     "text": [
      "Retrieving HTML documents:  27%|██▋       | 807/3036 [1:05:42<2:31:13,  4.07s/it]"
     ]
    },
    {
     "name": "stdout",
     "output_type": "stream",
     "text": [
      "Skipped: https://vbpl.vn/TW/Pages/vbpq-toanvan.aspx?ItemID=151046 redirected to https://vbpl.vn/tw/Pages/vbpq-van-ban-goc.aspx?dvid=13&ItemID=151046\n"
     ]
    },
    {
     "name": "stderr",
     "output_type": "stream",
     "text": [
      "Retrieving HTML documents:  27%|██▋       | 811/3036 [1:06:01<2:41:25,  4.35s/it]"
     ]
    },
    {
     "name": "stdout",
     "output_type": "stream",
     "text": [
      "Skipped: https://vbpl.vn/TW/Pages/vbpq-toanvan.aspx?ItemID=154055 redirected to https://vbpl.vn/tw/Pages/vbpq-van-ban-goc.aspx?dvid=13&ItemID=154055\n"
     ]
    },
    {
     "name": "stderr",
     "output_type": "stream",
     "text": [
      "Retrieving HTML documents:  27%|██▋       | 820/3036 [1:06:50<3:01:12,  4.91s/it]"
     ]
    },
    {
     "name": "stdout",
     "output_type": "stream",
     "text": [
      "Skipped: https://vbpl.vn/TW/Pages/vbpq-toanvan.aspx?ItemID=124943 redirected to https://vbpl.vn/tw/Pages/vbpq-van-ban-goc.aspx?dvid=13&ItemID=124943\n"
     ]
    },
    {
     "name": "stderr",
     "output_type": "stream",
     "text": [
      "Retrieving HTML documents:  27%|██▋       | 829/3036 [1:07:34<2:59:26,  4.88s/it]"
     ]
    },
    {
     "name": "stdout",
     "output_type": "stream",
     "text": [
      "Skipped: https://vbpl.vn/TW/Pages/vbpq-toanvan.aspx?ItemID=136168 redirected to https://vbpl.vn/tw/Pages/vbpq-van-ban-goc.aspx?dvid=13&ItemID=136168\n"
     ]
    },
    {
     "name": "stderr",
     "output_type": "stream",
     "text": [
      "Retrieving HTML documents:  27%|██▋       | 831/3036 [1:07:42<2:36:52,  4.27s/it]"
     ]
    },
    {
     "name": "stdout",
     "output_type": "stream",
     "text": [
      "Skipped: https://vbpl.vn/TW/Pages/vbpq-toanvan.aspx?ItemID=136034 redirected to https://vbpl.vn/tw/Pages/vbpq-van-ban-goc.aspx?dvid=13&ItemID=136034\n"
     ]
    },
    {
     "name": "stderr",
     "output_type": "stream",
     "text": [
      "Retrieving HTML documents:  28%|██▊       | 843/3036 [1:08:36<2:35:16,  4.25s/it]"
     ]
    },
    {
     "name": "stdout",
     "output_type": "stream",
     "text": [
      "Skipped: https://vbpl.vn/TW/Pages/vbpq-toanvan.aspx?ItemID=143812 redirected to https://vbpl.vn/tw/Pages/vbpq-van-ban-goc.aspx?dvid=13&ItemID=143812\n"
     ]
    },
    {
     "name": "stderr",
     "output_type": "stream",
     "text": [
      "Retrieving HTML documents:  28%|██▊       | 846/3036 [1:08:48<2:20:26,  3.85s/it]"
     ]
    },
    {
     "name": "stdout",
     "output_type": "stream",
     "text": [
      "Skipped: https://vbpl.vn/TW/Pages/vbpq-toanvan.aspx?ItemID=153019 redirected to https://vbpl.vn/tw/Pages/vbpq-van-ban-goc.aspx?dvid=13&ItemID=153019\n"
     ]
    },
    {
     "name": "stderr",
     "output_type": "stream",
     "text": [
      "Retrieving HTML documents:  28%|██▊       | 853/3036 [1:09:25<2:45:33,  4.55s/it]"
     ]
    },
    {
     "name": "stdout",
     "output_type": "stream",
     "text": [
      "Skipped: https://vbpl.vn/TW/Pages/vbpq-toanvan.aspx?ItemID=137250 redirected to https://vbpl.vn/tw/Pages/vbpq-van-ban-goc.aspx?dvid=13&ItemID=137250\n"
     ]
    },
    {
     "name": "stderr",
     "output_type": "stream",
     "text": [
      "Retrieving HTML documents:  28%|██▊       | 865/3036 [1:10:25<2:37:44,  4.36s/it]"
     ]
    },
    {
     "name": "stdout",
     "output_type": "stream",
     "text": [
      "Skipped: https://vbpl.vn/TW/Pages/vbpq-toanvan.aspx?ItemID=155110 redirected to https://vbpl.vn/tw/Pages/vbpq-van-ban-goc.aspx?dvid=13&ItemID=155110\n"
     ]
    },
    {
     "name": "stderr",
     "output_type": "stream",
     "text": [
      "Retrieving HTML documents:  29%|██▉       | 882/3036 [1:11:45<2:29:08,  4.15s/it]"
     ]
    },
    {
     "name": "stdout",
     "output_type": "stream",
     "text": [
      "Skipped: https://vbpl.vn/TW/Pages/vbpq-toanvan.aspx?ItemID=150988 redirected to https://vbpl.vn/tw/Pages/vbpq-van-ban-goc.aspx?dvid=13&ItemID=150988\n"
     ]
    },
    {
     "name": "stderr",
     "output_type": "stream",
     "text": [
      "Retrieving HTML documents:  30%|███       | 915/3036 [1:14:23<2:40:51,  4.55s/it]"
     ]
    },
    {
     "name": "stdout",
     "output_type": "stream",
     "text": [
      "Skipped: https://vbpl.vn/TW/Pages/vbpq-toanvan.aspx?ItemID=143318 redirected to https://vbpl.vn/tw/Pages/home.aspx\n"
     ]
    },
    {
     "name": "stderr",
     "output_type": "stream",
     "text": [
      "Retrieving HTML documents:  30%|███       | 916/3036 [1:14:26<2:22:10,  4.02s/it]"
     ]
    },
    {
     "name": "stdout",
     "output_type": "stream",
     "text": [
      "Skipped: https://vbpl.vn/TW/Pages/vbpq-toanvan.aspx?ItemID=119072 redirected to https://vbpl.vn/tw/Pages/vbpq-van-ban-goc.aspx?dvid=13&ItemID=119072\n"
     ]
    },
    {
     "name": "stderr",
     "output_type": "stream",
     "text": [
      "Retrieving HTML documents:  30%|███       | 919/3036 [1:14:40<2:34:29,  4.38s/it]"
     ]
    },
    {
     "name": "stdout",
     "output_type": "stream",
     "text": [
      "Skipped: https://vbpl.vn/TW/Pages/vbpq-toanvan.aspx?ItemID=139878 redirected to https://vbpl.vn/tw/Pages/vbpq-van-ban-goc.aspx?dvid=13&ItemID=139878\n"
     ]
    },
    {
     "name": "stderr",
     "output_type": "stream",
     "text": [
      "Retrieving HTML documents:  31%|███       | 930/3036 [1:15:30<2:24:08,  4.11s/it]"
     ]
    },
    {
     "name": "stdout",
     "output_type": "stream",
     "text": [
      "Skipped: https://vbpl.vn/TW/Pages/vbpq-toanvan.aspx?ItemID=140449 redirected to https://vbpl.vn/tw/Pages/vbpq-van-ban-goc.aspx?dvid=13&ItemID=140449\n"
     ]
    },
    {
     "name": "stderr",
     "output_type": "stream",
     "text": [
      "Retrieving HTML documents:  31%|███       | 931/3036 [1:15:33<2:09:39,  3.70s/it]"
     ]
    },
    {
     "name": "stdout",
     "output_type": "stream",
     "text": [
      "Skipped: https://vbpl.vn/TW/Pages/vbpq-toanvan.aspx?ItemID=139882 redirected to https://vbpl.vn/tw/Pages/vbpq-van-ban-goc.aspx?dvid=13&ItemID=139882\n"
     ]
    },
    {
     "name": "stderr",
     "output_type": "stream",
     "text": [
      "Retrieving HTML documents:  31%|███       | 945/3036 [1:16:47<2:41:05,  4.62s/it]"
     ]
    },
    {
     "name": "stdout",
     "output_type": "stream",
     "text": [
      "Skipped: https://vbpl.vn/TW/Pages/vbpq-toanvan.aspx?ItemID=119138 redirected to https://vbpl.vn/tw/Pages/vbpq-van-ban-goc.aspx?dvid=13&ItemID=119138\n"
     ]
    },
    {
     "name": "stderr",
     "output_type": "stream",
     "text": [
      "Retrieving HTML documents:  32%|███▏      | 971/3036 [1:18:52<2:25:27,  4.23s/it]"
     ]
    },
    {
     "name": "stdout",
     "output_type": "stream",
     "text": [
      "Skipped: https://vbpl.vn/TW/Pages/vbpq-toanvan.aspx?ItemID=145104 redirected to https://vbpl.vn/tw/Pages/vbpq-van-ban-goc.aspx?dvid=13&ItemID=145104\n"
     ]
    },
    {
     "name": "stderr",
     "output_type": "stream",
     "text": [
      "Retrieving HTML documents:  32%|███▏      | 973/3036 [1:19:00<2:15:14,  3.93s/it]"
     ]
    },
    {
     "name": "stdout",
     "output_type": "stream",
     "text": [
      "Skipped: https://vbpl.vn/TW/Pages/vbpq-toanvan.aspx?ItemID=140553 redirected to https://vbpl.vn/tw/Pages/vbpq-van-ban-goc.aspx?dvid=13&ItemID=140553\n"
     ]
    },
    {
     "name": "stderr",
     "output_type": "stream",
     "text": [
      "Retrieving HTML documents:  32%|███▏      | 980/3036 [1:19:35<2:34:08,  4.50s/it]"
     ]
    },
    {
     "name": "stdout",
     "output_type": "stream",
     "text": [
      "Skipped: https://vbpl.vn/TW/Pages/vbpq-toanvan.aspx?ItemID=139093 redirected to https://vbpl.vn/tw/Pages/vbpq-van-ban-goc.aspx?dvid=13&ItemID=139093\n"
     ]
    },
    {
     "name": "stderr",
     "output_type": "stream",
     "text": [
      "Retrieving HTML documents:  32%|███▏      | 982/3036 [1:19:42<2:18:03,  4.03s/it]"
     ]
    },
    {
     "name": "stdout",
     "output_type": "stream",
     "text": [
      "Skipped: https://vbpl.vn/TW/Pages/vbpq-toanvan.aspx?ItemID=139087 redirected to https://vbpl.vn/tw/Pages/vbpq-van-ban-goc.aspx?dvid=13&ItemID=139087\n"
     ]
    },
    {
     "name": "stderr",
     "output_type": "stream",
     "text": [
      "Retrieving HTML documents:  32%|███▏      | 984/3036 [1:19:50<2:14:21,  3.93s/it]"
     ]
    },
    {
     "name": "stdout",
     "output_type": "stream",
     "text": [
      "Skipped: https://vbpl.vn/TW/Pages/vbpq-toanvan.aspx?ItemID=154791 redirected to https://vbpl.vn/tw/Pages/vbpq-van-ban-goc.aspx?dvid=13&ItemID=154791\n"
     ]
    },
    {
     "name": "stderr",
     "output_type": "stream",
     "text": [
      "Retrieving HTML documents:  33%|███▎      | 996/3036 [1:20:48<2:24:04,  4.24s/it]"
     ]
    },
    {
     "name": "stdout",
     "output_type": "stream",
     "text": [
      "Skipped: https://vbpl.vn/TW/Pages/vbpq-toanvan.aspx?ItemID=154331 redirected to https://vbpl.vn/tw/Pages/vbpq-van-ban-goc.aspx?dvid=13&ItemID=154331\n"
     ]
    },
    {
     "name": "stderr",
     "output_type": "stream",
     "text": [
      "Retrieving HTML documents:  33%|███▎      | 999/3036 [1:21:00<2:12:46,  3.91s/it]"
     ]
    },
    {
     "name": "stdout",
     "output_type": "stream",
     "text": [
      "Skipped: https://vbpl.vn/TW/Pages/vbpq-toanvan.aspx?ItemID=135955 redirected to https://vbpl.vn/tw/Pages/vbpq-van-ban-goc.aspx?dvid=13&ItemID=135955\n"
     ]
    },
    {
     "name": "stderr",
     "output_type": "stream",
     "text": [
      "Retrieving HTML documents:  33%|███▎      | 1003/3036 [1:21:18<2:17:57,  4.07s/it]"
     ]
    },
    {
     "name": "stdout",
     "output_type": "stream",
     "text": [
      "Skipped: https://vbpl.vn/TW/Pages/vbpq-toanvan.aspx?ItemID=142740 redirected to https://vbpl.vn/tw/Pages/vbpq-van-ban-goc.aspx?dvid=13&ItemID=142740\n"
     ]
    },
    {
     "name": "stderr",
     "output_type": "stream",
     "text": [
      "Retrieving HTML documents:  33%|███▎      | 1006/3036 [1:21:30<2:13:20,  3.94s/it]"
     ]
    },
    {
     "name": "stdout",
     "output_type": "stream",
     "text": [
      "Skipped: https://vbpl.vn/TW/Pages/vbpq-toanvan.aspx?ItemID=101872 redirected to https://vbpl.vn/tw/Pages/vbpq-van-ban-goc.aspx?dvid=13&ItemID=101872\n"
     ]
    },
    {
     "name": "stderr",
     "output_type": "stream",
     "text": [
      "Retrieving HTML documents:  33%|███▎      | 1012/3036 [1:21:56<2:11:40,  3.90s/it]"
     ]
    },
    {
     "name": "stdout",
     "output_type": "stream",
     "text": [
      "Skipped: https://vbpl.vn/TW/Pages/vbpq-toanvan.aspx?ItemID=166095 redirected to https://vbpl.vn/tw/Pages/vbpq-van-ban-goc.aspx?dvid=13&ItemID=166095\n"
     ]
    },
    {
     "name": "stderr",
     "output_type": "stream",
     "text": [
      "Retrieving HTML documents:  33%|███▎      | 1014/3036 [1:22:04<2:10:43,  3.88s/it]"
     ]
    },
    {
     "name": "stdout",
     "output_type": "stream",
     "text": [
      "Skipped: https://vbpl.vn/TW/Pages/vbpq-toanvan.aspx?ItemID=138875 redirected to https://vbpl.vn/tw/Pages/vbpq-van-ban-goc.aspx?dvid=13&ItemID=138875\n"
     ]
    },
    {
     "name": "stderr",
     "output_type": "stream",
     "text": [
      "Retrieving HTML documents:  33%|███▎      | 1017/3036 [1:22:16<2:05:49,  3.74s/it]"
     ]
    },
    {
     "name": "stdout",
     "output_type": "stream",
     "text": [
      "Skipped: https://vbpl.vn/TW/Pages/vbpq-toanvan.aspx?ItemID=152536 redirected to https://vbpl.vn/tw/Pages/vbpq-van-ban-goc.aspx?dvid=13&ItemID=152536\n"
     ]
    },
    {
     "name": "stderr",
     "output_type": "stream",
     "text": [
      "Retrieving HTML documents:  34%|███▎      | 1018/3036 [1:22:18<1:55:43,  3.44s/it]"
     ]
    },
    {
     "name": "stdout",
     "output_type": "stream",
     "text": [
      "Skipped: https://vbpl.vn/TW/Pages/vbpq-toanvan.aspx?ItemID=148221 redirected to https://vbpl.vn/tw/Pages/vbpq-van-ban-goc.aspx?dvid=13&ItemID=148221\n"
     ]
    },
    {
     "name": "stderr",
     "output_type": "stream",
     "text": [
      "Retrieving HTML documents:  34%|███▎      | 1020/3036 [1:22:27<2:07:55,  3.81s/it]"
     ]
    },
    {
     "name": "stdout",
     "output_type": "stream",
     "text": [
      "Skipped: https://vbpl.vn/TW/Pages/vbpq-toanvan.aspx?ItemID=150991 redirected to https://vbpl.vn/tw/Pages/vbpq-van-ban-goc.aspx?dvid=13&ItemID=150991\n"
     ]
    },
    {
     "name": "stderr",
     "output_type": "stream",
     "text": [
      "Retrieving HTML documents:  34%|███▎      | 1023/3036 [1:22:40<2:08:46,  3.84s/it]"
     ]
    },
    {
     "name": "stdout",
     "output_type": "stream",
     "text": [
      "Skipped: https://vbpl.vn/TW/Pages/vbpq-toanvan.aspx?ItemID=128895 redirected to https://vbpl.vn/tw/Pages/vbpq-van-ban-goc.aspx?dvid=13&ItemID=128895\n"
     ]
    },
    {
     "name": "stderr",
     "output_type": "stream",
     "text": [
      "Retrieving HTML documents:  34%|███▍      | 1030/3036 [1:23:13<2:26:17,  4.38s/it]"
     ]
    },
    {
     "name": "stdout",
     "output_type": "stream",
     "text": [
      "Skipped: https://vbpl.vn/TW/Pages/vbpq-toanvan.aspx?ItemID=139278 redirected to https://vbpl.vn/tw/Pages/vbpq-van-ban-goc.aspx?dvid=13&ItemID=139278\n"
     ]
    },
    {
     "name": "stderr",
     "output_type": "stream",
     "text": [
      "Retrieving HTML documents:  35%|███▍      | 1050/3036 [1:24:50<2:49:47,  5.13s/it]"
     ]
    },
    {
     "name": "stdout",
     "output_type": "stream",
     "text": [
      "Skipped: https://vbpl.vn/TW/Pages/vbpq-toanvan.aspx?ItemID=156031 redirected to https://vbpl.vn/tw/Pages/vbpq-van-ban-goc.aspx?dvid=13&ItemID=156031\n"
     ]
    },
    {
     "name": "stderr",
     "output_type": "stream",
     "text": [
      "Retrieving HTML documents:  35%|███▍      | 1057/3036 [1:25:23<2:27:44,  4.48s/it]"
     ]
    },
    {
     "name": "stdout",
     "output_type": "stream",
     "text": [
      "Skipped: https://vbpl.vn/TW/Pages/vbpq-toanvan.aspx?ItemID=139953 redirected to https://vbpl.vn/tw/Pages/vbpq-van-ban-goc.aspx?dvid=13&ItemID=139953\n"
     ]
    },
    {
     "name": "stderr",
     "output_type": "stream",
     "text": [
      "Retrieving HTML documents:  35%|███▍      | 1061/3036 [1:25:40<2:14:14,  4.08s/it]"
     ]
    },
    {
     "name": "stdout",
     "output_type": "stream",
     "text": [
      "Skipped: https://vbpl.vn/TW/Pages/vbpq-toanvan.aspx?ItemID=135066 redirected to https://vbpl.vn/tw/Pages/vbpq-van-ban-goc.aspx?dvid=13&ItemID=135066\n"
     ]
    },
    {
     "name": "stderr",
     "output_type": "stream",
     "text": [
      "Retrieving HTML documents:  36%|███▌      | 1078/3036 [1:26:56<2:18:19,  4.24s/it]"
     ]
    },
    {
     "name": "stdout",
     "output_type": "stream",
     "text": [
      "Skipped: https://vbpl.vn/TW/Pages/vbpq-toanvan.aspx?ItemID=151074 redirected to https://vbpl.vn/tw/Pages/vbpq-van-ban-goc.aspx?dvid=13&ItemID=151074\n"
     ]
    },
    {
     "name": "stderr",
     "output_type": "stream",
     "text": [
      "Retrieving HTML documents:  36%|███▌      | 1080/3036 [1:27:05<2:13:13,  4.09s/it]"
     ]
    },
    {
     "name": "stdout",
     "output_type": "stream",
     "text": [
      "Skipped: https://vbpl.vn/TW/Pages/vbpq-toanvan.aspx?ItemID=159636 redirected to https://vbpl.vn/tw/Pages/vbpq-van-ban-goc.aspx?dvid=13&ItemID=159636\n"
     ]
    },
    {
     "name": "stderr",
     "output_type": "stream",
     "text": [
      "Retrieving HTML documents:  36%|███▋      | 1101/3036 [1:28:52<2:20:31,  4.36s/it]"
     ]
    },
    {
     "name": "stdout",
     "output_type": "stream",
     "text": [
      "Skipped: https://vbpl.vn/TW/Pages/vbpq-toanvan.aspx?ItemID=150678 redirected to https://vbpl.vn/tw/Pages/vbpq-van-ban-goc.aspx?dvid=13&ItemID=150678\n"
     ]
    },
    {
     "name": "stderr",
     "output_type": "stream",
     "text": [
      "Retrieving HTML documents:  36%|███▋      | 1103/3036 [1:29:01<2:18:47,  4.31s/it]"
     ]
    },
    {
     "name": "stdout",
     "output_type": "stream",
     "text": [
      "Skipped: https://vbpl.vn/TW/Pages/vbpq-toanvan.aspx?ItemID=128205 redirected to https://vbpl.vn/tw/Pages/vbpq-van-ban-goc.aspx?dvid=13&ItemID=128205\n"
     ]
    },
    {
     "name": "stderr",
     "output_type": "stream",
     "text": [
      "Retrieving HTML documents:  36%|███▋      | 1107/3036 [1:29:18<2:09:23,  4.02s/it]"
     ]
    },
    {
     "name": "stdout",
     "output_type": "stream",
     "text": [
      "Skipped: https://vbpl.vn/TW/Pages/vbpq-toanvan.aspx?ItemID=139090 redirected to https://vbpl.vn/tw/Pages/vbpq-van-ban-goc.aspx?dvid=13&ItemID=139090\n"
     ]
    },
    {
     "name": "stderr",
     "output_type": "stream",
     "text": [
      "Retrieving HTML documents:  37%|███▋      | 1110/3036 [1:29:31<2:09:11,  4.02s/it]"
     ]
    },
    {
     "name": "stdout",
     "output_type": "stream",
     "text": [
      "Skipped: https://vbpl.vn/TW/Pages/vbpq-toanvan.aspx?ItemID=156987 redirected to https://vbpl.vn/tw/Pages/vbpq-van-ban-goc.aspx?dvid=13&ItemID=156987\n"
     ]
    },
    {
     "name": "stderr",
     "output_type": "stream",
     "text": [
      "Retrieving HTML documents:  37%|███▋      | 1121/3036 [1:30:23<2:18:40,  4.34s/it]"
     ]
    },
    {
     "name": "stdout",
     "output_type": "stream",
     "text": [
      "Skipped: https://vbpl.vn/TW/Pages/vbpq-toanvan.aspx?ItemID=135367 redirected to https://vbpl.vn/tw/Pages/vbpq-van-ban-goc.aspx?dvid=13&ItemID=135367\n"
     ]
    },
    {
     "name": "stderr",
     "output_type": "stream",
     "text": [
      "Retrieving HTML documents:  37%|███▋      | 1122/3036 [1:30:25<2:04:01,  3.89s/it]"
     ]
    },
    {
     "name": "stdout",
     "output_type": "stream",
     "text": [
      "Skipped: https://vbpl.vn/TW/Pages/vbpq-toanvan.aspx?ItemID=151163 redirected to https://vbpl.vn/tw/Pages/vbpq-van-ban-goc.aspx?dvid=13&ItemID=151163\n"
     ]
    },
    {
     "name": "stderr",
     "output_type": "stream",
     "text": [
      "Retrieving HTML documents:  37%|███▋      | 1129/3036 [1:30:58<2:17:09,  4.32s/it]"
     ]
    },
    {
     "name": "stdout",
     "output_type": "stream",
     "text": [
      "Skipped: https://vbpl.vn/TW/Pages/vbpq-toanvan.aspx?ItemID=123288 redirected to https://vbpl.vn/tw/Pages/vbpq-van-ban-goc.aspx?dvid=13&ItemID=123288\n"
     ]
    },
    {
     "name": "stderr",
     "output_type": "stream",
     "text": [
      "Retrieving HTML documents:  37%|███▋      | 1134/3036 [1:31:22<2:14:19,  4.24s/it]"
     ]
    },
    {
     "name": "stdout",
     "output_type": "stream",
     "text": [
      "Skipped: https://vbpl.vn/TW/Pages/vbpq-toanvan.aspx?ItemID=160699 redirected to https://vbpl.vn/tw/Pages/vbpq-van-ban-goc.aspx?dvid=13&ItemID=160699\n"
     ]
    },
    {
     "name": "stderr",
     "output_type": "stream",
     "text": [
      "Retrieving HTML documents:  37%|███▋      | 1135/3036 [1:31:25<2:05:48,  3.97s/it]"
     ]
    },
    {
     "name": "stdout",
     "output_type": "stream",
     "text": [
      "Skipped: https://vbpl.vn/TW/Pages/vbpq-toanvan.aspx?ItemID=114470 redirected to https://vbpl.vn/tw/Pages/vbpq-van-ban-goc.aspx?dvid=13&ItemID=114470\n"
     ]
    },
    {
     "name": "stderr",
     "output_type": "stream",
     "text": [
      "Retrieving HTML documents:  38%|███▊      | 1145/3036 [1:32:07<1:57:45,  3.74s/it]"
     ]
    },
    {
     "name": "stdout",
     "output_type": "stream",
     "text": [
      "Skipped: https://vbpl.vn/TW/Pages/vbpq-toanvan.aspx?ItemID=151159 redirected to https://vbpl.vn/tw/Pages/vbpq-van-ban-goc.aspx?dvid=13&ItemID=151159\n"
     ]
    },
    {
     "name": "stderr",
     "output_type": "stream",
     "text": [
      "Retrieving HTML documents:  38%|███▊      | 1154/3036 [1:32:45<2:03:01,  3.92s/it]"
     ]
    },
    {
     "name": "stdout",
     "output_type": "stream",
     "text": [
      "Skipped: https://vbpl.vn/TW/Pages/vbpq-toanvan.aspx?ItemID=147066 redirected to https://vbpl.vn/tw/Pages/vbpq-van-ban-goc.aspx?dvid=13&ItemID=147066\n"
     ]
    },
    {
     "name": "stderr",
     "output_type": "stream",
     "text": [
      "Retrieving HTML documents:  38%|███▊      | 1155/3036 [1:32:48<1:51:36,  3.56s/it]"
     ]
    },
    {
     "name": "stdout",
     "output_type": "stream",
     "text": [
      "Skipped: https://vbpl.vn/TW/Pages/vbpq-toanvan.aspx?ItemID=147122 redirected to https://vbpl.vn/tw/Pages/vbpq-van-ban-goc.aspx?dvid=13&ItemID=147122\n"
     ]
    },
    {
     "name": "stderr",
     "output_type": "stream",
     "text": [
      "Retrieving HTML documents:  39%|███▊      | 1171/3036 [1:34:03<2:09:08,  4.15s/it]"
     ]
    },
    {
     "name": "stdout",
     "output_type": "stream",
     "text": [
      "Skipped: https://vbpl.vn/TW/Pages/vbpq-toanvan.aspx?ItemID=152524 redirected to https://vbpl.vn/tw/Pages/vbpq-van-ban-goc.aspx?dvid=13&ItemID=152524\n"
     ]
    },
    {
     "name": "stderr",
     "output_type": "stream",
     "text": [
      "Retrieving HTML documents:  39%|███▉      | 1178/3036 [1:34:34<2:07:12,  4.11s/it]"
     ]
    },
    {
     "name": "stdout",
     "output_type": "stream",
     "text": [
      "Skipped: https://vbpl.vn/TW/Pages/vbpq-toanvan.aspx?ItemID=118636 redirected to https://vbpl.vn/tw/Pages/vbpq-van-ban-goc.aspx?dvid=13&ItemID=118636\n"
     ]
    },
    {
     "name": "stderr",
     "output_type": "stream",
     "text": [
      "Retrieving HTML documents:  39%|███▉      | 1181/3036 [1:34:47<2:08:26,  4.15s/it]"
     ]
    },
    {
     "name": "stdout",
     "output_type": "stream",
     "text": [
      "Skipped: https://vbpl.vn/TW/Pages/vbpq-toanvan.aspx?ItemID=129894 redirected to https://vbpl.vn/tw/Pages/vbpq-van-ban-goc.aspx?dvid=13&ItemID=129894\n"
     ]
    },
    {
     "name": "stderr",
     "output_type": "stream",
     "text": [
      "Retrieving HTML documents:  39%|███▉      | 1183/3036 [1:34:55<2:00:21,  3.90s/it]"
     ]
    },
    {
     "name": "stdout",
     "output_type": "stream",
     "text": [
      "Skipped: https://vbpl.vn/TW/Pages/vbpq-toanvan.aspx?ItemID=119166 redirected to https://vbpl.vn/tw/Pages/vbpq-van-ban-goc.aspx?dvid=13&ItemID=119166\n"
     ]
    },
    {
     "name": "stderr",
     "output_type": "stream",
     "text": [
      "Retrieving HTML documents:  39%|███▉      | 1184/3036 [1:34:58<1:48:47,  3.52s/it]"
     ]
    },
    {
     "name": "stdout",
     "output_type": "stream",
     "text": [
      "Skipped: https://vbpl.vn/TW/Pages/vbpq-toanvan.aspx?ItemID=113460 redirected to https://vbpl.vn/tw/Pages/vbpq-van-ban-goc.aspx?dvid=13&ItemID=113460\n"
     ]
    },
    {
     "name": "stderr",
     "output_type": "stream",
     "text": [
      "Retrieving HTML documents:  39%|███▉      | 1194/3036 [1:35:45<2:09:34,  4.22s/it]"
     ]
    },
    {
     "name": "stdout",
     "output_type": "stream",
     "text": [
      "Skipped: https://vbpl.vn/TW/Pages/vbpq-toanvan.aspx?ItemID=135587 redirected to https://vbpl.vn/tw/Pages/vbpq-van-ban-goc.aspx?dvid=13&ItemID=135587\n"
     ]
    },
    {
     "name": "stderr",
     "output_type": "stream",
     "text": [
      "Retrieving HTML documents:  40%|███▉      | 1200/3036 [1:36:14<2:13:39,  4.37s/it]"
     ]
    },
    {
     "name": "stdout",
     "output_type": "stream",
     "text": [
      "Skipped: https://vbpl.vn/TW/Pages/vbpq-toanvan.aspx?ItemID=128671 redirected to https://vbpl.vn/tw/Pages/vbpq-van-ban-goc.aspx?dvid=13&ItemID=128671\n"
     ]
    },
    {
     "name": "stderr",
     "output_type": "stream",
     "text": [
      "Retrieving HTML documents:  40%|███▉      | 1205/3036 [1:36:36<2:08:46,  4.22s/it]"
     ]
    },
    {
     "name": "stdout",
     "output_type": "stream",
     "text": [
      "Skipped: https://vbpl.vn/TW/Pages/vbpq-toanvan.aspx?ItemID=165029 redirected to https://vbpl.vn/tw/Pages/vbpq-van-ban-goc.aspx?dvid=13&ItemID=165029\n"
     ]
    },
    {
     "name": "stderr",
     "output_type": "stream",
     "text": [
      "Retrieving HTML documents:  40%|███▉      | 1214/3036 [1:37:18<2:04:44,  4.11s/it]"
     ]
    },
    {
     "name": "stdout",
     "output_type": "stream",
     "text": [
      "Skipped: https://vbpl.vn/TW/Pages/vbpq-toanvan.aspx?ItemID=137802 redirected to https://vbpl.vn/tw/Pages/vbpq-van-ban-goc.aspx?dvid=13&ItemID=137802\n"
     ]
    },
    {
     "name": "stderr",
     "output_type": "stream",
     "text": [
      "Retrieving HTML documents:  40%|████      | 1221/3036 [1:37:50<2:11:32,  4.35s/it]"
     ]
    },
    {
     "name": "stdout",
     "output_type": "stream",
     "text": [
      "Skipped: https://vbpl.vn/TW/Pages/vbpq-toanvan.aspx?ItemID=134206 redirected to https://vbpl.vn/tw/Pages/vbpq-van-ban-goc.aspx?dvid=13&ItemID=134206\n"
     ]
    },
    {
     "name": "stderr",
     "output_type": "stream",
     "text": [
      "Retrieving HTML documents:  40%|████      | 1228/3036 [1:38:23<2:05:20,  4.16s/it]"
     ]
    },
    {
     "name": "stdout",
     "output_type": "stream",
     "text": [
      "Skipped: https://vbpl.vn/TW/Pages/vbpq-toanvan.aspx?ItemID=148042 redirected to https://vbpl.vn/tw/Pages/vbpq-van-ban-goc.aspx?dvid=13&ItemID=148042\n"
     ]
    },
    {
     "name": "stderr",
     "output_type": "stream",
     "text": [
      "Retrieving HTML documents:  41%|████      | 1231/3036 [1:38:36<2:02:24,  4.07s/it]"
     ]
    },
    {
     "name": "stdout",
     "output_type": "stream",
     "text": [
      "Skipped: https://vbpl.vn/TW/Pages/vbpq-toanvan.aspx?ItemID=139890 redirected to https://vbpl.vn/tw/Pages/vbpq-van-ban-goc.aspx?dvid=13&ItemID=139890\n"
     ]
    },
    {
     "name": "stderr",
     "output_type": "stream",
     "text": [
      "Retrieving HTML documents:  41%|████      | 1237/3036 [1:39:02<2:04:06,  4.14s/it]"
     ]
    },
    {
     "name": "stdout",
     "output_type": "stream",
     "text": [
      "Skipped: https://vbpl.vn/TW/Pages/vbpq-toanvan.aspx?ItemID=149068 redirected to https://vbpl.vn/tw/Pages/vbpq-van-ban-goc.aspx?dvid=13&ItemID=149068\n"
     ]
    },
    {
     "name": "stderr",
     "output_type": "stream",
     "text": [
      "Retrieving HTML documents:  41%|████      | 1238/3036 [1:39:05<1:55:39,  3.86s/it]"
     ]
    },
    {
     "name": "stdout",
     "output_type": "stream",
     "text": [
      "Skipped: https://vbpl.vn/TW/Pages/vbpq-toanvan.aspx?ItemID=107361 redirected to https://vbpl.vn/tw/Pages/vbpq-van-ban-goc.aspx?dvid=13&ItemID=107361\n"
     ]
    },
    {
     "name": "stderr",
     "output_type": "stream",
     "text": [
      "Retrieving HTML documents:  41%|████      | 1244/3036 [1:39:35<2:08:50,  4.31s/it]"
     ]
    },
    {
     "name": "stdout",
     "output_type": "stream",
     "text": [
      "Skipped: https://vbpl.vn/TW/Pages/vbpq-toanvan.aspx?ItemID=142739 redirected to https://vbpl.vn/tw/Pages/vbpq-van-ban-goc.aspx?dvid=13&ItemID=142739\n"
     ]
    },
    {
     "name": "stderr",
     "output_type": "stream",
     "text": [
      "Retrieving HTML documents:  41%|████      | 1251/3036 [1:40:07<2:03:46,  4.16s/it]"
     ]
    },
    {
     "name": "stdout",
     "output_type": "stream",
     "text": [
      "Skipped: https://vbpl.vn/TW/Pages/vbpq-toanvan.aspx?ItemID=141891 redirected to https://vbpl.vn/tw/Pages/vbpq-van-ban-goc.aspx?dvid=13&ItemID=141891\n"
     ]
    },
    {
     "name": "stderr",
     "output_type": "stream",
     "text": [
      "Retrieving HTML documents:  41%|████▏     | 1253/3036 [1:40:14<1:56:48,  3.93s/it]"
     ]
    },
    {
     "name": "stdout",
     "output_type": "stream",
     "text": [
      "Skipped: https://vbpl.vn/TW/Pages/vbpq-toanvan.aspx?ItemID=151169 redirected to https://vbpl.vn/tw/Pages/vbpq-van-ban-goc.aspx?dvid=13&ItemID=151169\n"
     ]
    },
    {
     "name": "stderr",
     "output_type": "stream",
     "text": [
      "Retrieving HTML documents:  42%|████▏     | 1261/3036 [1:40:50<2:01:27,  4.11s/it]"
     ]
    },
    {
     "name": "stdout",
     "output_type": "stream",
     "text": [
      "Skipped: https://vbpl.vn/TW/Pages/vbpq-toanvan.aspx?ItemID=110894 redirected to https://vbpl.vn/tw/Pages/vbpq-van-ban-goc.aspx?dvid=13&ItemID=110894\n"
     ]
    },
    {
     "name": "stderr",
     "output_type": "stream",
     "text": [
      "Retrieving HTML documents:  42%|████▏     | 1269/3036 [1:41:30<2:09:08,  4.39s/it]"
     ]
    },
    {
     "name": "stdout",
     "output_type": "stream",
     "text": [
      "Skipped: https://vbpl.vn/TW/Pages/vbpq-toanvan.aspx?ItemID=159630 redirected to https://vbpl.vn/tw/Pages/vbpq-van-ban-goc.aspx?dvid=13&ItemID=159630\n"
     ]
    },
    {
     "name": "stderr",
     "output_type": "stream",
     "text": [
      "Retrieving HTML documents:  42%|████▏     | 1290/3036 [1:43:05<2:10:04,  4.47s/it]"
     ]
    },
    {
     "name": "stdout",
     "output_type": "stream",
     "text": [
      "Skipped: https://vbpl.vn/TW/Pages/vbpq-toanvan.aspx?ItemID=101890 redirected to https://vbpl.vn/tw/Pages/vbpq-van-ban-goc.aspx?dvid=13&ItemID=101890\n"
     ]
    },
    {
     "name": "stderr",
     "output_type": "stream",
     "text": [
      "Retrieving HTML documents:  43%|████▎     | 1293/3036 [1:43:17<1:53:02,  3.89s/it]"
     ]
    },
    {
     "name": "stdout",
     "output_type": "stream",
     "text": [
      "Skipped: https://vbpl.vn/TW/Pages/vbpq-toanvan.aspx?ItemID=123028 redirected to https://vbpl.vn/tw/Pages/vbpq-van-ban-goc.aspx?dvid=13&ItemID=123028\n"
     ]
    },
    {
     "name": "stderr",
     "output_type": "stream",
     "text": [
      "Retrieving HTML documents:  43%|████▎     | 1299/3036 [1:43:43<1:56:56,  4.04s/it]"
     ]
    },
    {
     "name": "stdout",
     "output_type": "stream",
     "text": [
      "Skipped: https://vbpl.vn/TW/Pages/vbpq-toanvan.aspx?ItemID=147597 redirected to https://vbpl.vn/tw/Pages/vbpq-van-ban-goc.aspx?dvid=13&ItemID=147597\n"
     ]
    },
    {
     "name": "stderr",
     "output_type": "stream",
     "text": [
      "Retrieving HTML documents:  44%|████▎     | 1328/3036 [1:46:11<2:07:22,  4.47s/it]"
     ]
    },
    {
     "name": "stdout",
     "output_type": "stream",
     "text": [
      "Skipped: https://vbpl.vn/TW/Pages/vbpq-toanvan.aspx?ItemID=118866 redirected to https://vbpl.vn/tw/Pages/vbpq-van-ban-goc.aspx?dvid=13&ItemID=118866\n"
     ]
    },
    {
     "name": "stderr",
     "output_type": "stream",
     "text": [
      "Retrieving HTML documents:  44%|████▍     | 1349/3036 [1:47:50<1:55:56,  4.12s/it]"
     ]
    },
    {
     "name": "stdout",
     "output_type": "stream",
     "text": [
      "Skipped: https://vbpl.vn/TW/Pages/vbpq-toanvan.aspx?ItemID=136140 redirected to https://vbpl.vn/tw/Pages/vbpq-van-ban-goc.aspx?dvid=13&ItemID=136140\n"
     ]
    },
    {
     "name": "stderr",
     "output_type": "stream",
     "text": [
      "Retrieving HTML documents:  44%|████▍     | 1351/3036 [1:47:57<1:48:57,  3.88s/it]"
     ]
    },
    {
     "name": "stdout",
     "output_type": "stream",
     "text": [
      "Skipped: https://vbpl.vn/TW/Pages/vbpq-toanvan.aspx?ItemID=162263 redirected to https://vbpl.vn/tw/Pages/vbpq-van-ban-goc.aspx?dvid=13&ItemID=162263\n"
     ]
    },
    {
     "name": "stderr",
     "output_type": "stream",
     "text": [
      "Retrieving HTML documents:  45%|████▍     | 1363/3036 [1:48:55<2:04:12,  4.45s/it]"
     ]
    },
    {
     "name": "stdout",
     "output_type": "stream",
     "text": [
      "Skipped: https://vbpl.vn/TW/Pages/vbpq-toanvan.aspx?ItemID=146776 redirected to https://vbpl.vn/tw/Pages/vbpq-van-ban-goc.aspx?dvid=13&ItemID=146776\n"
     ]
    },
    {
     "name": "stderr",
     "output_type": "stream",
     "text": [
      "Retrieving HTML documents:  45%|████▌     | 1368/3036 [1:49:29<3:27:26,  7.46s/it]"
     ]
    },
    {
     "name": "stdout",
     "output_type": "stream",
     "text": [
      "Error fetching https://vbpl.vn/TW/Pages/vbpq-toanvan.aspx?ItemID=118869: HTTPSConnectionPool(host='vbpl.vn', port=443): Read timed out. (read timeout=10)\n"
     ]
    },
    {
     "name": "stderr",
     "output_type": "stream",
     "text": [
      "Retrieving HTML documents:  45%|████▌     | 1369/3036 [1:49:40<3:55:39,  8.48s/it]"
     ]
    },
    {
     "name": "stdout",
     "output_type": "stream",
     "text": [
      "Error fetching https://vbpl.vn/TW/Pages/vbpq-toanvan.aspx?ItemID=32539: HTTPSConnectionPool(host='vbpl.vn', port=443): Read timed out. (read timeout=10)\n"
     ]
    },
    {
     "name": "stderr",
     "output_type": "stream",
     "text": [
      "Retrieving HTML documents:  45%|████▌     | 1370/3036 [1:49:51<4:16:00,  9.22s/it]"
     ]
    },
    {
     "name": "stdout",
     "output_type": "stream",
     "text": [
      "Error fetching https://vbpl.vn/TW/Pages/vbpq-toanvan.aspx?ItemID=96229: HTTPSConnectionPool(host='vbpl.vn', port=443): Read timed out. (read timeout=10)\n"
     ]
    },
    {
     "name": "stderr",
     "output_type": "stream",
     "text": [
      "Retrieving HTML documents:  45%|████▌     | 1377/3036 [1:50:24<2:09:03,  4.67s/it]"
     ]
    },
    {
     "name": "stdout",
     "output_type": "stream",
     "text": [
      "Skipped: https://vbpl.vn/TW/Pages/vbpq-toanvan.aspx?ItemID=112301 redirected to https://vbpl.vn/tw/Pages/vbpq-van-ban-goc.aspx?dvid=13&ItemID=112301\n"
     ]
    },
    {
     "name": "stderr",
     "output_type": "stream",
     "text": [
      "Retrieving HTML documents:  46%|████▌     | 1385/3036 [1:51:02<1:57:29,  4.27s/it]"
     ]
    },
    {
     "name": "stdout",
     "output_type": "stream",
     "text": [
      "Skipped: https://vbpl.vn/TW/Pages/vbpq-toanvan.aspx?ItemID=139880 redirected to https://vbpl.vn/tw/Pages/vbpq-van-ban-goc.aspx?dvid=13&ItemID=139880\n"
     ]
    },
    {
     "name": "stderr",
     "output_type": "stream",
     "text": [
      "Retrieving HTML documents:  46%|████▌     | 1395/3036 [1:51:47<1:50:42,  4.05s/it]"
     ]
    },
    {
     "name": "stdout",
     "output_type": "stream",
     "text": [
      "Skipped: https://vbpl.vn/TW/Pages/vbpq-toanvan.aspx?ItemID=118671 redirected to https://vbpl.vn/tw/Pages/vbpq-van-ban-goc.aspx?dvid=13&ItemID=118671\n"
     ]
    },
    {
     "name": "stderr",
     "output_type": "stream",
     "text": [
      "Retrieving HTML documents:  46%|████▌     | 1399/3036 [1:52:04<1:48:05,  3.96s/it]"
     ]
    },
    {
     "name": "stdout",
     "output_type": "stream",
     "text": [
      "Skipped: https://vbpl.vn/TW/Pages/vbpq-toanvan.aspx?ItemID=153567 redirected to https://vbpl.vn/tw/Pages/vbpq-van-ban-goc.aspx?dvid=13&ItemID=153567\n"
     ]
    },
    {
     "name": "stderr",
     "output_type": "stream",
     "text": [
      "Retrieving HTML documents:  46%|████▋     | 1408/3036 [1:52:48<1:57:43,  4.34s/it]"
     ]
    },
    {
     "name": "stdout",
     "output_type": "stream",
     "text": [
      "Skipped: https://vbpl.vn/TW/Pages/vbpq-toanvan.aspx?ItemID=142715 redirected to https://vbpl.vn/tw/Pages/vbpq-van-ban-goc.aspx?dvid=13&ItemID=142715\n"
     ]
    },
    {
     "name": "stderr",
     "output_type": "stream",
     "text": [
      "Retrieving HTML documents:  46%|████▋     | 1410/3036 [1:52:56<1:49:40,  4.05s/it]"
     ]
    },
    {
     "name": "stdout",
     "output_type": "stream",
     "text": [
      "Skipped: https://vbpl.vn/TW/Pages/vbpq-toanvan.aspx?ItemID=163736 redirected to https://vbpl.vn/tw/Pages/vbpq-van-ban-goc.aspx?dvid=13&ItemID=163736\n"
     ]
    },
    {
     "name": "stderr",
     "output_type": "stream",
     "text": [
      "Retrieving HTML documents:  47%|████▋     | 1422/3036 [1:54:00<2:08:36,  4.78s/it]"
     ]
    },
    {
     "name": "stdout",
     "output_type": "stream",
     "text": [
      "Skipped: https://vbpl.vn/TW/Pages/vbpq-toanvan.aspx?ItemID=134563 redirected to https://vbpl.vn/tw/Pages/vbpq-van-ban-goc.aspx?dvid=13&ItemID=134563\n"
     ]
    },
    {
     "name": "stderr",
     "output_type": "stream",
     "text": [
      "Retrieving HTML documents:  47%|████▋     | 1425/3036 [1:54:13<1:55:21,  4.30s/it]"
     ]
    },
    {
     "name": "stdout",
     "output_type": "stream",
     "text": [
      "Skipped: https://vbpl.vn/TW/Pages/vbpq-toanvan.aspx?ItemID=147005 redirected to https://vbpl.vn/tw/Pages/vbpq-van-ban-goc.aspx?dvid=13&ItemID=147005\n"
     ]
    },
    {
     "name": "stderr",
     "output_type": "stream",
     "text": [
      "Retrieving HTML documents:  47%|████▋     | 1426/3036 [1:54:16<1:42:32,  3.82s/it]"
     ]
    },
    {
     "name": "stdout",
     "output_type": "stream",
     "text": [
      "Skipped: https://vbpl.vn/TW/Pages/vbpq-toanvan.aspx?ItemID=110954 redirected to https://vbpl.vn/tw/Pages/vbpq-van-ban-goc.aspx?dvid=13&ItemID=110954\n"
     ]
    },
    {
     "name": "stderr",
     "output_type": "stream",
     "text": [
      "Retrieving HTML documents:  47%|████▋     | 1429/3036 [1:54:28<1:43:21,  3.86s/it]"
     ]
    },
    {
     "name": "stdout",
     "output_type": "stream",
     "text": [
      "Skipped: https://vbpl.vn/TW/Pages/vbpq-toanvan.aspx?ItemID=118849 redirected to https://vbpl.vn/tw/Pages/vbpq-van-ban-goc.aspx?dvid=13&ItemID=118849\n"
     ]
    },
    {
     "name": "stderr",
     "output_type": "stream",
     "text": [
      "Retrieving HTML documents:  47%|████▋     | 1436/3036 [1:54:59<1:49:45,  4.12s/it]"
     ]
    },
    {
     "name": "stdout",
     "output_type": "stream",
     "text": [
      "Skipped: https://vbpl.vn/TW/Pages/vbpq-toanvan.aspx?ItemID=111993 redirected to https://vbpl.vn/tw/Pages/vbpq-van-ban-goc.aspx?dvid=13&ItemID=111993\n"
     ]
    },
    {
     "name": "stderr",
     "output_type": "stream",
     "text": [
      "Retrieving HTML documents:  48%|████▊     | 1445/3036 [1:55:41<1:50:59,  4.19s/it]"
     ]
    },
    {
     "name": "stdout",
     "output_type": "stream",
     "text": [
      "Skipped: https://vbpl.vn/TW/Pages/vbpq-toanvan.aspx?ItemID=137417 redirected to https://vbpl.vn/tw/Pages/vbpq-van-ban-goc.aspx?dvid=13&ItemID=137417\n"
     ]
    },
    {
     "name": "stderr",
     "output_type": "stream",
     "text": [
      "Retrieving HTML documents:  48%|████▊     | 1449/3036 [1:55:58<1:48:18,  4.09s/it]"
     ]
    },
    {
     "name": "stdout",
     "output_type": "stream",
     "text": [
      "Skipped: https://vbpl.vn/TW/Pages/vbpq-toanvan.aspx?ItemID=140944 redirected to https://vbpl.vn/tw/Pages/vbpq-van-ban-goc.aspx?dvid=13&ItemID=140944\n"
     ]
    },
    {
     "name": "stderr",
     "output_type": "stream",
     "text": [
      "Retrieving HTML documents:  48%|████▊     | 1451/3036 [1:56:06<1:44:33,  3.96s/it]"
     ]
    },
    {
     "name": "stdout",
     "output_type": "stream",
     "text": [
      "Skipped: https://vbpl.vn/TW/Pages/vbpq-toanvan.aspx?ItemID=110990 redirected to https://vbpl.vn/tw/Pages/vbpq-van-ban-goc.aspx?dvid=13&ItemID=110990\n"
     ]
    },
    {
     "name": "stderr",
     "output_type": "stream",
     "text": [
      "Retrieving HTML documents:  48%|████▊     | 1460/3036 [1:57:04<2:15:59,  5.18s/it]"
     ]
    },
    {
     "name": "stdout",
     "output_type": "stream",
     "text": [
      "Skipped: https://vbpl.vn/TW/Pages/vbpq-toanvan.aspx?ItemID=118659 redirected to https://vbpl.vn/tw/Pages/vbpq-van-ban-goc.aspx?dvid=13&ItemID=118659\n"
     ]
    },
    {
     "name": "stderr",
     "output_type": "stream",
     "text": [
      "Retrieving HTML documents:  49%|████▊     | 1476/3036 [1:58:24<1:49:28,  4.21s/it]"
     ]
    },
    {
     "name": "stdout",
     "output_type": "stream",
     "text": [
      "Skipped: https://vbpl.vn/TW/Pages/vbpq-toanvan.aspx?ItemID=146447 redirected to https://vbpl.vn/tw/Pages/vbpq-van-ban-goc.aspx?dvid=13&ItemID=146447\n"
     ]
    },
    {
     "name": "stderr",
     "output_type": "stream",
     "text": [
      "Retrieving HTML documents:  49%|████▉     | 1484/3036 [1:58:59<1:44:19,  4.03s/it]"
     ]
    },
    {
     "name": "stdout",
     "output_type": "stream",
     "text": [
      "Skipped: https://vbpl.vn/TW/Pages/vbpq-toanvan.aspx?ItemID=133861 redirected to https://vbpl.vn/tw/Pages/vbpq-van-ban-goc.aspx?dvid=13&ItemID=133861\n"
     ]
    },
    {
     "name": "stderr",
     "output_type": "stream",
     "text": [
      "Retrieving HTML documents:  49%|████▉     | 1495/3036 [1:59:50<1:46:50,  4.16s/it]"
     ]
    },
    {
     "name": "stdout",
     "output_type": "stream",
     "text": [
      "Skipped: https://vbpl.vn/TW/Pages/vbpq-toanvan.aspx?ItemID=110924 redirected to https://vbpl.vn/tw/Pages/vbpq-van-ban-goc.aspx?dvid=13&ItemID=110924\n"
     ]
    },
    {
     "name": "stderr",
     "output_type": "stream",
     "text": [
      "Retrieving HTML documents:  49%|████▉     | 1497/3036 [1:59:57<1:37:55,  3.82s/it]"
     ]
    },
    {
     "name": "stdout",
     "output_type": "stream",
     "text": [
      "Skipped: https://vbpl.vn/TW/Pages/vbpq-toanvan.aspx?ItemID=165031 redirected to https://vbpl.vn/tw/Pages/vbpq-van-ban-goc.aspx?dvid=13&ItemID=165031\n"
     ]
    },
    {
     "name": "stderr",
     "output_type": "stream",
     "text": [
      "Retrieving HTML documents:  49%|████▉     | 1499/3036 [2:00:06<1:38:53,  3.86s/it]"
     ]
    },
    {
     "name": "stdout",
     "output_type": "stream",
     "text": [
      "Skipped: https://vbpl.vn/TW/Pages/vbpq-toanvan.aspx?ItemID=144818 redirected to https://vbpl.vn/tw/Pages/vbpq-van-ban-goc.aspx?dvid=13&ItemID=144818\n"
     ]
    },
    {
     "name": "stderr",
     "output_type": "stream",
     "text": [
      "Retrieving HTML documents:  50%|█████     | 1529/3036 [2:02:44<1:40:59,  4.02s/it]"
     ]
    },
    {
     "name": "stdout",
     "output_type": "stream",
     "text": [
      "Skipped: https://vbpl.vn/TW/Pages/vbpq-toanvan.aspx?ItemID=100626 redirected to https://vbpl.vn/tw/Pages/vbpq-van-ban-goc.aspx?dvid=13&ItemID=100626\n"
     ]
    },
    {
     "name": "stderr",
     "output_type": "stream",
     "text": [
      "Retrieving HTML documents:  50%|█████     | 1530/3036 [2:02:47<1:30:52,  3.62s/it]"
     ]
    },
    {
     "name": "stdout",
     "output_type": "stream",
     "text": [
      "Skipped: https://vbpl.vn/TW/Pages/vbpq-toanvan.aspx?ItemID=119187 redirected to https://vbpl.vn/tw/Pages/vbpq-van-ban-goc.aspx?dvid=13&ItemID=119187\n"
     ]
    },
    {
     "name": "stderr",
     "output_type": "stream",
     "text": [
      "Retrieving HTML documents:  50%|█████     | 1531/3036 [2:02:50<1:23:22,  3.32s/it]"
     ]
    },
    {
     "name": "stdout",
     "output_type": "stream",
     "text": [
      "Skipped: https://vbpl.vn/TW/Pages/vbpq-toanvan.aspx?ItemID=146462 redirected to https://vbpl.vn/tw/Pages/vbpq-van-ban-goc.aspx?dvid=13&ItemID=146462\n"
     ]
    },
    {
     "name": "stderr",
     "output_type": "stream",
     "text": [
      "Retrieving HTML documents:  51%|█████     | 1534/3036 [2:03:02<1:34:30,  3.78s/it]"
     ]
    },
    {
     "name": "stdout",
     "output_type": "stream",
     "text": [
      "Skipped: https://vbpl.vn/TW/Pages/vbpq-toanvan.aspx?ItemID=119143 redirected to https://vbpl.vn/tw/Pages/vbpq-van-ban-goc.aspx?dvid=13&ItemID=119143\n"
     ]
    },
    {
     "name": "stderr",
     "output_type": "stream",
     "text": [
      "Retrieving HTML documents:  51%|█████     | 1536/3036 [2:03:09<1:30:08,  3.61s/it]"
     ]
    },
    {
     "name": "stdout",
     "output_type": "stream",
     "text": [
      "Skipped: https://vbpl.vn/TW/Pages/vbpq-toanvan.aspx?ItemID=137425 redirected to https://vbpl.vn/tw/Pages/vbpq-van-ban-goc.aspx?dvid=13&ItemID=137425\n"
     ]
    }
   ],
   "source": [
    "with open(\"vbpl_links.txt\", \"r\", encoding=\"utf-8\") as file:\n",
    "    all_links = file.read().splitlines()\n",
    "    all_ids = [link.split(\"ItemID=\")[1] for link in all_links]\n",
    "\n",
    "# Loop through the IDs and process each\n",
    "for id in tqdm(time_out_ids, desc=\"Retrieving HTML documents\"):\n",
    "    full_url = f\"{f_url}ItemID={id}\"\n",
    "    \n",
    "    # Check for redirection using requests\n",
    "    try:\n",
    "        response = requests.get(full_url, allow_redirects=True, timeout=10)\n",
    "    except Exception as e:\n",
    "        print(f\"Error fetching {full_url}: {e}\")\n",
    "        time_out_ids.append(id)\n",
    "        continue\n",
    "    \n",
    "    # If the final URL after redirection is different, skip this ID\n",
    "    if response.url != full_url:\n",
    "        print(f\"Skipped: {full_url} redirected to {response.url}\")\n",
    "        continue\n",
    "    \n",
    "    # If no redirect is detected, proceed with Selenium scraping\n",
    "    driver.get(full_url)\n",
    "    time.sleep(random.uniform(0.5, 1))\n",
    "    html_content = driver.page_source\n",
    "    \n",
    "    # Save the HTML content to a file\n",
    "    file_path = rf\"D:\\PhapDien_semantic_search\\BoPhapDienDienTu\\vbpl\\full_{id}.html\"\n",
    "    with open(file_path, \"w\", encoding=\"utf-8\") as file:\n",
    "        file.write(html_content)"
   ]
  }
 ],
 "metadata": {
  "kernelspec": {
   "display_name": "phapdienvv",
   "language": "python",
   "name": "python3"
  },
  "language_info": {
   "codemirror_mode": {
    "name": "ipython",
    "version": 3
   },
   "file_extension": ".py",
   "mimetype": "text/x-python",
   "name": "python",
   "nbconvert_exporter": "python",
   "pygments_lexer": "ipython3",
   "version": "3.11.4"
  }
 },
 "nbformat": 4,
 "nbformat_minor": 2
}
