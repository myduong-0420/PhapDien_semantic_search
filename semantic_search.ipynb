{
 "cells": [
  {
   "cell_type": "markdown",
   "metadata": {},
   "source": [
    "semantic search"
   ]
  },
  {
   "cell_type": "markdown",
   "metadata": {},
   "source": [
    "- Write a Python notebook that does semantic search on the vector database and return top k results (use LangChain). Comment on what you observe."
   ]
  },
  {
   "cell_type": "code",
   "execution_count": 3,
   "metadata": {},
   "outputs": [
    {
     "name": "stdout",
     "output_type": "stream",
     "text": [
      "(2, 768)\n"
     ]
    }
   ],
   "source": [
    "from sentence_transformers import SentenceTransformer\n",
    "\n",
    "# INPUT TEXT MUST BE ALREADY WORD-SEGMENTED!\n",
    "sentences = [\"Cô ấy là một người vui_tính .\", \"Cô ấy cười nói suốt cả ngày .\"]\n",
    "\n",
    "model = SentenceTransformer('bkai-foundation-models/vietnamese-bi-encoder')\n",
    "embeddings = model.encode(sentences)\n",
    "print(embeddings.shape)"
   ]
  },
  {
   "cell_type": "code",
   "execution_count": null,
   "metadata": {},
   "outputs": [],
   "source": [
    "# let anchors = document.querySelectorAll(\"a\"); // Select all  tags\n",
    "# let httpHrefs = Array.from(anchors)              // Convert the NodeList to an Array\n",
    "# .map(anchor => anchor.getAttribute(\"href\"))     // Extract the href attribute\n",
    "# .filter(href => href && href.startsWith(\"http\")); // Filter out non-HTTP links"
   ]
  }
 ],
 "metadata": {
  "kernelspec": {
   "display_name": "phapdienvv",
   "language": "python",
   "name": "python3"
  },
  "language_info": {
   "codemirror_mode": {
    "name": "ipython",
    "version": 3
   },
   "file_extension": ".py",
   "mimetype": "text/x-python",
   "name": "python",
   "nbconvert_exporter": "python",
   "pygments_lexer": "ipython3",
   "version": "3.11.4"
  }
 },
 "nbformat": 4,
 "nbformat_minor": 2
}
